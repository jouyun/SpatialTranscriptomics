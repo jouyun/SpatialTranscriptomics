{
 "cells": [
  {
   "cell_type": "code",
   "execution_count": 1,
   "metadata": {},
   "outputs": [],
   "source": [
    "import pandas as pd\n",
    "import sys\n",
    "import os\n",
    "import numpy as np\n",
    "import glob\n",
    "#from Bio.pairwise2 import format_alignment\n",
    "#from Bio import pairwise2\n",
    "#import dask.dataframe as dd\n",
    "#from dask.multiprocessing import get\n",
    "#import swifter\n",
    "from multiprocessing import  Pool\n",
    "import functionsv2 as functions\n",
    "import Levenshtein as lv"
   ]
  },
  {
   "cell_type": "code",
   "execution_count": 2,
   "metadata": {},
   "outputs": [],
   "source": [
    "bridge='TCTTCAGCGTTCCCGAGA'"
   ]
  },
  {
   "cell_type": "code",
   "execution_count": 3,
   "metadata": {},
   "outputs": [],
   "source": [
    "data = 'MouseLiver/'"
   ]
  },
  {
   "cell_type": "markdown",
   "metadata": {},
   "source": [
    "# Get sequenced bead barcodes and positions"
   ]
  },
  {
   "cell_type": "markdown",
   "metadata": {},
   "source": [
    "Load barcode file from Broad"
   ]
  },
  {
   "cell_type": "code",
   "execution_count": 4,
   "metadata": {},
   "outputs": [],
   "source": [
    "barcodes=[]\n",
    "with open('U:/smc/public/SMC/SlideSeq/Pucks/20210218_EvanBatch1/210113_17/BeadBarcodes.txt', 'r') as fh:\n",
    "    lines = []\n",
    "    for f in fh:\n",
    "        filteredChars = ''.join((filter(lambda x: x not in [','], f.rstrip())))\n",
    "        barcodes.append(filteredChars)\n",
    "barcodes=np.asarray(barcodes)"
   ]
  },
  {
   "cell_type": "markdown",
   "metadata": {},
   "source": [
    "Load location file from Broad"
   ]
  },
  {
   "cell_type": "code",
   "execution_count": 5,
   "metadata": {},
   "outputs": [],
   "source": [
    "positions=[]\n",
    "with open('U:/smc/public/SMC/SlideSeq/Pucks/20210218_EvanBatch1/210113_17/BeadLocations.txt', 'r') as fh:\n",
    "    lines = []\n",
    "    for f in fh:\n",
    "        positions.append(f.rstrip().split(','))\n",
    "positions=np.asarray(positions)"
   ]
  },
  {
   "cell_type": "code",
   "execution_count": 6,
   "metadata": {},
   "outputs": [],
   "source": [
    "mapper=np.append(positions, np.reshape(barcodes, [1,barcodes.shape[0]]), axis=0)\n",
    "mapper=np.swapaxes(mapper, 0,1)"
   ]
  },
  {
   "cell_type": "code",
   "execution_count": 7,
   "metadata": {},
   "outputs": [],
   "source": [
    "df=pd.DataFrame(mapper, columns=['X', 'Y', 'Barcode'])"
   ]
  },
  {
   "cell_type": "code",
   "execution_count": 8,
   "metadata": {},
   "outputs": [],
   "source": [
    "df['BridgedBarcode']=df['Barcode'].map(lambda x: x[0:8]+bridge+x[8:])"
   ]
  },
  {
   "cell_type": "code",
   "execution_count": 9,
   "metadata": {},
   "outputs": [
    {
     "data": {
      "text/plain": [
       "X                                           3487.1\n",
       "Y                                           2269.8\n",
       "Barcode                             GCAGCGAACCTCAC\n",
       "BridgedBarcode    GCAGCGAATCTTCAGCGTTCCCGAGACCTCAC\n",
       "Name: 56591, dtype: object"
      ]
     },
     "execution_count": 9,
     "metadata": {},
     "output_type": "execute_result"
    }
   ],
   "source": [
    "df.iloc[56591]"
   ]
  },
  {
   "cell_type": "markdown",
   "metadata": {},
   "source": [
    "# Get all NGS sequences"
   ]
  },
  {
   "cell_type": "code",
   "execution_count": 10,
   "metadata": {},
   "outputs": [],
   "source": [
    "def process(lines=None):\n",
    "    ks = ['name', 'sequence', 'optional', 'quality']\n",
    "    return {k: v for k, v in zip(ks, lines)}"
   ]
  },
  {
   "cell_type": "code",
   "execution_count": 11,
   "metadata": {},
   "outputs": [
    {
     "name": "stdout",
     "output_type": "stream",
     "text": [
      "n_1_1_AGGCAGAA.fastq\n",
      "10000000\n",
      "20000000\n",
      "30000000\n",
      "40000000\n",
      "50000000\n",
      "60000000\n",
      "70000000\n",
      "80000000\n",
      "90000000\n",
      "100000000\n",
      "110000000\n",
      "120000000\n",
      "130000000\n",
      "n_2_1_AGGCAGAA.fastq\n",
      "140000000\n",
      "150000000\n",
      "160000000\n",
      "170000000\n",
      "180000000\n",
      "190000000\n",
      "200000000\n",
      "210000000\n",
      "220000000\n",
      "230000000\n",
      "240000000\n",
      "250000000\n",
      "n_3_1_AGGCAGAA.fastq\n",
      "260000000\n",
      "270000000\n",
      "280000000\n",
      "290000000\n",
      "300000000\n",
      "310000000\n",
      "320000000\n",
      "330000000\n",
      "340000000\n",
      "350000000\n",
      "360000000\n",
      "370000000\n",
      "380000000\n",
      "n_4_1_AGGCAGAA.fastq\n",
      "390000000\n",
      "400000000\n",
      "410000000\n",
      "420000000\n",
      "430000000\n",
      "440000000\n",
      "450000000\n",
      "460000000\n",
      "470000000\n",
      "480000000\n",
      "490000000\n",
      "500000000\n",
      "510000000\n"
     ]
    }
   ],
   "source": [
    "n = 4\n",
    "\n",
    "lst=[]\n",
    "cur=0\n",
    "A=[]\n",
    "B=[]\n",
    "C=[]\n",
    "Names=[]\n",
    "Optionals=[]\n",
    "Qualities=[]\n",
    "C_UMI=[]\n",
    "bridged=0\n",
    "files=['n_1_1_AGGCAGAA.fastq', 'n_2_1_AGGCAGAA.fastq', 'n_3_1_AGGCAGAA.fastq', 'n_4_1_AGGCAGAA.fastq' ]\n",
    "#for f in glob.glob('*1_G*.fastq'):\n",
    "for f in files:\n",
    "    with open(data+f, 'r') as fh:\n",
    "        print(f)\n",
    "        lines = []\n",
    "        for line in fh:\n",
    "            cur=cur+1\n",
    "            if (cur%10000000==0):\n",
    "                print(cur)\n",
    "            lines.append(line.rstrip())\n",
    "            if len(lines) == n:\n",
    "                record = process(lines)\n",
    "                lst.append(len(record['sequence']))\n",
    "                Names.append(record['name'])\n",
    "                Optionals.append(record['optional'])\n",
    "                Qualities.append(record['quality'])\n",
    "                C.append(record['sequence'][0:32])\n",
    "                C_UMI.append(record['sequence'][32:])\n",
    "                lines = []"
   ]
  },
  {
   "cell_type": "code",
   "execution_count": 12,
   "metadata": {},
   "outputs": [],
   "source": [
    "C=np.asarray(C)\n",
    "C_UMI=np.asarray(C_UMI)\n",
    "values, inverter, counts = np.unique(C, return_counts=True, return_inverse=True)"
   ]
  },
  {
   "cell_type": "code",
   "execution_count": 13,
   "metadata": {},
   "outputs": [],
   "source": [
    "pairs=[[s, v] for s,v in zip(values, counts) ]\n",
    "pairs=np.asarray(pairs)"
   ]
  },
  {
   "cell_type": "code",
   "execution_count": 14,
   "metadata": {},
   "outputs": [
    {
     "data": {
      "text/plain": [
       "[(12937066, 2), 129113616]"
      ]
     },
     "execution_count": 14,
     "metadata": {},
     "output_type": "execute_result"
    }
   ],
   "source": [
    "[pairs.shape, len(C)]"
   ]
  },
  {
   "cell_type": "code",
   "execution_count": 15,
   "metadata": {},
   "outputs": [],
   "source": [
    "np.save(data+'pairs.npy', pairs)\n",
    "np.save(data+'reads.npy', C)\n",
    "np.save(data+'read_inverter.npy', inverter)\n",
    "np.save(data+'UMI_reads.npy', C_UMI)"
   ]
  },
  {
   "cell_type": "code",
   "execution_count": 16,
   "metadata": {},
   "outputs": [],
   "source": [
    "np.save(data+'Qualities.npy', np.asarray(Qualities))\n",
    "np.save(data+'Optionals.npy', np.asarray(Optionals))\n",
    "np.save(data+'Names.npy', np.asarray(Names))"
   ]
  },
  {
   "cell_type": "markdown",
   "metadata": {},
   "source": [
    "# Load from existing file"
   ]
  },
  {
   "cell_type": "markdown",
   "metadata": {},
   "source": [
    "Skip here if have already saved the data"
   ]
  },
  {
   "cell_type": "code",
   "execution_count": 10,
   "metadata": {},
   "outputs": [],
   "source": [
    "pairs=np.load(data+'pairs.npy')\n",
    "C=np.load(data+'reads.npy')\n",
    "inverter=np.load(data+'read_inverter.npy')\n",
    "C_UMI=np.load(data+'UMI_reads.npy')"
   ]
  },
  {
   "cell_type": "markdown",
   "metadata": {},
   "source": [
    "# Map spatial reads to barcodes"
   ]
  },
  {
   "cell_type": "markdown",
   "metadata": {},
   "source": [
    "We have to filter somwhere, 100 seems reasonable."
   ]
  },
  {
   "cell_type": "code",
   "execution_count": 11,
   "metadata": {},
   "outputs": [],
   "source": [
    "trimmed_pairs = pairs[pairs[:,1].astype(int)>15]\n"
   ]
  },
  {
   "cell_type": "code",
   "execution_count": 12,
   "metadata": {},
   "outputs": [
    {
     "name": "stdout",
     "output_type": "stream",
     "text": [
      "129113616 12937066 922298 103860864\n"
     ]
    }
   ],
   "source": [
    "print(C.shape[0], pairs.shape[0], trimmed_pairs.shape[0], np.sum(trimmed_pairs[:,1].astype(int)))"
   ]
  },
  {
   "cell_type": "code",
   "execution_count": 13,
   "metadata": {},
   "outputs": [
    {
     "data": {
      "text/plain": [
       "[0.07129112582404697, 0.8044144933559912]"
      ]
     },
     "execution_count": 13,
     "metadata": {},
     "output_type": "execute_result"
    }
   ],
   "source": [
    "[trimmed_pairs.shape[0]/pairs.shape[0], np.sum(trimmed_pairs[:,1].astype(int))/np.sum(pairs[:,1].astype(int))]"
   ]
  },
  {
   "cell_type": "markdown",
   "metadata": {},
   "source": [
    "So by throwing out any spatial reads that don't repeat at least 100 times, we throw out 98% of the uniquely read reads, but only 27% of the total number of reads, can certainly live with this."
   ]
  },
  {
   "cell_type": "markdown",
   "metadata": {},
   "source": [
    "This is the long part, at least 2 hours.  It will try to find the index in BridgedBarcode to match each of our featured trimmed_pairs.  If it fails, will give a -1 in that position."
   ]
  },
  {
   "cell_type": "code",
   "execution_count": 14,
   "metadata": {},
   "outputs": [],
   "source": [
    "#pool_class=functions.My1stClass()\n",
    "pool_class=functions.My3rdClass()\n",
    "pool_class.set_data(df['BridgedBarcode'])\n",
    "lst=list(trimmed_pairs[:,0])\n",
    "pool = Pool()\n",
    "s= (pool.map(pool_class.myfu, (lst)))\n",
    "s=np.asarray(s)"
   ]
  },
  {
   "cell_type": "code",
   "execution_count": 15,
   "metadata": {},
   "outputs": [],
   "source": [
    "np.save(data+'s.npy', s)"
   ]
  },
  {
   "cell_type": "code",
   "execution_count": 16,
   "metadata": {},
   "outputs": [],
   "source": [
    "s = np.load(data+'s.npy')"
   ]
  },
  {
   "cell_type": "code",
   "execution_count": 17,
   "metadata": {},
   "outputs": [
    {
     "data": {
      "text/plain": [
       "0.08981866017910922"
      ]
     },
     "execution_count": 17,
     "metadata": {},
     "output_type": "execute_result"
    }
   ],
   "source": [
    "np.sum(trimmed_pairs[s[:,0]<3][:,1].astype(int))/len(C)"
   ]
  },
  {
   "cell_type": "code",
   "execution_count": 18,
   "metadata": {},
   "outputs": [
    {
     "data": {
      "text/plain": [
       "0.08981866017910922"
      ]
     },
     "execution_count": 18,
     "metadata": {},
     "output_type": "execute_result"
    }
   ],
   "source": [
    "np.sum(trimmed_pairs[s[:,0]<3][:,1].astype(int))/len(C)"
   ]
  },
  {
   "cell_type": "markdown",
   "metadata": {},
   "source": [
    "Wow, 47% of reads now map to a barcode, some of these might be flimsy or incorrect though."
   ]
  },
  {
   "cell_type": "code",
   "execution_count": 19,
   "metadata": {},
   "outputs": [
    {
     "data": {
      "text/plain": [
       "0.28586666666666666"
      ]
     },
     "execution_count": 19,
     "metadata": {},
     "output_type": "execute_result"
    }
   ],
   "source": [
    "np.unique(s[s[:,0]<3,1]).shape[0]/len(df)"
   ]
  },
  {
   "cell_type": "code",
   "execution_count": 20,
   "metadata": {},
   "outputs": [
    {
     "data": {
      "text/plain": [
       "0.28586666666666666"
      ]
     },
     "execution_count": 20,
     "metadata": {},
     "output_type": "execute_result"
    }
   ],
   "source": [
    "np.unique(s[s[:,0]<3,1]).shape[0]/len(df)"
   ]
  },
  {
   "cell_type": "markdown",
   "metadata": {},
   "source": [
    "46% of all beads now have reads mapping to them.  Given that the tissue covers less than half, this seems OK."
   ]
  },
  {
   "cell_type": "code",
   "execution_count": 21,
   "metadata": {},
   "outputs": [],
   "source": [
    "master_df = pd.DataFrame(np.concatenate([s, trimmed_pairs], axis=1), columns=['Distance', 'BeadPos', 'Barcode', 'ReadCount'])\n",
    "master_df['ReadCount'] = master_df['ReadCount'].astype(np.int64)\n",
    "master_df['Distance'] = master_df['Distance'].astype(np.int64)\n",
    "master_df['BeadPos'] = master_df['BeadPos'].astype(np.int64)"
   ]
  },
  {
   "cell_type": "code",
   "execution_count": 22,
   "metadata": {},
   "outputs": [],
   "source": [
    "master_df.to_csv(data+'master_df.csv')"
   ]
  },
  {
   "cell_type": "code",
   "execution_count": 23,
   "metadata": {},
   "outputs": [
    {
     "data": {
      "text/html": [
       "<div>\n",
       "<style scoped>\n",
       "    .dataframe tbody tr th:only-of-type {\n",
       "        vertical-align: middle;\n",
       "    }\n",
       "\n",
       "    .dataframe tbody tr th {\n",
       "        vertical-align: top;\n",
       "    }\n",
       "\n",
       "    .dataframe thead th {\n",
       "        text-align: right;\n",
       "    }\n",
       "</style>\n",
       "<table border=\"1\" class=\"dataframe\">\n",
       "  <thead>\n",
       "    <tr style=\"text-align: right;\">\n",
       "      <th></th>\n",
       "      <th>Distance</th>\n",
       "      <th>BeadPos</th>\n",
       "      <th>Barcode</th>\n",
       "      <th>ReadCount</th>\n",
       "    </tr>\n",
       "  </thead>\n",
       "  <tbody>\n",
       "    <tr>\n",
       "      <th>2253</th>\n",
       "      <td>0</td>\n",
       "      <td>22893</td>\n",
       "      <td>AAAACGACTCTTCAGCGTTCCCGAGAGATATG</td>\n",
       "      <td>142</td>\n",
       "    </tr>\n",
       "    <tr>\n",
       "      <th>51182</th>\n",
       "      <td>0</td>\n",
       "      <td>74178</td>\n",
       "      <td>AATTCCCTTCTTCAGCGTTCCCGAGAAAGTAA</td>\n",
       "      <td>18</td>\n",
       "    </tr>\n",
       "    <tr>\n",
       "      <th>74017</th>\n",
       "      <td>0</td>\n",
       "      <td>52078</td>\n",
       "      <td>ACCCAGAATCTTCAGCGTTCCCGAGACTCCCC</td>\n",
       "      <td>46</td>\n",
       "    </tr>\n",
       "    <tr>\n",
       "      <th>128037</th>\n",
       "      <td>0</td>\n",
       "      <td>34603</td>\n",
       "      <td>AGATTTAATCTTCAGCGTTCCCGAGAAGCTAG</td>\n",
       "      <td>667</td>\n",
       "    </tr>\n",
       "    <tr>\n",
       "      <th>193246</th>\n",
       "      <td>0</td>\n",
       "      <td>26620</td>\n",
       "      <td>ATGAGAACTCTTCAGCGTTCCCGAGAGTTCGG</td>\n",
       "      <td>26</td>\n",
       "    </tr>\n",
       "    <tr>\n",
       "      <th>208839</th>\n",
       "      <td>0</td>\n",
       "      <td>66499</td>\n",
       "      <td>ATTCAGCATCTTCAGCGTTCCCGAGAAGGCGA</td>\n",
       "      <td>623</td>\n",
       "    </tr>\n",
       "    <tr>\n",
       "      <th>231888</th>\n",
       "      <td>0</td>\n",
       "      <td>71142</td>\n",
       "      <td>CAATCTCGTCTTCAGCGTTCCCGAGAAATCCA</td>\n",
       "      <td>51</td>\n",
       "    </tr>\n",
       "    <tr>\n",
       "      <th>252850</th>\n",
       "      <td>0</td>\n",
       "      <td>183</td>\n",
       "      <td>CAGACCGATCTTCAGCGTTCCCGAGACCTTTT</td>\n",
       "      <td>5698</td>\n",
       "    </tr>\n",
       "    <tr>\n",
       "      <th>272152</th>\n",
       "      <td>0</td>\n",
       "      <td>12454</td>\n",
       "      <td>CATCTTCATCTTCAGCGTTCCCGAGAACGCCT</td>\n",
       "      <td>31</td>\n",
       "    </tr>\n",
       "    <tr>\n",
       "      <th>292779</th>\n",
       "      <td>0</td>\n",
       "      <td>3472</td>\n",
       "      <td>CCAGCGGCTCTTCAGCGTTCCCGAGAACACTT</td>\n",
       "      <td>17</td>\n",
       "    </tr>\n",
       "    <tr>\n",
       "      <th>333842</th>\n",
       "      <td>0</td>\n",
       "      <td>37166</td>\n",
       "      <td>CCGTCAGTTCTTCAGCGTTCCCGAGATGACAG</td>\n",
       "      <td>74</td>\n",
       "    </tr>\n",
       "    <tr>\n",
       "      <th>372884</th>\n",
       "      <td>0</td>\n",
       "      <td>47001</td>\n",
       "      <td>CGCACGATTCTTCAGCGTTCCCGAGACCCCGC</td>\n",
       "      <td>58</td>\n",
       "    </tr>\n",
       "    <tr>\n",
       "      <th>466770</th>\n",
       "      <td>0</td>\n",
       "      <td>24052</td>\n",
       "      <td>CTTGCCATTCTTCAGCGTTCCCGAGAACTTGG</td>\n",
       "      <td>2380</td>\n",
       "    </tr>\n",
       "    <tr>\n",
       "      <th>470793</th>\n",
       "      <td>0</td>\n",
       "      <td>32986</td>\n",
       "      <td>CTTTATCGTCTTCAGCGTTCCCGAGAGCTACG</td>\n",
       "      <td>24</td>\n",
       "    </tr>\n",
       "    <tr>\n",
       "      <th>487833</th>\n",
       "      <td>0</td>\n",
       "      <td>59810</td>\n",
       "      <td>GACAATGGTCTTCAGCGTTCCCGAGACACTTA</td>\n",
       "      <td>37</td>\n",
       "    </tr>\n",
       "    <tr>\n",
       "      <th>499777</th>\n",
       "      <td>0</td>\n",
       "      <td>15430</td>\n",
       "      <td>GACTTACTTCTTCAGCGTTCCCGAGACCATAT</td>\n",
       "      <td>72</td>\n",
       "    </tr>\n",
       "    <tr>\n",
       "      <th>577241</th>\n",
       "      <td>0</td>\n",
       "      <td>24909</td>\n",
       "      <td>GCTCTCGCTCTTCAGCGTTCCCGAGATAATGG</td>\n",
       "      <td>210</td>\n",
       "    </tr>\n",
       "    <tr>\n",
       "      <th>589577</th>\n",
       "      <td>0</td>\n",
       "      <td>61668</td>\n",
       "      <td>GGAATTCTTCTTCAGCGTTCCCGAGAATGCTA</td>\n",
       "      <td>3002</td>\n",
       "    </tr>\n",
       "    <tr>\n",
       "      <th>614624</th>\n",
       "      <td>0</td>\n",
       "      <td>49379</td>\n",
       "      <td>GGGATTCCTCTTCAGCGTTCCCGAGAATCTCC</td>\n",
       "      <td>552</td>\n",
       "    </tr>\n",
       "    <tr>\n",
       "      <th>619458</th>\n",
       "      <td>0</td>\n",
       "      <td>37434</td>\n",
       "      <td>GGGGTCGGTCTTCAGCGTTCCCGAGATGTAAG</td>\n",
       "      <td>39</td>\n",
       "    </tr>\n",
       "    <tr>\n",
       "      <th>632134</th>\n",
       "      <td>0</td>\n",
       "      <td>37881</td>\n",
       "      <td>GGTGTATATCTTCAGCGTTCCCGAGACAGAAG</td>\n",
       "      <td>63</td>\n",
       "    </tr>\n",
       "    <tr>\n",
       "      <th>646330</th>\n",
       "      <td>0</td>\n",
       "      <td>22341</td>\n",
       "      <td>GTATTAGCTCTTCAGCGTTCCCGAGAAACCTG</td>\n",
       "      <td>21</td>\n",
       "    </tr>\n",
       "    <tr>\n",
       "      <th>662368</th>\n",
       "      <td>0</td>\n",
       "      <td>75294</td>\n",
       "      <td>GTGAACTGTCTTCAGCGTTCCCGAGAAGGGAA</td>\n",
       "      <td>17</td>\n",
       "    </tr>\n",
       "    <tr>\n",
       "      <th>669989</th>\n",
       "      <td>0</td>\n",
       "      <td>38891</td>\n",
       "      <td>GTGGTTAATCTTCAGCGTTCCCGAGAGTGTTC</td>\n",
       "      <td>17</td>\n",
       "    </tr>\n",
       "    <tr>\n",
       "      <th>702205</th>\n",
       "      <td>0</td>\n",
       "      <td>10914</td>\n",
       "      <td>TACAGACGTCTTCAGCGTTCCCGAGACCTGCT</td>\n",
       "      <td>62</td>\n",
       "    </tr>\n",
       "    <tr>\n",
       "      <th>792959</th>\n",
       "      <td>0</td>\n",
       "      <td>51932</td>\n",
       "      <td>TCTCAGATTCTTCAGCGTTCCCGAGACCGCCC</td>\n",
       "      <td>51</td>\n",
       "    </tr>\n",
       "    <tr>\n",
       "      <th>808351</th>\n",
       "      <td>0</td>\n",
       "      <td>22635</td>\n",
       "      <td>TCTTGTCCTCTTCAGCGTTCCCGAGAAAACTG</td>\n",
       "      <td>873</td>\n",
       "    </tr>\n",
       "    <tr>\n",
       "      <th>886812</th>\n",
       "      <td>0</td>\n",
       "      <td>12982</td>\n",
       "      <td>TTCTCAGTTCTTCAGCGTTCCCGAGAGGACCT</td>\n",
       "      <td>39</td>\n",
       "    </tr>\n",
       "  </tbody>\n",
       "</table>\n",
       "</div>"
      ],
      "text/plain": [
       "        Distance  BeadPos                           Barcode  ReadCount\n",
       "2253           0    22893  AAAACGACTCTTCAGCGTTCCCGAGAGATATG        142\n",
       "51182          0    74178  AATTCCCTTCTTCAGCGTTCCCGAGAAAGTAA         18\n",
       "74017          0    52078  ACCCAGAATCTTCAGCGTTCCCGAGACTCCCC         46\n",
       "128037         0    34603  AGATTTAATCTTCAGCGTTCCCGAGAAGCTAG        667\n",
       "193246         0    26620  ATGAGAACTCTTCAGCGTTCCCGAGAGTTCGG         26\n",
       "208839         0    66499  ATTCAGCATCTTCAGCGTTCCCGAGAAGGCGA        623\n",
       "231888         0    71142  CAATCTCGTCTTCAGCGTTCCCGAGAAATCCA         51\n",
       "252850         0      183  CAGACCGATCTTCAGCGTTCCCGAGACCTTTT       5698\n",
       "272152         0    12454  CATCTTCATCTTCAGCGTTCCCGAGAACGCCT         31\n",
       "292779         0     3472  CCAGCGGCTCTTCAGCGTTCCCGAGAACACTT         17\n",
       "333842         0    37166  CCGTCAGTTCTTCAGCGTTCCCGAGATGACAG         74\n",
       "372884         0    47001  CGCACGATTCTTCAGCGTTCCCGAGACCCCGC         58\n",
       "466770         0    24052  CTTGCCATTCTTCAGCGTTCCCGAGAACTTGG       2380\n",
       "470793         0    32986  CTTTATCGTCTTCAGCGTTCCCGAGAGCTACG         24\n",
       "487833         0    59810  GACAATGGTCTTCAGCGTTCCCGAGACACTTA         37\n",
       "499777         0    15430  GACTTACTTCTTCAGCGTTCCCGAGACCATAT         72\n",
       "577241         0    24909  GCTCTCGCTCTTCAGCGTTCCCGAGATAATGG        210\n",
       "589577         0    61668  GGAATTCTTCTTCAGCGTTCCCGAGAATGCTA       3002\n",
       "614624         0    49379  GGGATTCCTCTTCAGCGTTCCCGAGAATCTCC        552\n",
       "619458         0    37434  GGGGTCGGTCTTCAGCGTTCCCGAGATGTAAG         39\n",
       "632134         0    37881  GGTGTATATCTTCAGCGTTCCCGAGACAGAAG         63\n",
       "646330         0    22341  GTATTAGCTCTTCAGCGTTCCCGAGAAACCTG         21\n",
       "662368         0    75294  GTGAACTGTCTTCAGCGTTCCCGAGAAGGGAA         17\n",
       "669989         0    38891  GTGGTTAATCTTCAGCGTTCCCGAGAGTGTTC         17\n",
       "702205         0    10914  TACAGACGTCTTCAGCGTTCCCGAGACCTGCT         62\n",
       "792959         0    51932  TCTCAGATTCTTCAGCGTTCCCGAGACCGCCC         51\n",
       "808351         0    22635  TCTTGTCCTCTTCAGCGTTCCCGAGAAAACTG        873\n",
       "886812         0    12982  TTCTCAGTTCTTCAGCGTTCCCGAGAGGACCT         39"
      ]
     },
     "execution_count": 23,
     "metadata": {},
     "output_type": "execute_result"
    }
   ],
   "source": [
    "master_df[master_df['Distance']<1]"
   ]
  },
  {
   "cell_type": "markdown",
   "metadata": {},
   "source": [
    "## Aggregate on distance"
   ]
  },
  {
   "cell_type": "code",
   "execution_count": 71,
   "metadata": {},
   "outputs": [],
   "source": [
    "pivot_df = master_df[master_df['Distance']<=16].pivot_table(index='BeadPos', aggfunc=np.sum, values='ReadCount')\n",
    "for a in range(15,-1,-1):\n",
    "    b = master_df[master_df['Distance']<=a].pivot_table(index='BeadPos', aggfunc=np.sum, values='ReadCount')\n",
    "    pivot_df = pivot_df.merge(b, left_index=True, right_index=True, how='left')\n",
    "pivot_df = pivot_df.fillna(0)\n",
    "pivot_df.columns=range(16,-1,-1)  \n",
    "pivot_df = pivot_df.merge(df, left_index=True, right_index=True)"
   ]
  },
  {
   "cell_type": "code",
   "execution_count": 72,
   "metadata": {},
   "outputs": [],
   "source": [
    "pivot_df.to_csv(data+'BeadReadsHammingDistanceBad.csv')"
   ]
  },
  {
   "cell_type": "markdown",
   "metadata": {},
   "source": [
    "# Make images"
   ]
  },
  {
   "cell_type": "code",
   "execution_count": null,
   "metadata": {},
   "outputs": [],
   "source": [
    "import tifffile\n",
    "import scipy.ndimage as ndimage\n",
    "import math"
   ]
  },
  {
   "cell_type": "code",
   "execution_count": null,
   "metadata": {},
   "outputs": [],
   "source": [
    "def save_image(X, Y, Counts, fpath):\n",
    "    img=np.zeros([1+7000, 1+7000])\n",
    "    img[math.floor(X),math.floor(Y)]=1+Counts\n",
    "    dimg = ndimage.maximum_filter(img, size=8)\n",
    "    tifffile.imsave(fpath, dimg)"
   ]
  },
  {
   "cell_type": "markdown",
   "metadata": {},
   "source": [
    "### Make image of all beads"
   ]
  },
  {
   "cell_type": "markdown",
   "metadata": {},
   "source": [
    "Use barcodes and positions, have already loaded them"
   ]
  },
  {
   "cell_type": "code",
   "execution_count": null,
   "metadata": {},
   "outputs": [],
   "source": [
    "with open('U:/smc/public/SMC/SlideSeq/Pucks/20210218_EvanBatch1/210113_17/BeadLocations.txt', \"r\") as myfile:\n",
    "    aller_beads = myfile.readlines()\n",
    "aller = np.array([np.array(str(s).split(',')) for s in aller_beads])\n",
    "aller = aller.astype(float).T    \n",
    "aller = np.round(aller).astype(int)"
   ]
  },
  {
   "cell_type": "code",
   "execution_count": null,
   "metadata": {},
   "outputs": [],
   "source": [
    "save_image(aller[:,0], aller[:,1], aller[:,0]*0+10, data+'AllBeads.tif')"
   ]
  },
  {
   "cell_type": "markdown",
   "metadata": {},
   "source": [
    "### Make image of beads with counts"
   ]
  },
  {
   "cell_type": "code",
   "execution_count": null,
   "metadata": {},
   "outputs": [],
   "source": [
    "save_image(aller[:,0], aller[:,1], master_df+10, data+'AllBeads.tif')"
   ]
  },
  {
   "cell_type": "markdown",
   "metadata": {},
   "source": [
    "### Make image stack of beads with counts and different Levenstein cutoffs"
   ]
  },
  {
   "cell_type": "markdown",
   "metadata": {},
   "source": [
    "# END USEFUL STUFF"
   ]
  },
  {
   "cell_type": "code",
   "execution_count": 208,
   "metadata": {},
   "outputs": [
    {
     "data": {
      "text/plain": [
       "array([  0, 100,   0,   0,   0,   0,   0,   0,   0,   0,   0,   0,   0,\n",
       "         0,   0,   0,   0,   0,   0,   0,   0,   0,   0,   0,   0,   0,\n",
       "         0,   0,   0,   0,   0,   0,   0,   0,   0,   0,   0,   0,   0,\n",
       "         0,   0,   0,   0,   0,   0,   0,   0,   0,   0])"
      ]
     },
     "execution_count": 208,
     "metadata": {},
     "output_type": "execute_result"
    }
   ],
   "source": [
    "uns, vas, = np.unique(s[s[:,0]<1][:,1], return_counts=True)\n",
    "(np.histogram(vas, bins=range(0,50,1))[0]/np.sum(np.histogram(vas, bins=range(0,50,1))[0])*100).astype(int)"
   ]
  },
  {
   "cell_type": "code",
   "execution_count": 209,
   "metadata": {},
   "outputs": [
    {
     "data": {
      "text/plain": [
       "array([ 0, 76, 13,  4,  1,  1,  0,  0,  0,  0,  0,  0,  0,  0,  0,  0,  0,\n",
       "        0,  0,  0,  0,  0,  0,  0,  0,  0,  0,  0,  0,  0,  0,  0,  0,  0,\n",
       "        0,  0,  0,  0,  0,  0,  0,  0,  0,  0,  0,  0,  0,  0,  0])"
      ]
     },
     "execution_count": 209,
     "metadata": {},
     "output_type": "execute_result"
    }
   ],
   "source": [
    "uns, vas, = np.unique(s[s[:,0]<2][:,1], return_counts=True)\n",
    "(np.histogram(vas, bins=range(0,50,1))[0]/np.sum(np.histogram(vas, bins=range(0,50,1))[0])*100).astype(int)"
   ]
  },
  {
   "cell_type": "code",
   "execution_count": 210,
   "metadata": {},
   "outputs": [
    {
     "data": {
      "text/plain": [
       "array([ 0, 62, 19,  7,  3,  1,  1,  0,  0,  0,  0,  0,  0,  0,  0,  0,  0,\n",
       "        0,  0,  0,  0,  0,  0,  0,  0,  0,  0,  0,  0,  0,  0,  0,  0,  0,\n",
       "        0,  0,  0,  0,  0,  0,  0,  0,  0,  0,  0,  0,  0,  0,  0])"
      ]
     },
     "execution_count": 210,
     "metadata": {},
     "output_type": "execute_result"
    }
   ],
   "source": [
    "uns, vas, = np.unique(s[s[:,0]<3][:,1], return_counts=True)\n",
    "(np.histogram(vas, bins=range(0,50,1))[0]/np.sum(np.histogram(vas, bins=range(0,50,1))[0])*100).astype(int)"
   ]
  },
  {
   "cell_type": "code",
   "execution_count": 211,
   "metadata": {},
   "outputs": [
    {
     "data": {
      "text/plain": [
       "array([ 0, 57, 20,  9,  4,  2,  1,  1,  0,  0,  0,  0,  0,  0,  0,  0,  0,\n",
       "        0,  0,  0,  0,  0,  0,  0,  0,  0,  0,  0,  0,  0,  0,  0,  0,  0,\n",
       "        0,  0,  0,  0,  0,  0,  0,  0,  0,  0,  0,  0,  0,  0,  0])"
      ]
     },
     "execution_count": 211,
     "metadata": {},
     "output_type": "execute_result"
    }
   ],
   "source": [
    "uns, vas, = np.unique(s[s[:,0]<4][:,1], return_counts=True)\n",
    "(np.histogram(vas, bins=range(0,50,1))[0]/np.sum(np.histogram(vas, bins=range(0,50,1))[0])*100).astype(int)"
   ]
  },
  {
   "cell_type": "code",
   "execution_count": 199,
   "metadata": {},
   "outputs": [
    {
     "data": {
      "text/plain": [
       "32696"
      ]
     },
     "execution_count": 199,
     "metadata": {},
     "output_type": "execute_result"
    }
   ],
   "source": [
    "len(vas)"
   ]
  },
  {
   "cell_type": "code",
   "execution_count": null,
   "metadata": {},
   "outputs": [],
   "source": []
  },
  {
   "cell_type": "code",
   "execution_count": 164,
   "metadata": {},
   "outputs": [
    {
     "ename": "KeyError",
     "evalue": "'BeadPos'",
     "output_type": "error",
     "traceback": [
      "\u001b[1;31m---------------------------------------------------------------------------\u001b[0m",
      "\u001b[1;31mKeyError\u001b[0m                                  Traceback (most recent call last)",
      "\u001b[1;32m~\\Anaconda3\\envs\\scanpy\\lib\\site-packages\\pandas\\core\\indexes\\base.py\u001b[0m in \u001b[0;36mget_loc\u001b[1;34m(self, key, method, tolerance)\u001b[0m\n\u001b[0;32m   2894\u001b[0m             \u001b[1;32mtry\u001b[0m\u001b[1;33m:\u001b[0m\u001b[1;33m\u001b[0m\u001b[1;33m\u001b[0m\u001b[0m\n\u001b[1;32m-> 2895\u001b[1;33m                 \u001b[1;32mreturn\u001b[0m \u001b[0mself\u001b[0m\u001b[1;33m.\u001b[0m\u001b[0m_engine\u001b[0m\u001b[1;33m.\u001b[0m\u001b[0mget_loc\u001b[0m\u001b[1;33m(\u001b[0m\u001b[0mcasted_key\u001b[0m\u001b[1;33m)\u001b[0m\u001b[1;33m\u001b[0m\u001b[1;33m\u001b[0m\u001b[0m\n\u001b[0m\u001b[0;32m   2896\u001b[0m             \u001b[1;32mexcept\u001b[0m \u001b[0mKeyError\u001b[0m \u001b[1;32mas\u001b[0m \u001b[0merr\u001b[0m\u001b[1;33m:\u001b[0m\u001b[1;33m\u001b[0m\u001b[1;33m\u001b[0m\u001b[0m\n",
      "\u001b[1;32mpandas\\_libs\\index.pyx\u001b[0m in \u001b[0;36mpandas._libs.index.IndexEngine.get_loc\u001b[1;34m()\u001b[0m\n",
      "\u001b[1;32mpandas\\_libs\\index.pyx\u001b[0m in \u001b[0;36mpandas._libs.index.IndexEngine.get_loc\u001b[1;34m()\u001b[0m\n",
      "\u001b[1;32mpandas\\_libs\\hashtable_class_helper.pxi\u001b[0m in \u001b[0;36mpandas._libs.hashtable.PyObjectHashTable.get_item\u001b[1;34m()\u001b[0m\n",
      "\u001b[1;32mpandas\\_libs\\hashtable_class_helper.pxi\u001b[0m in \u001b[0;36mpandas._libs.hashtable.PyObjectHashTable.get_item\u001b[1;34m()\u001b[0m\n",
      "\u001b[1;31mKeyError\u001b[0m: 'BeadPos'",
      "\nThe above exception was the direct cause of the following exception:\n",
      "\u001b[1;31mKeyError\u001b[0m                                  Traceback (most recent call last)",
      "\u001b[1;32m<ipython-input-164-42b14f863cdf>\u001b[0m in \u001b[0;36m<module>\u001b[1;34m\u001b[0m\n\u001b[1;32m----> 1\u001b[1;33m \u001b[0mpivot_df\u001b[0m\u001b[1;33m[\u001b[0m\u001b[1;34m'BeadPos'\u001b[0m\u001b[1;33m]\u001b[0m\u001b[1;33m\u001b[0m\u001b[1;33m\u001b[0m\u001b[0m\n\u001b[0m",
      "\u001b[1;32m~\\Anaconda3\\envs\\scanpy\\lib\\site-packages\\pandas\\core\\frame.py\u001b[0m in \u001b[0;36m__getitem__\u001b[1;34m(self, key)\u001b[0m\n\u001b[0;32m   2900\u001b[0m             \u001b[1;32mif\u001b[0m \u001b[0mself\u001b[0m\u001b[1;33m.\u001b[0m\u001b[0mcolumns\u001b[0m\u001b[1;33m.\u001b[0m\u001b[0mnlevels\u001b[0m \u001b[1;33m>\u001b[0m \u001b[1;36m1\u001b[0m\u001b[1;33m:\u001b[0m\u001b[1;33m\u001b[0m\u001b[1;33m\u001b[0m\u001b[0m\n\u001b[0;32m   2901\u001b[0m                 \u001b[1;32mreturn\u001b[0m \u001b[0mself\u001b[0m\u001b[1;33m.\u001b[0m\u001b[0m_getitem_multilevel\u001b[0m\u001b[1;33m(\u001b[0m\u001b[0mkey\u001b[0m\u001b[1;33m)\u001b[0m\u001b[1;33m\u001b[0m\u001b[1;33m\u001b[0m\u001b[0m\n\u001b[1;32m-> 2902\u001b[1;33m             \u001b[0mindexer\u001b[0m \u001b[1;33m=\u001b[0m \u001b[0mself\u001b[0m\u001b[1;33m.\u001b[0m\u001b[0mcolumns\u001b[0m\u001b[1;33m.\u001b[0m\u001b[0mget_loc\u001b[0m\u001b[1;33m(\u001b[0m\u001b[0mkey\u001b[0m\u001b[1;33m)\u001b[0m\u001b[1;33m\u001b[0m\u001b[1;33m\u001b[0m\u001b[0m\n\u001b[0m\u001b[0;32m   2903\u001b[0m             \u001b[1;32mif\u001b[0m \u001b[0mis_integer\u001b[0m\u001b[1;33m(\u001b[0m\u001b[0mindexer\u001b[0m\u001b[1;33m)\u001b[0m\u001b[1;33m:\u001b[0m\u001b[1;33m\u001b[0m\u001b[1;33m\u001b[0m\u001b[0m\n\u001b[0;32m   2904\u001b[0m                 \u001b[0mindexer\u001b[0m \u001b[1;33m=\u001b[0m \u001b[1;33m[\u001b[0m\u001b[0mindexer\u001b[0m\u001b[1;33m]\u001b[0m\u001b[1;33m\u001b[0m\u001b[1;33m\u001b[0m\u001b[0m\n",
      "\u001b[1;32m~\\Anaconda3\\envs\\scanpy\\lib\\site-packages\\pandas\\core\\indexes\\base.py\u001b[0m in \u001b[0;36mget_loc\u001b[1;34m(self, key, method, tolerance)\u001b[0m\n\u001b[0;32m   2895\u001b[0m                 \u001b[1;32mreturn\u001b[0m \u001b[0mself\u001b[0m\u001b[1;33m.\u001b[0m\u001b[0m_engine\u001b[0m\u001b[1;33m.\u001b[0m\u001b[0mget_loc\u001b[0m\u001b[1;33m(\u001b[0m\u001b[0mcasted_key\u001b[0m\u001b[1;33m)\u001b[0m\u001b[1;33m\u001b[0m\u001b[1;33m\u001b[0m\u001b[0m\n\u001b[0;32m   2896\u001b[0m             \u001b[1;32mexcept\u001b[0m \u001b[0mKeyError\u001b[0m \u001b[1;32mas\u001b[0m \u001b[0merr\u001b[0m\u001b[1;33m:\u001b[0m\u001b[1;33m\u001b[0m\u001b[1;33m\u001b[0m\u001b[0m\n\u001b[1;32m-> 2897\u001b[1;33m                 \u001b[1;32mraise\u001b[0m \u001b[0mKeyError\u001b[0m\u001b[1;33m(\u001b[0m\u001b[0mkey\u001b[0m\u001b[1;33m)\u001b[0m \u001b[1;32mfrom\u001b[0m \u001b[0merr\u001b[0m\u001b[1;33m\u001b[0m\u001b[1;33m\u001b[0m\u001b[0m\n\u001b[0m\u001b[0;32m   2898\u001b[0m \u001b[1;33m\u001b[0m\u001b[0m\n\u001b[0;32m   2899\u001b[0m         \u001b[1;32mif\u001b[0m \u001b[0mtolerance\u001b[0m \u001b[1;32mis\u001b[0m \u001b[1;32mnot\u001b[0m \u001b[1;32mNone\u001b[0m\u001b[1;33m:\u001b[0m\u001b[1;33m\u001b[0m\u001b[1;33m\u001b[0m\u001b[0m\n",
      "\u001b[1;31mKeyError\u001b[0m: 'BeadPos'"
     ]
    }
   ],
   "source": [
    "pivot_df['BeadPos']"
   ]
  },
  {
   "cell_type": "code",
   "execution_count": 76,
   "metadata": {},
   "outputs": [
    {
     "data": {
      "text/html": [
       "<div>\n",
       "<style scoped>\n",
       "    .dataframe tbody tr th:only-of-type {\n",
       "        vertical-align: middle;\n",
       "    }\n",
       "\n",
       "    .dataframe tbody tr th {\n",
       "        vertical-align: top;\n",
       "    }\n",
       "\n",
       "    .dataframe thead th {\n",
       "        text-align: right;\n",
       "    }\n",
       "</style>\n",
       "<table border=\"1\" class=\"dataframe\">\n",
       "  <thead>\n",
       "    <tr style=\"text-align: right;\">\n",
       "      <th></th>\n",
       "      <th>X</th>\n",
       "      <th>Y</th>\n",
       "      <th>Barcode</th>\n",
       "      <th>BridgedBarcode</th>\n",
       "    </tr>\n",
       "  </thead>\n",
       "  <tbody>\n",
       "    <tr>\n",
       "      <th>0</th>\n",
       "      <td>5427.1</td>\n",
       "      <td>2005.8</td>\n",
       "      <td>CTTTGCCCCTTAGN</td>\n",
       "      <td>CTTTGCCCTCTTCAGCGTTCCCGAGACTTAGN</td>\n",
       "    </tr>\n",
       "    <tr>\n",
       "      <th>1</th>\n",
       "      <td>3379</td>\n",
       "      <td>3890.6</td>\n",
       "      <td>TGGGCTCTCGTCAN</td>\n",
       "      <td>TGGGCTCTTCTTCAGCGTTCCCGAGACGTCAN</td>\n",
       "    </tr>\n",
       "    <tr>\n",
       "      <th>2</th>\n",
       "      <td>3219.1</td>\n",
       "      <td>5260.2</td>\n",
       "      <td>GTCGCTTTAGGNTT</td>\n",
       "      <td>GTCGCTTTTCTTCAGCGTTCCCGAGAAGGNTT</td>\n",
       "    </tr>\n",
       "    <tr>\n",
       "      <th>3</th>\n",
       "      <td>1733.5</td>\n",
       "      <td>5529.6</td>\n",
       "      <td>TTTNTTTTTTTTTT</td>\n",
       "      <td>TTTNTTTTTCTTCAGCGTTCCCGAGATTTTTT</td>\n",
       "    </tr>\n",
       "    <tr>\n",
       "      <th>4</th>\n",
       "      <td>552.49</td>\n",
       "      <td>3069.7</td>\n",
       "      <td>TTTTTTTTTTTTTT</td>\n",
       "      <td>TTTTTTTTTCTTCAGCGTTCCCGAGATTTTTT</td>\n",
       "    </tr>\n",
       "    <tr>\n",
       "      <th>...</th>\n",
       "      <td>...</td>\n",
       "      <td>...</td>\n",
       "      <td>...</td>\n",
       "      <td>...</td>\n",
       "    </tr>\n",
       "    <tr>\n",
       "      <th>83343</th>\n",
       "      <td>2168.3</td>\n",
       "      <td>878.12</td>\n",
       "      <td>AAAAANAAAAAAAA</td>\n",
       "      <td>AAAAANAATCTTCAGCGTTCCCGAGAAAAAAA</td>\n",
       "    </tr>\n",
       "    <tr>\n",
       "      <th>83344</th>\n",
       "      <td>628.42</td>\n",
       "      <td>577.23</td>\n",
       "      <td>TAANAAAAAAAAAA</td>\n",
       "      <td>TAANAAAATCTTCAGCGTTCCCGAGAAAAAAA</td>\n",
       "    </tr>\n",
       "    <tr>\n",
       "      <th>83345</th>\n",
       "      <td>655.85</td>\n",
       "      <td>3646.2</td>\n",
       "      <td>GAANAAAAAAAAAA</td>\n",
       "      <td>GAANAAAATCTTCAGCGTTCCCGAGAAAAAAA</td>\n",
       "    </tr>\n",
       "    <tr>\n",
       "      <th>83346</th>\n",
       "      <td>667.13</td>\n",
       "      <td>3591.2</td>\n",
       "      <td>CAANAAAAAAAAAA</td>\n",
       "      <td>CAANAAAATCTTCAGCGTTCCCGAGAAAAAAA</td>\n",
       "    </tr>\n",
       "    <tr>\n",
       "      <th>83347</th>\n",
       "      <td>232.39</td>\n",
       "      <td>5668.6</td>\n",
       "      <td>AAANAAAAAAAAAA</td>\n",
       "      <td>AAANAAAATCTTCAGCGTTCCCGAGAAAAAAA</td>\n",
       "    </tr>\n",
       "  </tbody>\n",
       "</table>\n",
       "<p>83348 rows × 4 columns</p>\n",
       "</div>"
      ],
      "text/plain": [
       "            X       Y         Barcode                    BridgedBarcode\n",
       "0      5427.1  2005.8  CTTTGCCCCTTAGN  CTTTGCCCTCTTCAGCGTTCCCGAGACTTAGN\n",
       "1        3379  3890.6  TGGGCTCTCGTCAN  TGGGCTCTTCTTCAGCGTTCCCGAGACGTCAN\n",
       "2      3219.1  5260.2  GTCGCTTTAGGNTT  GTCGCTTTTCTTCAGCGTTCCCGAGAAGGNTT\n",
       "3      1733.5  5529.6  TTTNTTTTTTTTTT  TTTNTTTTTCTTCAGCGTTCCCGAGATTTTTT\n",
       "4      552.49  3069.7  TTTTTTTTTTTTTT  TTTTTTTTTCTTCAGCGTTCCCGAGATTTTTT\n",
       "...       ...     ...             ...                               ...\n",
       "83343  2168.3  878.12  AAAAANAAAAAAAA  AAAAANAATCTTCAGCGTTCCCGAGAAAAAAA\n",
       "83344  628.42  577.23  TAANAAAAAAAAAA  TAANAAAATCTTCAGCGTTCCCGAGAAAAAAA\n",
       "83345  655.85  3646.2  GAANAAAAAAAAAA  GAANAAAATCTTCAGCGTTCCCGAGAAAAAAA\n",
       "83346  667.13  3591.2  CAANAAAAAAAAAA  CAANAAAATCTTCAGCGTTCCCGAGAAAAAAA\n",
       "83347  232.39  5668.6  AAANAAAAAAAAAA  AAANAAAATCTTCAGCGTTCCCGAGAAAAAAA\n",
       "\n",
       "[83348 rows x 4 columns]"
      ]
     },
     "execution_count": 76,
     "metadata": {},
     "output_type": "execute_result"
    }
   ],
   "source": [
    "df"
   ]
  },
  {
   "cell_type": "code",
   "execution_count": 83,
   "metadata": {},
   "outputs": [
    {
     "data": {
      "text/plain": [
       "(array([   525,    535,    538, ..., 212723, 212724, 212761], dtype=int64),)"
      ]
     },
     "execution_count": 83,
     "metadata": {},
     "output_type": "execute_result"
    }
   ],
   "source": [
    "np.where(s>-1)"
   ]
  },
  {
   "cell_type": "code",
   "execution_count": 84,
   "metadata": {},
   "outputs": [
    {
     "data": {
      "text/plain": [
       "53847"
      ]
     },
     "execution_count": 84,
     "metadata": {},
     "output_type": "execute_result"
    }
   ],
   "source": [
    "s[525]"
   ]
  },
  {
   "cell_type": "code",
   "execution_count": 85,
   "metadata": {},
   "outputs": [
    {
     "data": {
      "text/plain": [
       "['AAAAAAACTCTTCAGCGTTCCCGAGAAAGGAC', 'AAAAAAACTCTTCAGCGTTCCCGAGAATGGCC']"
      ]
     },
     "execution_count": 85,
     "metadata": {},
     "output_type": "execute_result"
    }
   ],
   "source": [
    "[lst[525], df['BridgedBarcode'].iloc[s[525]]]"
   ]
  },
  {
   "cell_type": "code",
   "execution_count": 72,
   "metadata": {},
   "outputs": [
    {
     "data": {
      "text/plain": [
       "'AGCTCCCCGTCACC'"
      ]
     },
     "execution_count": 72,
     "metadata": {},
     "output_type": "execute_result"
    }
   ],
   "source": [
    "trimmed_pairs[34660,0][0:8] + trimmed_pairs[34660,0][-6:]"
   ]
  },
  {
   "cell_type": "code",
   "execution_count": 73,
   "metadata": {},
   "outputs": [
    {
     "data": {
      "text/plain": [
       "array(['AGCTCCCCTCTTCAGCGTTCCCGAGAGTCACC', '1173'], dtype='<U32')"
      ]
     },
     "execution_count": 73,
     "metadata": {},
     "output_type": "execute_result"
    }
   ],
   "source": [
    "trimmed_pairs[34660]"
   ]
  },
  {
   "cell_type": "code",
   "execution_count": 69,
   "metadata": {},
   "outputs": [
    {
     "data": {
      "text/plain": [
       "56591    GGGTCCCTTCTTCAGCGTTCCCGAGAGTCACC\n",
       "Name: BridgedBarcode, dtype: object"
      ]
     },
     "execution_count": 69,
     "metadata": {},
     "output_type": "execute_result"
    }
   ],
   "source": [
    "df['BridgedBarcode'].iloc[56591:56592]"
   ]
  },
  {
   "cell_type": "code",
   "execution_count": 57,
   "metadata": {},
   "outputs": [
    {
     "data": {
      "text/plain": [
       "'TAAAAAGGTCTTCAGCGTTCCCGAGAACTACC'"
      ]
     },
     "execution_count": 57,
     "metadata": {},
     "output_type": "execute_result"
    }
   ],
   "source": [
    "df['BridgedBarcode'].iloc[56000:57000].iloc[s[559]]"
   ]
  },
  {
   "cell_type": "code",
   "execution_count": null,
   "metadata": {},
   "outputs": [],
   "source": []
  },
  {
   "cell_type": "code",
   "execution_count": 42,
   "metadata": {},
   "outputs": [
    {
     "data": {
      "text/plain": [
       "(212889, 2)"
      ]
     },
     "execution_count": 42,
     "metadata": {},
     "output_type": "execute_result"
    }
   ],
   "source": [
    "trimmed_pairs.shape"
   ]
  },
  {
   "cell_type": "code",
   "execution_count": 79,
   "metadata": {},
   "outputs": [
    {
     "data": {
      "text/plain": [
       "'NNNNNNNNTCTTCAGCGTTCCCGAGANNNNNN'"
      ]
     },
     "execution_count": 79,
     "metadata": {},
     "output_type": "execute_result"
    }
   ],
   "source": [
    "'NNNNNNNN' + bridge + 'NNNNNN'"
   ]
  },
  {
   "cell_type": "code",
   "execution_count": 56,
   "metadata": {},
   "outputs": [],
   "source": [
    "import Levenshtein as lv"
   ]
  },
  {
   "cell_type": "code",
   "execution_count": 68,
   "metadata": {},
   "outputs": [
    {
     "data": {
      "text/plain": [
       "2"
      ]
     },
     "execution_count": 68,
     "metadata": {},
     "output_type": "execute_result"
    }
   ],
   "source": [
    "lv.distance('CCGAA', 'ACCGA')"
   ]
  },
  {
   "cell_type": "code",
   "execution_count": 43,
   "metadata": {},
   "outputs": [
    {
     "data": {
      "text/plain": [
       "'TCTTCAGCGTTCCCGAGA'"
      ]
     },
     "execution_count": 43,
     "metadata": {},
     "output_type": "execute_result"
    }
   ],
   "source": [
    "bridge"
   ]
  },
  {
   "cell_type": "code",
   "execution_count": 53,
   "metadata": {},
   "outputs": [
    {
     "data": {
      "text/html": [
       "<div>\n",
       "<style scoped>\n",
       "    .dataframe tbody tr th:only-of-type {\n",
       "        vertical-align: middle;\n",
       "    }\n",
       "\n",
       "    .dataframe tbody tr th {\n",
       "        vertical-align: top;\n",
       "    }\n",
       "\n",
       "    .dataframe thead th {\n",
       "        text-align: right;\n",
       "    }\n",
       "</style>\n",
       "<table border=\"1\" class=\"dataframe\">\n",
       "  <thead>\n",
       "    <tr style=\"text-align: right;\">\n",
       "      <th></th>\n",
       "      <th>X</th>\n",
       "      <th>Y</th>\n",
       "      <th>Barcode</th>\n",
       "      <th>BridgedBarcode</th>\n",
       "    </tr>\n",
       "  </thead>\n",
       "  <tbody>\n",
       "  </tbody>\n",
       "</table>\n",
       "</div>"
      ],
      "text/plain": [
       "Empty DataFrame\n",
       "Columns: [X, Y, Barcode, BridgedBarcode]\n",
       "Index: []"
      ]
     },
     "execution_count": 53,
     "metadata": {},
     "output_type": "execute_result"
    }
   ],
   "source": [
    "df[df['Barcode']=='CGACCCGGGGACAA']"
   ]
  },
  {
   "cell_type": "code",
   "execution_count": 44,
   "metadata": {},
   "outputs": [
    {
     "data": {
      "text/plain": [
       "array(['GTGCCTGATCTTCACGTTCCCGAGAATAACGG',\n",
       "       'GGCCTTTATCTTCAGCGTTCCCGAGACTAGTA',\n",
       "       'GCCTACCTGTTCTGCATTCCCGAGTCCGACTA',\n",
       "       'ACGTGTTTTTTTTTTTTTTTTTTTTTTTTTTT',\n",
       "       'ATTCAGCATCTTCAGCGTTCCCGAGATCCTGT',\n",
       "       'GGCAAAGTCTTCAGCGTTCCCGCCTCGACGAT',\n",
       "       'TGCGGACTTCTTCAGCGTTCCGAGAATTTACC',\n",
       "       'GGCTCGGCATCATCATCATCATCCTGGTCGAG',\n",
       "       'GCTGGAGCTCTTCAGCGTTCCCGAGATTACTC',\n",
       "       'ATCCTCCATCTGATAACTGAGTTACCAGATCG',\n",
       "       'AGTTTGAGTCCTCAGCGTTCCCTTTTTTTTTT',\n",
       "       'GCTACCTCGCCTCGGTTCGGTTTTTTTTTTTT',\n",
       "       'GACCAACGTCTTCAGCGTTCCCGAGATGAGCA',\n",
       "       'TTCCGGGTTCTTCAGCGTTCGCCGGGCCGCAA',\n",
       "       'AACCAGCATCTTCAGCGTTCCCGAGACAAGAT',\n",
       "       'TTCGCGTTCCCGAGAGTTGGTATCTTCGCAGA',\n",
       "       'ATGACGAACTGTTCCAGCAGGACAAGGTTCAG',\n",
       "       'CGACCCGTCTTCAGCGTTCCCGAGAGGGACAA',\n",
       "       'AGGCGACTCTTCAGCGTTCCCGAAGGCGAAGC',\n",
       "       'AATGTTTTTTTTTTTTTTTTTTTTTTTTTTTT',\n",
       "       'TCAGCGAATCTTCAGCGTTCCCGAGACTCGTT',\n",
       "       'ATCGCCCCTCTTCACCATCTTTCGGGTCTCTA',\n",
       "       'GTTCTTGCTCGCTGTCGCGTTCGGACCGCATG',\n",
       "       'GGCAGCAGGGCACGACCACGATGTACTTGGCC',\n",
       "       'CAGTCAGATCTTCAGCGTTCCCGAGAAAGGTA',\n",
       "       'AATTAGGATGTTTTTTTTTTTTTTTTTTTTTT',\n",
       "       'TCTGATGATCTTCAGCGTTCCCGAGACAGCAC',\n",
       "       'AGTTATAGTCTTCAGCGTTCCCGAGATACGAA',\n",
       "       'TGAGCTCCTCTTCAGCGTTCCCGAGAACTAAG',\n",
       "       'AGTATTAGTCTTCGCGTTCCCGAGAGGTTTTA',\n",
       "       'CTGGCGGCTCTTCAGCGTTCCCGAGATCGGGG',\n",
       "       'CACAGGAGTCTTCAGCGTTCCCGAGATAAAGG',\n",
       "       'TCAGTTTCGAAAACCAACAAAATAAAACCGAA',\n",
       "       'AAAGGGGTCAGCGTTCCCGAGACTGCGGTTCT',\n",
       "       'CACGAGAGTCTTCAGCGTTCCCGAGACCCTTG',\n",
       "       'AGGCTGCCTCTTCAGCGTTCCCGAGAATGGTA',\n",
       "       'GGCCCCCCAGCAGCAGGATGGCGAAGATCGGC',\n",
       "       'CGATCCATTCTTCAGCGTTCCCGAGAGAACGA',\n",
       "       'CAAACTAATCTTCAGCGTTCCCGAGATGGATT',\n",
       "       'TCACTGAAGCCGCATTTTCTGGCGGTTGCCAG',\n",
       "       'GAGCACGTCTTCAGCGTTCCCGAGAAGCTAGG',\n",
       "       'CCCACACGTCTTCAGCGTTCCCGAGAGGCGGA',\n",
       "       'ATTCTTTTCTTCAGCGTTCCCGAGAGAACCTG',\n",
       "       'CGACCGATTCTTCAGCGTTCCCGAGAATTAGA',\n",
       "       'ACCTACATTCTTCAGCGTTCCCAGAGCCCCTT',\n",
       "       'GGCACTCCATGGCAGTGGTGCCGGCAACTACA',\n",
       "       'TAGTCATGTCTTCAGCGTTCCCGAGACCTGAA',\n",
       "       'GTCACAGGTCTTCAGCGTCCCGAGAGCGTATT',\n",
       "       'ATTTCCGGTCTTCAGCGTTCCCGAGATATGTG',\n",
       "       'CCTTCTGGTCTTCATCGTTCCCGAGAAGCGAC',\n",
       "       'TTGAAGCGTCTTCAGCGTTCAGGCGCCGCAAA',\n",
       "       'TCGCATTGCCGGTAATACGACTCACTATAGGG',\n",
       "       'ATAAGAGATCTTCAGCGTTCCCGAGATCTGTG',\n",
       "       'GCCCGAGGCGCGAAATTTTCGCGTCCTTTCCG',\n",
       "       'GCCAGATCTGGAGCGGCGCGATACCGATCGTC',\n",
       "       'CTGTCATTCTTCAGCGTTCCCGAGATCGAGGA',\n",
       "       'TCGCTGATTCTTCAGCGTTCCCGAGAAACGAA',\n",
       "       'TGCCCCAGTCTCGGACAACATTTTTTTTTTTT',\n",
       "       'ATTGCTATTCTTCAGCGTTCCCGAGATTTTGA',\n",
       "       'GTACGTGGCGCTGGCCAGCGCGCCGTCCATTG',\n",
       "       'TATTATAATCTTCACCACTTGACGTTGAATAA',\n",
       "       'CTTCGGGATCTTCAGCGTTCCCGGACAGTTTG',\n",
       "       'TGCTGGATCTTCAGCGTTCCGAGACTGCTGCT',\n",
       "       'GAGCGTAGTCTTCAGCGTTCCCGAGAGCTGGT',\n",
       "       'CTGTCAGTTCTTCAGCGTTCCCGAGACAATCA',\n",
       "       'TCCCATCCTTTTTTTTTTTTTTTTTTTTTTGT',\n",
       "       'ATCAGCCTTCTTCAGCGTTCCCGGCCAGATCG',\n",
       "       'GAAGTTCTCTTCAGCGTTCCCGAGAGCGGGGA',\n",
       "       'TTGCTATTTCTTCAGCGTTCCCGAGAACAGAG',\n",
       "       'CAAAACGTTCTTCAGCGTTCCCGAGAATTCCT',\n",
       "       'CCCGCCCTCTTCAGCGTTCCCGAGAAATTCTT',\n",
       "       'TGTCGCGGTCTTCAGCGTTCCCGAGAAAGCGA',\n",
       "       'CCAACCGTTCTTCAGCGTTCCCGAGAAAATTC',\n",
       "       'TCCTGCATCTTCAGCTTTTTTTTTTTTTTTTT',\n",
       "       'TTAATAAATCTTCAGCGTTCCCGAGAAGATAT',\n",
       "       'CAAGATGTCTTCAGCGTCTGTCTCTTATACAC',\n",
       "       'TGTTGGCATCTTCAGCGTTCCCGGAATAGCCT',\n",
       "       'CCGTTAGTCTTCAGCGTTCCCGAGAAGTCACT',\n",
       "       'AAGCAGTGTTATCAACGCAGAGTGATCAGGTT',\n",
       "       'TAAACGAATCTTTTTTTTTTTTTTTTTTTTTT',\n",
       "       'GGCCGATGTGGCGGTCAATGCCCGGTTGGCGG',\n",
       "       'CGAAACATCTTCAGCGTTCCCGAGAAATGCGA',\n",
       "       'GTACTTTGTCTTCAGCGTTCCCAAATTGTTAT',\n",
       "       'CGTCGTCATCTTAGCGTTCCGAGAAACTACGT',\n",
       "       'AATATGTATCTTCAGCGTTCCCGAGATCCTGA',\n",
       "       'TTTTTGTATCTTCAGCGTTCCCGAGAACCGGC',\n",
       "       'CCTCTACGTCTTCAGCGTTCCCGAGATTTTAT',\n",
       "       'CAAACCATCTTCAGCGTTCCCGAGAGAATAGG',\n",
       "       'AATCTATATCTTCAGCGTTCCCGAGACAGAAA',\n",
       "       'ATACTACTTCTTCAGCGTTCCCGAGACTAGAA',\n",
       "       'GACTCCCGAGAACACCCTCTTCATGCGTTTTT',\n",
       "       'TCAATATATCTACTAGATAAAAAAAAAAATTA',\n",
       "       'CGAACACGCAGGCGGGGCTCAAGGGCATCCGC',\n",
       "       'TGCCTACATCTTCAGCGTTCCCTGTCTCTTAT',\n",
       "       'GATTTGCCCTTGCTTCAAACTCTGAAGACATC',\n",
       "       'GGGTGTGTCTTCAGCGTTCCCGAGAAGAACGA',\n",
       "       'AAGTCCATCCTCAGCGTTCCCGAGACCCATAA',\n",
       "       'TCTTTGCATCTTCAGCGTTCCCGAGACTATCT',\n",
       "       'GAAATAAATCTTCAGCGTTCCCGAGATTACAA',\n",
       "       'CTTTCATTCTTCAGCGTTCCCGAGAACATCAT',\n",
       "       'TAAAGAGTCTTCAGCGTTCCCGAGAAGGTGTG',\n",
       "       'CCCGCTTTTTTTTTTTTTTTTTTTTTTTTTTT',\n",
       "       'TAGCATCCTCTTCAGCGTTCCCGAGAGATATA',\n",
       "       'CCTTCGCCTCTTCAGCGTTCCCGAGACAACCA',\n",
       "       'GCTCGGCGGCCAGATCGACATGATGATCACCG',\n",
       "       'CAGTTCATTCTTCAGCGTTCCCGAGAAGCACT',\n",
       "       'AGTGATTCTCTTCAGCGTTCCCGAGATGCTAG',\n",
       "       'TTATAGCTCTTCAGCGTTCCCGAGAAGTAGTC',\n",
       "       'TGTCTTGTCTTCAGCGTTCCCGAGAGAATACG',\n",
       "       'TCCTGCATCTTCAGCGTTCCCGAGTTTTTTTT',\n",
       "       'GCGTGCCGTGGCTGGACTGGATCTACAAGGCG',\n",
       "       'CGACATTGTCTTCTTCTTTTTTTTTTTTTTTT',\n",
       "       'AGCCGCCGTCTTCAGCGTTCCCGAGATGTTTC',\n",
       "       'AACGAGTCTCTTCAGCGTTCCCGAGAGGACCG',\n",
       "       'AAATATAATCTTCAGCGTTCCCGAGATACTTT',\n",
       "       'CAAAACCATCTTCAGCGTTCCCGAGAGAATAG',\n",
       "       'CTAGAGAACTTCAGCGATCCCGAGACCAGGGA',\n",
       "       'GCCTGCATCTTCAGCGTTCCCGAGAAGACGGT',\n",
       "       'GCCTTTAAGTTTCAGCTTTGCAACCATACTTC',\n",
       "       'ATGCCATCACCATCGAGGACCACCGCTACCAG',\n",
       "       'ATAGATTCTCTTCAGCGTTTTTTTTTTTTTTT',\n",
       "       'CGCAAGCTTCTTCAGCGTTCCCGAGAACCACG',\n",
       "       'GATCCTGTCCGCGCCCGGCTGGGCGATGCATT',\n",
       "       'AAGACCGTCTTCAGCGTTCCTCACCGTGGTGG',\n",
       "       'TCCACAAGTTTCAGCTTTGCAACCATACTTCC',\n",
       "       'CTTTTACCTCTTCAGCGTTCCCGAGAGGGCAA',\n",
       "       'GGTAAACGTCTTCAGCGTTCCCGAGAATACTA',\n",
       "       'CCATCTTATCTTCAGCGTTCCCGAGACAGACA',\n",
       "       'CATTTTCCTCTTCAGTCTTCAAGGATCTCACT',\n",
       "       'GCCTTTAAGTTTCAGCTTTGCAACCATACTTC',\n",
       "       'TACAGCTTTTTTTTTTTTTTTTTTTTTTTTTT',\n",
       "       'TCTTGTCTTCTTCAGCGTTCCCGAGAATAGCA',\n",
       "       'CCGCGGTCCAGCGTGGCGAGCTTGCTACGGTC',\n",
       "       'AACTTTGTCTTCAGCGTTCCCGAGATTACACA',\n",
       "       'GTGTCAGCTCTTCAGCGTTCCCGAGAAGAGGA',\n",
       "       'GGCTGTTATCTTCAGCGTTCCCGAGACGGTCC',\n",
       "       'GTATCGCGTCTTCAGCGTTCCCGAGATCACGA',\n",
       "       'GCCCCCGGCAGTCTCTTTTAATCATTACTTCA',\n",
       "       'ACGGATCATTTCAGCGTTCCCGAGACTTTAGT',\n",
       "       'GAGTCCCATCTTCAGCGTTCCCGAGAGGTTAC',\n",
       "       'AGCGGCTGCTGGCACAGAGTTAGCCGGTGCTT',\n",
       "       'CCCGACCATCTTCAGCGTTCCCGAGAAGGTGC',\n",
       "       'GTTCGTTGGTGTAGCCCAGGTTGACCGCGTCG',\n",
       "       'CAACAATTCTTCAGCGTTCCCGAGACCGAAAT',\n",
       "       'TTTAAACTTCTTCAGCGTTCCGGGAGAAAGTC',\n",
       "       'CTGGGAGATCTTCAGCGTTCCCGAGATGACAG',\n",
       "       'AAAAAAAAAAAAAAAAAAAAAAAAAATAAATA',\n",
       "       'CTGTCCTTCTTCAGGTTCCCGAGACGATAATC',\n",
       "       'ACCGCCTTTCAATGCGTGTTTTTTTTTTTTTT',\n",
       "       'GTGACAGTTCTTCAGCGTTCCCGAGACAGTTT',\n",
       "       'TCCGATCATCTTCAGCGTTCCCGAGACACGTT',\n",
       "       'CTGGCGGCTCTTCAGCGTTCCCGAGATCGGTG',\n",
       "       'CACACAGTCTTCAGCGTTCCCGAGAGCAAACT',\n",
       "       'ACTTCCAATCTTCAGCGTTCCCGAGAAAGCCT',\n",
       "       'CCCCTGGTCTTCAGCGTTCCCGAGATCAGCCT',\n",
       "       'AACGATACCAATTCCTCGGATTTTTTTTTTTT',\n",
       "       'CATTTGTGTCTTCAGCGTTCCCTGTCTCTTAT',\n",
       "       'TCGATTGGGGCGGGATACAGCGTGATGCGATG',\n",
       "       'CTCGGAGTTCCCGAGAGTCTCATTCCTCTGCC',\n",
       "       'GCCGGTCATACGACTCACTATAGGGCCTGTCT',\n",
       "       'CACCTGATGTCGGTTTGCGGTACGGTCTCGTA',\n",
       "       'AATCAATGTCTCGAGATAACTTTTTTTTTTTT',\n",
       "       'ACAAATCATCTCGCTAGATCTTTTTTTTTTTT',\n",
       "       'AAGATGGGTCTGGGCTGTCGATGGCCCGCCCC',\n",
       "       'CCAGTCTATCTTCAGCCTGTCTCTTATACACA',\n",
       "       'TGCGGCTATCTTCAGCGTTCCCGAGATCTTAC',\n",
       "       'CGTTTTTTCTTCAGCGTTCCCGAGACAAAGCT',\n",
       "       'GAATTAATCTTCAGCGTTCCCGAGAACTAGAC',\n",
       "       'CGTCGTCCCGGTCTATCCGGCTCAAGGGGGTC',\n",
       "       'ACGGCGTTTCTTCAGCGTTCCGGCAAAGAGTG',\n",
       "       'CCCACTGTCTTCAGCGTTCCCGAGATCTAAGA',\n",
       "       'AAATCAATCTCAAAAACACATCACCAAGCCCA',\n",
       "       'AGATACACTCTTCAGCGTTCCACTCGTTTCCC',\n",
       "       'CCGACGGTTTTTTTTTTTTTTTTTTTTTTTTT',\n",
       "       'CCTCCACGTCAGAACTAGGACGGTATCTGATC',\n",
       "       'AAAGCCGATCTTTCAGCGTTCCCGAGAATATT',\n",
       "       'TCAAATCTCTTCAGCGTTCCCGAGATATATCA',\n",
       "       'CCCGGAATTCTTCAGCGTTCCCGAGACGGGGA',\n",
       "       'GCTACCTTCTTCAGCGTTCCCGAGAACTTCTT',\n",
       "       'GACTGCATTCTTCAGCGTTCCCGAGACATGAC',\n",
       "       'CCGATGTCTGGTACATCGATCCCGGCCTGGAC',\n",
       "       'GGCTCAGTTCCTTGTAGTGGTTGGCCTGCAGC',\n",
       "       'ACTTCTTGTCTTCAGCGCGTTTTTTTTTTTTT',\n",
       "       'CCGATTTATCTTATTTGGCTTGCAATTCTTTA',\n",
       "       'ACAACCATCTTCAGCGTTCCCTATTAGTGGGT',\n",
       "       'CCTATATTCTTCAGCGTTTTTTTTTTTTCAAC',\n",
       "       'AAACGACTTCTTTCAGCGTTCCCGAGAGGTTC',\n",
       "       'TCTTGGCTCTTCATCGTTCCCGAGAAGTGCCA',\n",
       "       'ACTGTGTCTCTTCAGCGTTCCCGAGATCGCCC',\n",
       "       'ACTCCCTTTCTTCAGCGTTCCCGAGAGTGAGA',\n",
       "       'CATATATTCTTCAGCCTTCCCGAGACTTCGAT',\n",
       "       'TCTGTTATCTTCAGCGTTCCCGAGAATTCCGA',\n",
       "       'GTCAGTGTCTTCAGCGTTCCCGAGACCCCGCG',\n",
       "       'ACAAATCATAGCGTCAGATGGGGTTGAAGTTC',\n",
       "       'CTCTTCCTTTAAGTTTCAGCTTTGCAACCATA',\n",
       "       'ATGAGTGTCTTCAGCGTTCCCGAGAATTAGAG',\n",
       "       'CGAGTCTATCTTCAGCGTTCCGAGAAAAGGCC',\n",
       "       'CAAATTATTAAACAACATAACAGACAAAAATA',\n",
       "       'TCGTGACGTCTTCAGCGTTCCCGAGACCACCG',\n",
       "       'CCTTCACGTCTTCAGCGTTCCCGAGAAAGATT',\n",
       "       'ACTTCAATCTTCAGCGTTCCCGAGAGCTGTTT',\n",
       "       'GTGATGTGGGCCATGGCCGCCCCGACCCGCTC',\n",
       "       'GCGGGGCGCGCCGTCCGCGTCCAGCGCGTAGG',\n",
       "       'CCTTTTCGTCTCCAGCGTTCCCGAGACGTAAT',\n",
       "       'TGCCGGTAATACGACTCACTATAGGGCTACAC',\n",
       "       'GGTACAGTTCTTCAGCGTTCCCGAGATGGTGT',\n",
       "       'GTAGCTCCTCTTCAGCGTTCCCGAGAGATAAG',\n",
       "       'GTTTTTTTTTTTTTTTTTTTTTTTTTTTTTTT',\n",
       "       'TCCGTGGTGCTGACGGCCGAGCCGGTGCGGCC',\n",
       "       'TGTCGCGGTCTTCAGCGTTCCCGAGAAAGCGA',\n",
       "       'TCGAACGCTCTTCAGCGTTCCCGAGAGCGCAG',\n",
       "       'GGCCGTACTCTTCAGCGTTCCCGAGAATTTTC',\n",
       "       'GATGAGTCTCTTCAGCGTTCCCGAGAGATTTT',\n",
       "       'GGGCAAGATCTTCAGCGTTCCCGAGAGCCCGT',\n",
       "       'AGTTAAGTTCTTCAGCGTTCCCGAGATGCCTG',\n",
       "       'CCTGTCCTCTTCAGCGTTCCCGAGAAATAAGG',\n",
       "       'CCTGTTTGTCCGTCTTTGCCACGAGCCCCAAT',\n",
       "       'AGTTGCCATCTTTCGGGTCTCTACATGATCGC',\n",
       "       'TACTTCATTCAGCGTTCCCGAGACCTTAGTTC',\n",
       "       'ACGTTTCATCACGGCAAAGCCGATCAGCAGCG',\n",
       "       'CAATTTATCTTCAGCGTTCCCGAGACGATCTG',\n",
       "       'CGGAAGATTCTTCAGCGTTCCCGAGACCTGCC',\n",
       "       'CTCGCCTGCGCCGCCCAGCTGCTGGCCGCCAC',\n",
       "       'CGCGGAACGGGCCGCGGATGTCGGGACGGGAA',\n",
       "       'CGTTCCCTCTTCAGCGTTCCCGAGACGGGATC',\n",
       "       'TAGAAGTTTTTTTTTTTTTTTTTTTTTTTTTT',\n",
       "       'CGAAAGTATCTTCAGCGTTCCCGAGAGCAACG',\n",
       "       'AGCGCAGATCTTCAGCGTCAGGCTGGCGGACC',\n",
       "       'GATTAACCTCTTCAGCGTTCCCGAGAGCTGCA',\n",
       "       'ATACATTTTCATCACCGTTTTCATTAACATTT',\n",
       "       'ATATCTTCCCGAGATCTAAGTCCTTTGTGTGT',\n",
       "       'TAGCTTTTCTTCTATAGAATCTTCTTTACTTT',\n",
       "       'CGACCAGCTCTTCAGCGTTCCCGAGAACCTGC',\n",
       "       'ATTGGGATCAATTCAGTTTTTTTTTTTTTTTT',\n",
       "       'GATAAGTATCTTCAGCGTTCCCGAGATTATTA',\n",
       "       'GGGAATGCTCTTCAGCGTTCCCGAGACCTATA',\n",
       "       'GGGGTTTATCTTCAGTGTTCCCGAGAACGCGA',\n",
       "       'TGGGTGGATCTTCAGCGTTCCCGAGAGGGCCG',\n",
       "       'ATTGCTGTCTCTTATACACATCTCCGAGCCCA',\n",
       "       'TAACCTCTTCTTCATCGTTCCAGATGGGGTTG',\n",
       "       'AGCCCAGTTGCAGGCCGGCGACGCGCGGATGG',\n",
       "       'GGCGTGTAATCGTGGCTGGCCGAGTTTGAACC',\n",
       "       'ACTCGGGAACGCTGAAGAACGTAGCCAGATCG',\n",
       "       'ACTAGCATTCTTCAGCGTTCCCGAGACCCGAA',\n",
       "       'ACATGAGTCTTCAGCGTTCCCGAGAGCAGCTG',\n",
       "       'GTGATTTATCTTCAGCTTTCCCTATTAGTGGG',\n",
       "       'TCCGAAATTCTTCAGCGTTCCCGAGAGGCGTC',\n",
       "       'CCACTTCAGTCTTCAAGGATCTCACTTGAATA',\n",
       "       'GTTATATGTCTTCAGCGTTCCCGAGAAACTCA',\n",
       "       'TGGTCGGTTCTTCAGCGTTCCCGAGACACCGA',\n",
       "       'TATTGTTTTCTCAATTATAAAATTTACTTCTT',\n",
       "       'ATCGCCATCTTCAGCGTTCCCGAGAGGAAGCC',\n",
       "       'ACTACACTCTTCAGCGTTCCCGAGAAGTCGGT',\n",
       "       'TCAACGACTCTTCAGCGTTCCCAAGATCCTGA',\n",
       "       'CCTGTCCATCTCAGCCCGAGATCAATATTCTA',\n",
       "       'CCCAGAGGTCTTCAGCGTTCCCGAGAGGCGGT',\n",
       "       'GGTTACTTTCTTCAGCTTTGCAACCATACTTC',\n",
       "       'TCCGTATTCTTCAGCGTTCCCGAGAGGATTAG',\n",
       "       'TCTGGCATTCTCAGCGTTCCCGAGACGCAAAG',\n",
       "       'TTGGGGCTCTTCAGCGTTCCCGAGACCTCAAT',\n",
       "       'GGTCGGCATGGGCCACGCCGGCGTCTTGCCGG',\n",
       "       'ATGCCACTTCTTCAGCGTTCCCGAGACCAATC',\n",
       "       'ATAAGACTTCTTCACGTTCCCGAGAAGCGGCC',\n",
       "       'ATATGTCTCTTCAGCGTTCCCGAGAGGAAGAC',\n",
       "       'CGCCCATCAGGCTGGCGGGCCGCTTCAGGTCG',\n",
       "       'TTCTGCCGGCCGCCATGTCGCGCGCGGCTTCC',\n",
       "       'CCTACAGTTCTTCAGCGTTCCCGAGACGAAAT',\n",
       "       'CCTGCGACTTGTCCAGAATGCGCTTGATCTCG',\n",
       "       'GAAAATATCTTCAGCGTTCCCGAGAAAGTACG',\n",
       "       'CACGCCAATCTTCAGCGTTCCCGAGAGACGTG',\n",
       "       'TCAACCTTCAAGGATCTCACTTGAATAATTGC',\n",
       "       'CTTCCGTTCTTCAGCGTTCCCGTACACCGCCT',\n",
       "       'GTCATCAATCTTCAGCGTTCCCGAGATTGTTT',\n",
       "       'GAGGAAACCGAGACTGCTCCTCGTCCAGGTTT',\n",
       "       'AGTACGTTTCTTCAGCGTTCCCGGCTCGACCG',\n",
       "       'TGACATCATCTCCATTCTTCGCGCGATCAAGA',\n",
       "       'AGAAGATTCTTCAGCGTTCCCGAGACTCTACT',\n",
       "       'ATGCGCTTCTTCAGCGTTCCCGAGACCAGCTG',\n",
       "       'CCTCCCGAGATAAAGGGTCGCAGAATTTTTTT',\n",
       "       'ATCCTCGGTCTTCAGCGTTCCCGAGATGCAAT',\n",
       "       'CTCCGGCGCCACCGACAGCGCGTCGTTTTCGT',\n",
       "       'TTTCAACCTCTTTACATCATACCTCCCATTCC',\n",
       "       'TCCTTGGATCTTCAGCGTTCCCGAGACGTTCG',\n",
       "       'GGTTCGCTTCTTCAGCCATCCCGAGATGCCAT',\n",
       "       'TCACGACCTCTTCAGCGTTATATCGGATTTTT',\n",
       "       'AACGAGCTCTTCAGCGTTCCCGAGAGCCGATC',\n",
       "       'GTGCGCCATCAACAAGCTGACCCACGCGCACT',\n",
       "       'GACGCAATCTTCAGCGTTCCCGAGACGAGAGT',\n",
       "       'CTCATCTCTTCAGCGTTCTGCAGTGTTTTTTT',\n",
       "       'GACAAAAGTCTTCAGCGTTCCCGAGATAACTA',\n",
       "       'ACAGACCTGTCTCTTATACACATCTCCGAGCC',\n",
       "       'TGCGATTCTCTTCAGCGTTCCCGAGACATTAT',\n",
       "       'TCCTACCATCTTCAGCGTTCCCGAGATCCTCT',\n",
       "       'GATATTCATCTTCAGCGTTCCCGAGAAGCTTT',\n",
       "       'CCCGTATTTCTTCAGCGTTCCCGAGAGTTACG',\n",
       "       'ATGTCACTTCTTCAGCGTTCCCGAGAGCATTA',\n",
       "       'CGATCCCCTGGTTGGCGTGCACGGGGCGCAGC',\n",
       "       'TGGTACTGTCTTCAGCGTTCCCGAGAGGGAGC',\n",
       "       'GCTGGCTGTCTTCAGCACCAGCAACTGGTCGG',\n",
       "       'GCGACTCATCTTCAGCGTTCCCTCGTTCATCG',\n",
       "       'AGATAGCTCTACAGCGTTCCCGAGAAGGGGGA',\n",
       "       'GGTGATCATCTTCAGCGTTCCCGAGAGTGATG',\n",
       "       'CCTATGTCTCTTCAGCGTTCCCGAGACTTCTA',\n",
       "       'CCTTTGTCTATTTTTGCATCTCTCAACGATTT',\n",
       "       'GTGACAGTTCTTCAGCGTTCCCGAGACAGTTT',\n",
       "       'GGTTTACTTCTTATGCTAAATTGGTTTTGGTT',\n",
       "       'ATATAACTTCTTCAGCGTTCCCGAGAGCAAGC',\n",
       "       'GCGACCTGTCTGTTCTTTTTTTTTTTTTTTTT',\n",
       "       'GACACAGGGTCTTCAGCGTTCCCGAGATACAG',\n",
       "       'TCAGCGTTCCCGAGAAGTTGCCTCTCCATTAC',\n",
       "       'TCGTATCTTCTTCAGCGTTCCCGATAGATTAG',\n",
       "       'CTACTGCCTCTTCAGCGTTCCCGAGACTTAGG',\n",
       "       'CCTATATTTTTTTTTTTTTTTTTTTTTTTTTT',\n",
       "       'GTGCAACATCTTCAGCGTTCCCGAGATCGCTT',\n",
       "       'GCAGTGTGTAGACGTTGTAGCCGGTCTGCATG',\n",
       "       'CCTGAAAGTTCTAAAACCGTACTAAAATTAGA',\n",
       "       'CCAAGTGATCTTCAGCGTTCCCGAGATACAAG',\n",
       "       'GAGCGTCTCTTCAGCGTTCCCGAGATCAACCT',\n",
       "       'GACACCACTCTTCAGCGTTCCCGAGACGTTAT',\n",
       "       'CATGTCAGCATTCGCACTTCTGATACCTCCAG',\n",
       "       'GCCCGAATCTTCAGCCTTCCGAGAAACTCCGT',\n",
       "       'TCGGACGTTCTTCAGCGTTCCCGAGACAGCCC',\n",
       "       'TAGATGAGTCTTCAGCGTTCCCGAGAGCGAAT',\n",
       "       'AGCCGCGCCCAGCGGACAGAGGTAGCGGCAGA',\n",
       "       'TGACAAGATCTTAGCGTTCCCGAGACATTTGG',\n",
       "       'ATACCTCATCTTCAGCGTTCCAAGCTGAGCAG',\n",
       "       'ACTTCAATAATAAAATTTACTTCTTTGCTTTA',\n",
       "       'GCTAGGTCTCTTCAGCGTTCCCGAGATCATGT',\n",
       "       'TCCCAGGATCTTCAGCGTTCCCGAGACACTGT',\n",
       "       'TCTTTTCCTCTTCAGCTCGGGGTTGGGAATGG',\n",
       "       'ATCAGTGTCTTCAGCGTTCCCAGACCCGCGCG',\n",
       "       'GGAATATATCTTCAGCGTTCCCGAGACAGCTA',\n",
       "       'CTAAACCTTCTTCAGCGTTCCCGAGATCTTGC',\n",
       "       'ATAGACACTCTTCAGCGTTCCCGAGACTACGT',\n",
       "       'CAGCGGCTTCTTCAGCGTTCCCGAGAACCCAA',\n",
       "       'GCCGCCCGTCTTCCGCGTTCCGAGAATTTACT',\n",
       "       'CAAAGTGATCTTCAGCGTTCCCGATTAGTGGG',\n",
       "       'GCTTCAGATCTTCAGTGTTCCCGAGAGATCGT',\n",
       "       'GAAAAAGTCTTCAGCGTTTCCGGAAGGCGGGG',\n",
       "       'CGGCGCGGCTCAGCGTCGAGGTGCGCTGCGTG',\n",
       "       'TTGGTTCTTCAGCTTCCCGAGATCTCCTCGGG',\n",
       "       'CTAGAAATTCTTCAGCGTTCCCGAGAGAGGCT',\n",
       "       'GTTAGTATTCTTCAGCGTTCCCGAGAGTTCTG',\n",
       "       'TCGCGATCCTGTCGGCCTTCCTGATCATCATC',\n",
       "       'CAAAGACATCTTCAGCGTTCCCGAGAAGCCGT',\n",
       "       'GCACGTTGTCGGCCATGCTGCCGGCGAACGCC',\n",
       "       'AGTGGCGCTCTTCAGCGTTCCCGAGAGTTCGG',\n",
       "       'GCACTTACTCTTCAGCGTTCCCGAGACTTCGT',\n",
       "       'TTCTTCTAGTTCTTGGATTCTGGCATTCATCT',\n",
       "       'GGTTTACTTCTTCAGCGTTCCCGAGACGTCGC',\n",
       "       'ATCTTAATCTTCAGCGTTCCCGAGATTAAATG',\n",
       "       'TAATCTCATCTTCAGCGTTCCCGAGATGGTTT',\n",
       "       'GGAATATATCTTCAGCGTTCCGAGACAGCTAT',\n",
       "       'TCGGGAGATCTTCAGCGTTCCCGAGACGCTAC',\n",
       "       'CAATTTCCTCCTCAGCGTACCCGAGAACAGGC',\n",
       "       'GGCGCCCGAGTCAGCCATCATGTAGATGGAGT',\n",
       "       'AATATCCATCTTCAGCGTTCCCGAGAACATTT',\n",
       "       'GATGCGCGGGTTCCTCGATCAGCGTGCCCAGG',\n",
       "       'ACTCTGCGTCTGTCTCTTATACACATCTCCGA',\n",
       "       'GACAGGGTCTTCAGCGTTCCCGAGAGAAATAC',\n",
       "       'TGCCGTCGGCGCGGCTGTGGCTGTCGATGACG',\n",
       "       'ACCCTAGTCTTCAGCGTTCCCGAGATCCGCAT',\n",
       "       'AGCCGTCGCCATACGTCACGGTCGCGCCCATG',\n",
       "       'ATCTTGTCCTTCGAAGTCGTGTATATCTTTGA',\n",
       "       'GGTTTACGCCGAAAGGCGGACTGGAAACCGCC',\n",
       "       'ACAACGAATCTTCAGCCCGCGTCGACTGGCCG',\n",
       "       'CGGGCCGTTCGCGTTCACTTTTTTTTTTTTTT',\n",
       "       'AGCCGCCGTCTTCAGCGTTCCCGAGATGTTTC',\n",
       "       'CTTATATTCTTCAGCGTTCCCGAGAGCTGGCA',\n",
       "       'AGGAGGCCTCTCCAGCGTTCCCGAGACCGGGA',\n",
       "       'CGAAGAAATCTTCAGCGTTTTTTTTTTTTTTT',\n",
       "       'ATTGCGATTCTTCGAGCTTTCCTTTGGCGATA',\n",
       "       'CCGTCCCTGTGTGTATGTCCCAGACTCGGATT',\n",
       "       'AGATCCCCTCTTCAGCGTTCCCGAGAAATCGA',\n",
       "       'ATCACGCTCTTCAGCGTTCCCGAGATTCTGGG',\n",
       "       'CTAACACATCTTCAGCTTCGTAGGACCTACAG',\n",
       "       'GCGGTGGCTCTTCAGCGTTCCCGAGAACATAG',\n",
       "       'CATAGGCTCTTCAGCGTTCTCGGGAACGCTGA',\n",
       "       'CCACAATATCTTCAGCGTTCCCGAGCAGACAC',\n",
       "       'ACATCCATTCTTCAGCGTTCCCGAGAAATTCA',\n",
       "       'GGACCGTCCTGCTGTCTTTATCAACCAACACC',\n",
       "       'CGAGGGGTCTTCAGCGTTCCCGAGAGGTTGAG',\n",
       "       'TCGATTGGGGCGGGATACAGCGTGATGCGATG',\n",
       "       'GACGGAACTCTTCAGCGTTCCCGAGATGCGTA',\n",
       "       'TACCAAATCTTCAGCGTTCCCGAGACCTGCTT',\n",
       "       'TACACGCTTCTTCAGCGTTCCCGAGAGCACCA',\n",
       "       'TCCTTAAATCTTCAGCGTTCCCGAGATTCCAA',\n",
       "       'GAGGTCTATCTTCAGCGTTCCCGAGACGGGTT',\n",
       "       'ACAACGGTTCTTCAGCGTTCCCGAGATTGAGC',\n",
       "       'GGATGGATTCTTCAGCGTTCCCGAGATTGTTC',\n",
       "       'GCGATTCTCTTCAGCGTTCCCGAGACATTATA',\n",
       "       'GTAAAGTCTCTTCAGCGTTCCCGAGATTGCAG',\n",
       "       'GTATTCGTACTGAAAATCAAAAATCAAGTGAG',\n",
       "       'CACCCGTATCTTCAGCGACAGCTGTCTCTTAT',\n",
       "       'GCCGCGCATCGTCGGCGAGACCAAGCCGGGCA',\n",
       "       'CCGTTACTCTTTAGCGTTCCCGAGACTTCACA',\n",
       "       'GGCAGAACTCTTCAGCGTTCCCGAGAGCTACC',\n",
       "       'TCGCGCCATCTTCAGCGTTCCCGAGATAGGAA',\n",
       "       'TTCATCCATCTTCAGCGTTCTCGAGATTCTCG',\n",
       "       'GATGCCGCTTTCGTATTGAGCGTGACGCGCCA',\n",
       "       'CACATGAGTCTTCAGGGATCTCACTTGAATAA',\n",
       "       'CTGTACCATCTTCAGCGTTCCCGAGAATACTC',\n",
       "       'CTCCACAGTCTTCAGGGATCTCACTTGAATAA',\n",
       "       'AATCCGTATCTTCAGCGTTCCCGAGATCTTGG',\n",
       "       'CCCCACCTGACACTGTCCTCAGAACAGCTCGA',\n",
       "       'GTCCCCGATCTTCAGCGTTCCCGAGACACCTT',\n",
       "       'TGCCGTTTTTCCATCCATTGTTGGTCGTCCAA',\n",
       "       'CACATTGACATTCATGGCTGTCTCTTATACAC',\n",
       "       'AGGTGCTGTCTTCAGCGTGATATTCAAGTCAA',\n",
       "       'AATATAAATATAAATATTTAAATATAAATTAA',\n",
       "       'GGCATCTATCTTCAGCGTTCTCTCATTATCGA',\n",
       "       'AACCAAATTCTTCAGCGTTCCCGAGAGAAGTC',\n",
       "       'GTCAAGCATCCTGTCTCTTATACACATCTCCG',\n",
       "       'CGCTATTTCTTCATCCCGAGACCTCTAATCGG',\n",
       "       'TGATACAGTCTTCATCGTCATTCTGGACTCCT',\n",
       "       'CCTTCTCATCAATTATTAACATTTCCGCACAT',\n",
       "       'GACCTTCAATTCGCCGACCCTGCCGGGCCAGG',\n",
       "       'TAGGCTCCTCTTCAGCGTTCCCGAGATATTGG',\n",
       "       'CCACTCAAAATAGAAGCTCCACACCAATGAGA',\n",
       "       'AAACCGATTCTCAGCTCACGTTCCCTATTAGT',\n",
       "       'CTCCCCATTCTTGATTCAGTCTCTGACCACGT',\n",
       "       'TTAAGTCTTCTTCAGCGTTCCCGAGAGCATAC',\n",
       "       'AACAGGGTCTTCCGCCGATCCCGATTTTCTTA',\n",
       "       'CCGCCACCATCGTCGACCAGGCCATAGACTGG',\n",
       "       'TTGCGTGATCTTCAGCGTTCCCGAGATGGAGG',\n",
       "       'GACGTAAGTCTTCAGCGTTCCCGAGATCAAAA',\n",
       "       'CACCCTCGTCTTCAGCGTTCCCGAGAGTCCCT',\n",
       "       'CCCAGCATCTTCAGCGTTCCCGAGACCCTGTT',\n",
       "       'TCGCATGCTCTTCAGCGTTCCCGAGAACTGTA',\n",
       "       'CCAAATTAAACGCCAACATATAGGATGCCCCA',\n",
       "       'CTCCCCATTCTTCAGCGTTCCCGAGATTCAGC',\n",
       "       'ATCTCCAGTCTTTCATTTTAACACCGAGCCAA',\n",
       "       'TTGCAATTCTTCAGCGTTCCCGAGACGGGGTG',\n",
       "       'GCTGACAGTCTTCAGCGTTCCCGCAACGCTGA',\n",
       "       'ACTTCTGTCTCTTATACACATCTCCGAGCCCA',\n",
       "       'TGACCCACACCGACCTGCTGCGGCTCAATTTC',\n",
       "       'GGTTTCCATCTTCAGCGTTCCCGAGAACCCGA',\n",
       "       'AAGAAGATTCTTCAGCGTTCCCGAGAAAGGGA',\n",
       "       'GTTTCACTCTTCAGCGTTCCCGAGATAATGAT',\n",
       "       'ACATTACCTCTTCAGCGTTCCCGAGAGCGCGT',\n",
       "       'CTCTCGGGGCCGGTAATACGACTCACTATAGG',\n",
       "       'ATACTACGTCTTCAGCGTTCCCGAGACCTTGA',\n",
       "       'GGCTCTCGTCTTCTCTGTATATATGCCATTTC',\n",
       "       'CCGCCGGCAACGACCTGCGCGACGCCCCGGCC',\n",
       "       'CCCTTTCTTCTTCAGCGTTCCCGAGAATCATA',\n",
       "       'CCCTACCTTCTTCAGCGTTCCCGAGAGTTTAA',\n",
       "       'CAGGCTTTTCTTCAGCGTTCCCGAGACGATTT',\n",
       "       'AAATGTATTCTTCAGCGTTCCCGAGAGCATAT',\n",
       "       'GTGACTTGCAGGGACATCGAATACAGGTGATC',\n",
       "       'ATCAATCGTCTTCAGCGTTCCCGAGAAGGCAC',\n",
       "       'GCGGAGTGTCTTCAGCGTTCCCGAGAATATCC',\n",
       "       'GTTAACCATCTTCAGCGTTCCCGAGAATCGTA',\n",
       "       'GTTTGCACCTGTCTCTTATACACATCTCCGAG',\n",
       "       'TTATGGTTCTATTTTTATCTCTATCATATAAA',\n",
       "       'TCTTCTCCTTCAGCGTTCCCGAGAATTCAATT',\n",
       "       'GATATGTTCTTCAGCGTTCCCGACGTACGGGC',\n",
       "       'CGCTCCGGTGACAGTTCCCAGCGGCTGCACGT',\n",
       "       'GCCTCACTTCTTCCGCGCCGTTCTGCTGCGCA',\n",
       "       'TCCATCGGTCTTCAGCGTTCCCGAGATTCGGG',\n",
       "       'GCAGAACCTCTTCAGCGTTCCCGAGAGGACCG',\n",
       "       'TCAGGCGGCCCGGCTGCTGCGCGGCCAGCACA',\n",
       "       'GCTGTACTCTTCAGCGTTCCCGAGAACCCGCC',\n",
       "       'CACGCCAATAATTGCTACTACTACCAAGATCT',\n",
       "       'TATCGTCCTCTTCAGCGTTCCCGAGAGTCTCT',\n",
       "       'TGTCCCGTTCTTCAGCGTTCCCGAGATATCGG',\n",
       "       'TGACCACCCTGCCCGCCACCCCGCCCTTCATC',\n",
       "       'ACTTCGAGTCTTGTAAAATTTCTTCAGATAAT',\n",
       "       'TTGTTCTTTCTTCAGCGTTCCCGAGACCGGAT',\n",
       "       'TACGCAGGTCTTCAGCGTTCCCGAGAAAGAAT',\n",
       "       'CCTTCCTCTCTTCAGCGTTCCCGAGAAACGCC',\n",
       "       'AAGGTGTCATTTTCAGCGGTTTAATATTAGTA',\n",
       "       'TCAATTTTTTTTTTTTTTTTTTAAAAATCCAA',\n",
       "       'TCTTGTCTTCTTCAAAGTTCTTTTCAACTTTC',\n",
       "       'GTATGAATCTTCAGCGTTCCCGAGAATATTGT',\n",
       "       'AAACAGCCTCTTCAGGTAATTGTGTTTCTTCC',\n",
       "       'TTTGGACTCTTCAGCGTTCCCGAGAATCCTGA',\n",
       "       'ATCGCGTTTCTTCAGCGTTCCCGAGATATGCT',\n",
       "       'GTAGTACTCTTCAGCGTTCCCGAGACCCGTCT',\n",
       "       'GCCACGCTTCTTCAGCGTTCCCGAGAAGCTTA',\n",
       "       'GAGTGTGATCTTCAGCGTTCCCGTAGGCATCC',\n",
       "       'GAGCTACGTCTTCAGCGTTCCCGAGATCTGGC',\n",
       "       'AAAAAAAAAAAAAAAAAAAAAAATAAATATGG',\n",
       "       'TATTAATTCTTCAGCGTTCCCGAGACGATCGA',\n",
       "       'TCATCAGTCTTCAGCGTTCCCGAGATAGTATG',\n",
       "       'AAACCCTTCTTCAGCGTTCCCGAGATACACAA',\n",
       "       'ATTGAGTGTCTTCAGCGTTCCCGAGACGGAAC',\n",
       "       'GGTGGGTTCTTCAGCGTTCCCGAGATGGCTAC',\n",
       "       'ACCAATTATCTTCAGCGTTCCCGAGAGTGTCC',\n",
       "       'TTCTGAATCTTCAGCGTTCCCGAGATCAAGAC',\n",
       "       'GAGAGTCATCCGACCCCGAGGGCAAGGAACTG',\n",
       "       'GATTTGCCTCTTTACGAGGTAGGCACTGAATT',\n",
       "       'AGGGGCTGTCTTCAGCGTTCCCGAGAGGCAAG',\n",
       "       'TATGACTGTCTTCAGCGTTCCCGAGATTGAAG',\n",
       "       'CTCAGACGTCTTCAGCGTTCCCGAGACGATCA',\n",
       "       'CCGCTGGTTCTTCAGCGTTCCCGAGACCGAGG',\n",
       "       'ACGTGCGTCTTCAGCATTCCCGAGAGGTCTGC',\n",
       "       'AAAACCAATCTTCAGCGTTCCCGAGAGCCGGG',\n",
       "       'CTTTAGCTTCTTCAGCGTTCCCGAGACCCCGG',\n",
       "       'TACGTCAATCTTCAGCGTTCCCGCCCGCAGCG',\n",
       "       'CGAAGACCTCTTCAGCGTTCCCGAGAAGCCGG',\n",
       "       'TCGGACCTCTTCACCGTTCCCGAGACCTGCAT',\n",
       "       'ATCGCTACTCTTCAGCGTTCCCGAGAGATTCC',\n",
       "       'ATTTTATTTCTTCAGCGTTCCCGAGAATCTTC',\n",
       "       'CCACGGGTCTTCAGCGTTCCCGAGAGTACAAT',\n",
       "       'GAGTGGTGCGCGCCGCGTCGGTGCTGCATGCC',\n",
       "       'ATGAACCATCTTCAGCGTTCCCGAGACCTCGC',\n",
       "       'TGTCGAGTTCTTCAGCGTTCCCGAGATACTAA',\n",
       "       'CTACTGCCTCTTCAGCGTTCCCGAGACTTAGG',\n",
       "       'CACTGTACTCTTCAGCGTTCCCGAGAATTTGC',\n",
       "       'GACCGTGCTGGGCGCCTCGAACCACTTGTTGA',\n",
       "       'TCGACTTATCTTCAGCGTTCCCGAGATTTGAT',\n",
       "       'CGATAGCATCTTCAGCGTTCCCGAGGGCAATT',\n",
       "       'GTGTCATTCTTCAGCGTTCCCGACACAAAGTG',\n",
       "       'CAGATCTTTCTTCAGCGTTCCCGAGACGAATG',\n",
       "       'GTCTACCATCTTCATCGTTCCCGAGAGATATG',\n",
       "       'GCCGGTAATACGACTCACTATAGGGCTACACG',\n",
       "       'AGCCTAGATCTTCAGCGTTCCCGAGAAAGTCC',\n",
       "       'GTGTCCGGTCTTCAGCGTTCCCGAGAGTAAAC',\n",
       "       'GCTTACGTTCTTCAGCGTTCCCGAGATCACTT',\n",
       "       'CTAATTCCTCGTTCAAGTGGAATAATTTCAAT',\n",
       "       'CGAAGATTCTTCAGCGTTCCCGAGAACGGTCG',\n",
       "       'AGAAAAAAAAAAAAAAAAAAAAAAAAAAAGAA',\n",
       "       'AGTCGTCTTCTTCAGCGTTCCCGAGACCCTTG',\n",
       "       'CGTGCTCTTCTTCAGCGTTCCCGACCGGTCGT',\n",
       "       'CTTGCGTTCTTCACTTCCTTGACGAAGTCCTG',\n",
       "       'ATGCCGGGCTCCCAAACGAGAACCCTGGTCTG',\n",
       "       'TGATGCGGTCTAATATTCATCGGGCGAATATT',\n",
       "       'CATTGCTTTCTTCAGCGTTCCCGAGAAACCTC',\n",
       "       'TACATATCTCTTCAGCAACGTCAGCTCTAAGA',\n",
       "       'TCAACCGTCTTCAGCGTTCCCGAGAGTATTGT',\n",
       "       'TTTCTATTCTTCAGCGTTCCCGAGATAGTTGG',\n",
       "       'GCCCGCGCCGGCGCATCATGCCTGACATTGCC',\n",
       "       'TTGAAGAAAAGGTCGTTGACCATCTGCTCGCC',\n",
       "       'GACTAGGTTCTTCAGCGTTCCCGAGAGGCCGG',\n",
       "       'ACCAGGGTCTTCAGCGTTCCCGAGAACACAGG',\n",
       "       'GCGGTACTCTTCAGCGTTCCCAGAGCATCAAT',\n",
       "       'TGACATCATCTTCAGCGTTCCCGAGAAACCAC',\n",
       "       'AACACCCTCTGACGGTTTTCTAGCATCCACCG',\n",
       "       'CCTCATAGTCTTCAGCGTTCCCGAGAGTAGCG',\n",
       "       'TCAACACTCTTCAGCGTTCCCGAGAACAATGA',\n",
       "       'CCCGCCCTTCTTCAGCGTTCCCGAGAATTTAT',\n",
       "       'TCACGTGTTCTTCAGCGTTCCCGCCGCCCCGC',\n",
       "       'ATAATTTATCTTCAGCGTTCCCGAGACCGATC',\n",
       "       'GGCTGGAACTCGGCTGCTGGCCAAAGCGCAGC',\n",
       "       'ATCCTCCGTCATCAGTTAGTCCTCTCATTTTT',\n",
       "       'CCCATATATCTTCAGCGTTCCCGAGATTCCGG',\n",
       "       'GGCGTATTTCTTCAGCGTGCCCGACCTGCCCG',\n",
       "       'CTAGATATCTTCAGCGTTCCCGAGAGGGCGAT',\n",
       "       'AATCGTCCTCTTCAGCGTTCCCGAGAGGGGGG',\n",
       "       'GCTCATATCTTCAGCGTTCCCGAGATTATCTC',\n",
       "       'TCATCGACTCTTTTTTTTTTTTTTTTTTTTTT',\n",
       "       'AAACCCGCACGCGTTCGGCCGGTACGCCCATC',\n",
       "       'GGTGTGGTCTTCAGCGTTCCCGAGACTTTGCC',\n",
       "       'ACCAACGGTCTTCAGCGTTCCCGAGATTCTGA',\n",
       "       'CTCTAATTTCTTCAAAGTAAACTTGTCGGTCA',\n",
       "       'AGCCCCTATACTCATGTCCGACGATCGATTTG',\n",
       "       'GACTTTATTCTTCAGCGTTCCCGAGAGGATAG',\n",
       "       'ATGTTTTTTTTTTTTTTTTTTTTTTTTTTTTT',\n",
       "       'CGATATAGTCATCAGCGTTCCCGAGATAAGAA',\n",
       "       'TTTGCTGGTCTTCAGCGTTCCCGAGATATAGG',\n",
       "       'GTGATACTTCTTCAGCGTTCCCGAGAGTTTTT',\n",
       "       'TCGCGCCCAGCGTGAGCATCTGGCACAGGCTG',\n",
       "       'CCTTCCAGTCTTCAGCGTTCCCGAGAGGGCAC',\n",
       "       'CCAAGTTCGTGGATTACATACGCACCTGAGAA',\n",
       "       'TCGACGAACCCTTCATCCTGTCTCTTATACAC',\n",
       "       'TGCCCAGCGCGAACAGCGCCAGCTGGCAGGTC',\n",
       "       'CTCCCGCTTCTTCAGCGTTCCCGAGATGCCGG',\n",
       "       'GATAACTGTCTTCAGCGTTCCCGAGAGCTCCT',\n",
       "       'AATTTTTCAGCGTTCCCGAGATTATTAGATCG',\n",
       "       'GAGCGGTAAAAACCGGGTGCAACTTGCTCGGA',\n",
       "       'GCAGATAATCTTCAGCGTTCCCGAGACATTAG',\n",
       "       'GCCTACACGACGCTCTTCCTGTCTCTTATACA',\n",
       "       'AACGCGCCGGTGTCGACGGGGACGTTTCATGA',\n",
       "       'AAGGAATTTCTTCAGCGTTCCCGAGAACTCAT',\n",
       "       'AAAAAAAAAAAAAAAAAAAAAAAAAAAGGACG',\n",
       "       'CTATGATTTTTTTTTTTTTTTTTTTTTTTTTA',\n",
       "       'TAGAAGATCTTCAGCGTTCCCGAGATGGCAGT',\n",
       "       'ACTAGCTCTCTTTTTCTACAACGCTATTTTTG',\n",
       "       'ATAAACTTTCTTCAGCGTTCCCGAGAAATGAG',\n",
       "       'CCTAGATATCTTCAGCGTTCCCGAGAGATGTT',\n",
       "       'CCGGATAGTCTTCAGCGACACCGAAGCCTGGG',\n",
       "       'CCGCGCCTCTTCAGCGTTCCCGAGAGGCGCTT',\n",
       "       'TCCGGGTTCTTCAGCGTTCCCGAGAAACGACG',\n",
       "       'CTTCCTGTCTCTTATACACATCTCCGAGCCCA',\n",
       "       'GCCCTTACTCTGTCTCTTATACACATCTCCGA',\n",
       "       'ACCCGGGCGCCGACGATCTGATCGTGCACGCC',\n",
       "       'ATTCTCTCTCTTCAGCGTTCCCGACCGTAAGG',\n",
       "       'GATTTGGTTCTTCAGCGTTCCCGAGAGAGTTC',\n",
       "       'CAATTAATCTTCAGCGTTCCCGAGAAATCAGG',\n",
       "       'ATATCGGTTCTTCAGCGTTCCCGAGAGTCCAA',\n",
       "       'GGGCCGGTAATACGACTCACTATAGGGCTAAT',\n",
       "       'GCTCCATTGTCATTTTTTTTTTTTTTTTTTTT',\n",
       "       'CACTAAACCATTCAATCGGTAGTAGCGACGGG',\n",
       "       'CAGAGACGTCTTCAGCGTTCCCGAGAAAGTAA',\n",
       "       'ACTAATTGTCTTCAGCGTTCCCGAGAGTTGGG',\n",
       "       'TCAGCGTTCCCGAGAGAAGCCATCTCTAAGGG',\n",
       "       'CCCTGTGTCTTTCAATAATATTATTTCATTTG',\n",
       "       'TCGATTGGGGCGGGATACAGCGTGATGCGATG',\n",
       "       'TGCCCACGTTTCAGCTTTGCAACCATACTTCC',\n",
       "       'TACTTCAGTCTTCAGCGTTCCCGAGACCTTAG',\n",
       "       'GCCACTTCTCTAGTCCGCAGCTCTTGAATCTC',\n",
       "       'CCTACAGTTCTTCAGCGTTCCCGAGACGAAAT',\n",
       "       'CTTCCTATTCTTCAGCGTTCCCGAGATCAGAA',\n",
       "       'CACTTAGTCTTCAGCGTTCCCGAGACCGCGGT',\n",
       "       'GTCGTAATTCTTCAGCGTTCCTGGACGATGGC',\n",
       "       'AGACTCGATCTTCAGCGTTCCCGAGAGTGCCT',\n",
       "       'TCAATGCTTCTTCAGCGTTCCCGAGATATGCT',\n",
       "       'AGTCATGATCTTCAGCGTTCCCGGTAGTTTCT',\n",
       "       'GGTGCGATTCTTCAGCGTTCCGAGATGGGCGA',\n",
       "       'GCTCAACGTGCCCACCGTCAGCGAGAGCGGCG',\n",
       "       'TAATCAGATCTTCAGCGTTCCCGAGACCAGAA',\n",
       "       'AGTCCTATCTTCTTAAGTGGACCCATGAATGT',\n",
       "       'GATTCTGATCTTCAGCGTTCCCGAGATTTCGC',\n",
       "       'CCACTGTTTCTTCAGCGTTCCCGAGATCAATG',\n",
       "       'CACTGGAGTCTTCCGTGCTCGAACACGGAAAC',\n",
       "       'TTATTGGTCTTCAGCGTTCCCGAGACAATAGC',\n",
       "       'ACAGGATCTCTTCAGCGTTCCCGAGAGTTTTG',\n",
       "       'TTTTTTTTTTTTTTTTTTTTTTAGAATTCAAA',\n",
       "       'GACAGTTTCTTCAGCGTTCCCGAGACCTGCTT',\n",
       "       'CGGGCAGTTGGTGGCCCAGTCGGAACTGTCGG',\n",
       "       'AATTTCACTCTTCAGCGTTCCCGAGAAATGAG',\n",
       "       'AAATGCGCTCTTCAGCGTGGCGCTGGGCGGCA',\n",
       "       'AATTCTTGTCGCGTTCCCGAGAGATGTGGTCA',\n",
       "       'TTTCCCACTCTTTAAATTTTTCAATCATGAAA',\n",
       "       'CTTTTGATCTTCAGCGTTCCGAGAAAGGTGTC',\n",
       "       'AATCACACACTACACCGTACCCCACAGCACCC',\n",
       "       'TTGACCTTCTTCAGCGTTCCCGAGAGTGGGCA',\n",
       "       'TCATTACTTCTTCAGCGTTCCCGAGAGCACCG',\n",
       "       'TCTGTGTCTCTTCAGCGTTCCCGAGAGATAGA',\n",
       "       'CAGCGTGCAGCAGGTCACCGACCGGCTGGAGG',\n",
       "       'ATCTCGTGTTTCAGCCACGACCTGCAGGGTCA',\n",
       "       'GACTTTAATCTTACTTCCAAAAACTTTAATCT',\n",
       "       'TGCGACAATCTTCAGCGTTCCCGAGATCCTAC',\n",
       "       'GCTTCGAGTCTTCAGCGTTCCCGAGAACCCAG',\n",
       "       'TGCCTTATCCTTTTATATTTTTTTTTTTTTTT',\n",
       "       'GTCAGTTATCTTCAGCGTTCCCGAGATTAAAT',\n",
       "       'TAAAGCCTTCTTCAGCGTTCCCGAGTTTTTTT',\n",
       "       'ACAACCCGTCTTCAGCGTTCCCGAGAGCCGTT',\n",
       "       'CAGAGTGCTCTTCAGCGTTCCCGAGAGGTGCC',\n",
       "       'CCCGAGAAGGCAGGTCCATCTAGTTTTTAATT',\n",
       "       'TATCTACTTCTTCAGCGTTCCCGAGAAGTGCA',\n",
       "       'ATATCTTCCTGCGACCTTTTTTTCGGAGTTTT',\n",
       "       'CCCAAGGCTCTTCAGCGTTCCCGAGATAGGCT',\n",
       "       'CGCGACCTCTTCAGCGTTCCCGAGAGATTGTT',\n",
       "       'CCTCCGGATCTTCAGCGTTCCCGAGATCGGGG',\n",
       "       'ACAAAGATTCTTCAGCGTTCCCGATTAGTGGG',\n",
       "       'TGCACCCGAGACCCAGTGTCTGTTTATCTTTT',\n",
       "       'GTACGGGTCTTCAGCGTTCCCGAGATGGCTCC',\n",
       "       'GCACACGCCCACGCTGACGCAAATGGCCGTGT',\n",
       "       'TAATGGCCTCTTCAGCGTTCCCGAGATATAAA',\n",
       "       'GTAGCGGGTCTTCAGCGTTCCCGAGAGCCGGC',\n",
       "       'ACTCCTGTCTCTTATACACATCTCCGAGCCCA',\n",
       "       'ATTTCACGTCTTCAGCGTTCCCGAGAACGGGA',\n",
       "       'ATTGCACCTTTCAGCGTTCCCGAGAGGCTTGA',\n",
       "       'TGTTCCATTTTCAGCGTCCCGAGAGCCGTTAT',\n",
       "       'AACGCATTTCTTCAGCGTTCCCGAGATAGTAA',\n",
       "       'TATCCTATCTTCAGCGTTCCCGAGAACGCTCC',\n",
       "       'ATACATAGTCTTCAGCGTTCCCGAGATCTGGC',\n",
       "       'GCGGCCGTCTTCAGCGTTCCCGAGATCCCGCT',\n",
       "       'CCCGCCAATCTTCACATTGACATTCATGGCAC',\n",
       "       'GCCGTCGGTCATGAGCAGCACCGCCGACAGGC',\n",
       "       'TAACGCTATCTGAACCTGCTCTGTATACTTTT',\n",
       "       'TCGGCGATTCTTCGCGTTCCCGAGACCATGTG',\n",
       "       'TAGCGTATTGCCGGTAATACGACTCACTATAG',\n",
       "       'CGGCGAGTCTTCAGCGTTCCCGAGATTTCTGC',\n",
       "       'ATCAGCAATCCTGTCTCTTATACACATCTCCG',\n",
       "       'ACTAGCTTTTTTTTTTTTTTTTTTTTTTTTTT',\n",
       "       'AGCCGCATTGCAGCAAGCCGAAGCGGCTTTCG',\n",
       "       'TAGCTAGTCTTCAGCGTTCCCGAGACGAGGAT',\n",
       "       'CCCACGTCTTCAGCGTTCCCGAGACATGGTCT',\n",
       "       'AGCCAGGCTCTTCGCGCGTCATGAACATCTCG',\n",
       "       'CCTTTGTATCTTCAGCGTTCCCTAGATCACAA',\n",
       "       'ACTCCTTATCTTCAGCTTCCCGAGAAAACGTC',\n",
       "       'GCCGGTAATACGACTCACTATAGGGCAACACG',\n",
       "       'AGGTCCTATCTTCAGCGTTCCCGAGAGGTTCA',\n",
       "       'GTCCCGGCTCTTCAGCGTTCCCGAGATAACCT',\n",
       "       'AGTGCGAGTCTTCAGCGTTCCCGAGATGAATG',\n",
       "       'TTTTTTTTTTTTTTTTTTTTTTTTTTTTTTTT',\n",
       "       'ATAGTATGTCTTCAGCGTTCCCGAGATCTAAC',\n",
       "       'ATACAGCCTCCTGAAGCGAAAGGGAATCAGGT',\n",
       "       'GATGCATATCTTCAGCGTTCCCGAGACAAATC',\n",
       "       'CCTATACTCTTCAGCGTTCCCGAGACATAAGC',\n",
       "       'CGGCGCCACGCAGGGCGGCCGCGGTATCGGTC',\n",
       "       'ATACACTCTCTTCAGCGTTCCCGAGAAGGCGG',\n",
       "       'ACGAACCTCTTCAGCGTTCCCGAGATTCTTCA',\n",
       "       'AGCATCTTTCTTCAGCGTTCCCGAGAGCTCTT',\n",
       "       'CCGCTCGCCACTACTTTCGGAATCTCGGTTGA',\n",
       "       'GTTCGCCACTACTTTCGGAATCTCGGTTGATT',\n",
       "       'GGAAACATCTTCAGGTTCCCGAGAGACGTCCT',\n",
       "       'GAATATTCGATTGTGTTTTTTTTTTTTTTTTT',\n",
       "       'TTTTCAGTGAAATCGTGGTGGCCTGAGAAGAA',\n",
       "       'ATCTCTATCTTCAGCGTTCCCGAGAAGGGGAC',\n",
       "       'AGTTATAGTCTTCAGCGTTCCCGAGATACGAA',\n",
       "       'CGCTCAGCGCCCGGCGGGTGGGGGCGTCGGCG',\n",
       "       'CCGTATCATGCTAACGTAATCTTCGTCTCCAT',\n",
       "       'GGTTGCGTTCCCGAGAGCAACACTCTTTTTGA',\n",
       "       'TCTACATATCTTCAGCGTTCCCGAGACTGTCA',\n",
       "       'TCTACATATCTTCAGCGTTCCCTCCAAATGGA',\n",
       "       'ACGTTTCCCACTTAGCGATAATTCGGGACCTT',\n",
       "       'TCCAACAATCTTCAGCGTTCCCTCTCACCACA',\n",
       "       'CGCACACGTCTTCAGATTCCCGAGACGGCGCT',\n",
       "       'GACGCGGCCTTGTCGCTGAACTGGAGAAAGGC',\n",
       "       'CCATGTCATCTTCAGCGTTCCCGAGAGGCAAT',\n",
       "       'CTCGCACATCCATGCCTTCTCCCGTGTACCAA',\n",
       "       'CGCCAGTGTCTTCAGCGTTCCCGAGATGTCCA',\n",
       "       'TCGATTGGGGCGGGATACAGCGTGATGCGATG',\n",
       "       'CCCCTGACTCTTCAGCGTTCCCGAGATCTCCA',\n",
       "       'TGCACTTTCTTAATTAAGGCTTCAGTCAAAGC',\n",
       "       'GGCTCGCCACTACTTTCGGAATCTCGGTTGAT',\n",
       "       'GCAGAACCTCTTCAGCGTTCCCGAGAGGACCG',\n",
       "       'TAAAATAGTCTTCAGCGTTCCCGAGAATATGA',\n",
       "       'GTCTCTTATACACATCTCCGAGCCCACGAGAC',\n",
       "       'TGAGGATGTCTTCAGCGTTCCCGAGAATGCTA',\n",
       "       'AGATTAAATCTTCAGCGTTCCCGAGAGAAGCC',\n",
       "       'TACTGCGATCTTCAGCGTTCCCGAGAAGATCA',\n",
       "       'CAACTAAGTCTTCAGCGTTCCCTATTAGTGGG',\n",
       "       'ATGTCCGGTAATACGACTCACTATAGGGCTAC',\n",
       "       'CCCAAACGTCTTCAGCGTTCCCGAGATGTTGA',\n",
       "       'ACGTATCTTCTTTTTTTTTTTTTTTTTTTTTT',\n",
       "       'CGGCCATTCTTCAGCGTTCCCGAGATCTAGCC',\n",
       "       'ACTCTGCGTCTGTCTCTTATACACATCTCCGA',\n",
       "       'AGAAAACTCTGAAGACATCAAAAGGATCGATA',\n",
       "       'CAAAGTCCTCTTCAGCGTTCCCTATTAGTGGG',\n",
       "       'GCGCATTGTCTTCAGCGTTCCCGAGACACGTC',\n",
       "       'CTCCATGTCGCTGCCGACCTGGGTCAGGTCCT',\n",
       "       'AGTCGTACTCTTCAGCGTTCCCGAGATGGCTA',\n",
       "       'AAGAAGTATCTTCAGCGTTCCCGAGACCTATT',\n",
       "       'CCTGCCGGTCTTCAGCGTTCCTTGTTTATTAG',\n",
       "       'GCCGGTAATACGACTCACTATAGGGCTACACG',\n",
       "       'TACGGCACTCTTCAGCGTTCCCGAGAGCGCAA',\n",
       "       'CAATTGCATCTTCAGCTTCGGTGTATGGCTTT',\n",
       "       'GGCCGACGCCTTGCTGGCGGCGGGCGCCAGCC',\n",
       "       'GAAAGCAGGTTTTTTTTTTTTTTTTTTTTTTT',\n",
       "       'CTGCTTAATCTTCAGCGTTCCCGGTCACCAGC',\n",
       "       'CCGCAGTGTCTTCAGCGTTCCCGAGAAAATGC',\n",
       "       'CGCAAATATCTTCAGCGTTCCGAGAGCTCTTT',\n",
       "       'AATATAAGTCCTGTCTCTTATACACATCTCCG',\n",
       "       'TCTTCTCTCTTCAGCGTTCCCGAGTTTTTTTT',\n",
       "       'TTCTCTCAATTCTTTGAGTTTTGGGAAATCAT',\n",
       "       'AATACTATTCTTCAGCGTTCCCGAGAGATACT',\n",
       "       'GTCGGGCATCTTCAGCGTTCCCGAGATAGAGC',\n",
       "       'CCGCCACTTCTTCAGCGTTCCCGAGAACGTAT',\n",
       "       'ATACCTGTCTAAAAAAAACAACACATAGCACA',\n",
       "       'AAGGCTAATCTTCAGCGTTCCCGAGACGGGTG',\n",
       "       'TCTTTTGATCTTCAGCGTTCCCGAGAGCGACC',\n",
       "       'TCAAAGTTTCTTCAGCGTTCCCGAGATCTGTC',\n",
       "       'TACGCCACTCTTCAGCGTTCCCGAGACTCGTT',\n",
       "       'TTGGGCTGGACGCTGCTGCTGATCGTGGCCTT',\n",
       "       'CTTCCTATTCTTCAGCGTTCCCGAGATCACAA',\n",
       "       'ACATTCCGAGATATCCGTCCTCTGGTGTTTTT',\n",
       "       'AGATTCCGTCTTCAGCGTTCCCGAGAGATAAG',\n",
       "       'TCTCAGCTCACTTACTTTTTTTTTTTTTTTTT',\n",
       "       'TTGCAAATTTCAGCGTTCCCGAGATTTGATTC',\n",
       "       'GCCGGATGTCTTCAGCGTTCCCGAGAATTCTC',\n",
       "       'TGTGTTTGTCTTCAGCGTTCCCGAGAGATCTA',\n",
       "       'TGAAAGATTTTCAGCGTTCCCGAGAGTACACG',\n",
       "       'CAAATCTGTCTTCAGCGTTCCCGAGACTACCT',\n",
       "       'TATGGTCTCTTCATATTCAGCTCGAAGTTCTT',\n",
       "       'GACCTTTTTTTTTTTTTTTTTTTTTTTTTTTT',\n",
       "       'CATCCCGATCTTCAGCGTTCCCGAGAGCGAGT',\n",
       "       'ACTCCCGATCACTCTGCGTCTGTCTCTTATAC',\n",
       "       'CTCCGTGCTCTTCAGCGTTCCCGAGAAGAGTG',\n",
       "       'AGACTCAATCTTCAGCGTTCCCGAGAGCACAG',\n",
       "       'GATGCGTTCCCGAGAATTAGAGTCAAAATCAT',\n",
       "       'GTATATCCTCTTCAGCGTTCTCGATCTCGCAA',\n",
       "       'ACTAGCATTCTTCAGCGTTCCCGAGAGTCCTC',\n",
       "       'CCTATCATCTTCAGCGTTCCCGAGATGCCCGT',\n",
       "       'TGGGACAGTCTTCAGCGTTCCCGAGACAACAG',\n",
       "       'TCTAGAACTCTTCAGCGTATTATTTTTTTTTT',\n",
       "       'CATGAATCTCTTCAGCGTTCCCGAGACGAAGC',\n",
       "       'GGATCGTCAGTTCGTCAGGAACGCCCGGGATA',\n",
       "       'TTTAGTTATCTTTTTTCTTTTTTCGGCTTGTC',\n",
       "       'CTAAACTATCTTCAGAAACTTTTTTTTTTTTT',\n",
       "       'CTACTGCCTCTTCAGCGTTCCCCTTCCGGGCC',\n",
       "       'AAGGCGATCTTCAGCGTTCCCGAGATCAAACC',\n",
       "       'CCGACCATCTTCAGCGTTCCCGCCCTGGCAAC',\n",
       "       'AAGTCACTCCTGTCTCTTATACACATCTCCGA',\n",
       "       'CTCGGCAATCTTCAGCGTTCCCTATTAGTGGG',\n",
       "       'GTGGTCGCCGCACGCTGGCGTGTTGAATCCGC',\n",
       "       'AACTACCCCGAAGGCAAGTACGACGGAGAGTT',\n",
       "       'GATTTTTCTCTCAGCGTTCCCGAGATCGAATA',\n",
       "       'AGTGACACTCTTCAGCGTTCCCGAGAGGCGAC',\n",
       "       'GGAGGCCGTCTTCAGCGTTCACGAACGAGTAG',\n",
       "       'TCGTACTGTCTTCAGCGTTCCCGAGAAGCAGG',\n",
       "       'GCGGACATCTTCAGCGTTCCCGAGACTTTTAT',\n",
       "       'TTTTTTTTTTTTTTTTTTTTTTTTTTTTTTTT',\n",
       "       'CACTCCACTCTTCAGCGTTCCCGAGACGATCT',\n",
       "       'CGCTGTTGCCGCCGGGACCGTTGTTGATGTAC',\n",
       "       'GCTCCATCCCATCCTGCGGCGGCTGGCCCTGC',\n",
       "       'GCACGGAAATCTTCAGTTCGCCCGCCGGTCCG',\n",
       "       'ATATGAAGTCTACAGCATTTAATTTTTTTTTT',\n",
       "       'TTTTTTTCGGCTTGTCTTTTTACAGGCGACTT',\n",
       "       'ACGTCTTATCTTCAGCGTTCCCGAGATGGCTG',\n",
       "       'ACAACAAATCTTCAGCGTTCCCGAGACAGTAA',\n",
       "       'GTTGCACATCTTCAGCGTTCCCGAGAAAACTT',\n",
       "       'CTGCATTTTTTTTTTTTTTTTTTTTTTTTTTT',\n",
       "       'AGGGGGCCCCTTCAGCGTTCCCGAGATTCCCT',\n",
       "       'GCCCCCGACAGTCTCTTTTAATCATTACTTCA',\n",
       "       'CAATGCATTCATCAGCGTTCCCGAGATTGCAC',\n",
       "       'CAGAGGAATCTTCAGCGTTCCCGAGAGCGCCC',\n",
       "       'ACCCAAGGACTTCAGATCTAACCCAGCCATAT',\n",
       "       'ACAATGCTTCTTCAGCGTTCCCGAGATCTACC',\n",
       "       'CGGCTGCATCTTCAGCGTTCCCGAGATGATAC',\n",
       "       'AGGGACAATCTTCAGCGTTCCCGAGAGGCAGT',\n",
       "       'ATGTCCAATCTTCAGCGTTCCCGAGAATCATC',\n",
       "       'ATTGGATTTCTTCAGCGTTCCCGAGATAACTG',\n",
       "       'CGTGGATTCTTCAGCGTTCCCGAGACTTTGAG',\n",
       "       'GGAGGTTTTTTTTTTTTTTTTTTTTTTTTTTT',\n",
       "       'TGTCGTTTTTTTTTTTTTTTTTTTTTTTTTTT',\n",
       "       'GAAGTGCAGGCTGTCGGGCTTGGCCTTGGCCT',\n",
       "       'ACAGGGTCGCGTCCACCAGCCGCGCCAGGTCC',\n",
       "       'AGCCGGTAATACGACTCACTATAGGGCTACAC',\n",
       "       'TTGGTGTGTCTTCCGCGTTCGCGCTACGTGCT',\n",
       "       'ATTCTTTCTCTTTTTCTTTTGGTGGTTTACTT',\n",
       "       'GTCACCGGTCTTCAGCGTTCCCGCTGTCTCTT',\n",
       "       'ACTTCCAATCTTCAGCGTCGAGGTCAGGCAGA',\n",
       "       'TCGACGCTCTTCAGCGTTCCCGAGATAACTCT',\n",
       "       'TGATTACTCTTCAGCGTTCCCGAGAGAATAGA',\n",
       "       'GCTATCACTCTTCAGCGTTCCCGAGAACGTTT',\n",
       "       'ATCGGAATTCTTCAGCGTTCCCGAGACGCAGG',\n",
       "       'CCCCATATCTTCAGCGTTCCCGAGTCGCCATG',\n",
       "       'CTCATAACTCTTCAGCGTTCCCGAGAGTCGGA',\n",
       "       'TCCAAGACTCTTCAGCGTTCCCTTGGCTGTAG',\n",
       "       'AGAAAGGGCTCTCGGGCTGTCTCTTATACACA',\n",
       "       'GCCGGTAATACGACTCACTAAAGGGCCTGTCT',\n",
       "       'CCTCAGTGTCTTCAGCGTTCCCTAGAAAATGC',\n",
       "       'TGCCAGGCCCTGATGATCGAGCTTTACCGCCA',\n",
       "       'CACATCCTTCTTCAGCGTTCCCGAGAAGTTAT',\n",
       "       'CTGATGGCTGGTTTTTTTTTTTTTTTTTTTTT',\n",
       "       'CACTTAGTCTTCAGCGTTCCCGAGGTTCGCTA',\n",
       "       'TCCGTCGATCTTCAGCGTTCCGCTGCGGCGGC',\n",
       "       'GGGCCGGTAATACGCTGTCTCTTATACACATC',\n",
       "       'CATCCGTTTTTTTTTTTTTTTTTTTTTTTTTT',\n",
       "       'CCTTTAAATCTTCAGCGTTCCCGAGACTCTAA',\n",
       "       'CCCGCCAATCTTCAGCGTTCCCGAGAGACGTG',\n",
       "       'GCGACGAATCTTCAGCGTTCCCGAGAATACCC',\n",
       "       'ATCCAGATCTACAGCGAACCCGAGAACCAGCT',\n",
       "       'CAAAGAATTCTTCAGCGTTCCCGAGATTACGC',\n",
       "       'TAGTGGGGTCTTCAGCGTTCCCGAGACCGGCG',\n",
       "       'GTGTCAGCTCTTAGCGTTCCCAGAAGAGGATC',\n",
       "       'TCATAACGTCTTCACAATGATAGGAAGAGCCG',\n",
       "       'AAATCTACTCTTCAGCGTTCCCGAGACATGCA',\n",
       "       'CCCCTGACTCTTCAGCGTTCCCGAGTCTCCCA',\n",
       "       'CCATATGTTCTTTTTTTTTTTTTTTTTGGATA',\n",
       "       'AGAATGTCTCTTCAGCGTTCCCGAGAGACCAT',\n",
       "       'TCTTTAACTCTTCAGCGTTCCCGAGAACGGAG',\n",
       "       'TCACTATATCTTCAGCTTTGCAACCATACTTC',\n",
       "       'TATGATCTTCTTCAGCGTTCCCGAGATGTTCA',\n",
       "       'GGGCGGCGCCTCGATCGCCGTGATGACGGCCA',\n",
       "       'ACCTATATTCTTCAGCGTTCCCGAGATACTTA',\n",
       "       'ACTAGGAGTCTTCAGCGTTCCCGAGATAACGA',\n",
       "       'TCCCGGTGTCTTCAGCGTTCCCGAGATAGAGA',\n",
       "       'GTATTGCTCGAACTGGGCGACGATCGCGCGGC',\n",
       "       'GAGTCGCTCTTCAGCGTTCCCGAGACGCGGTA',\n",
       "       'TTCAGGCTTCAGCGTTCTTGAATGGTTTTTTT',\n",
       "       'TCCTGTTAGATGGGGTTGAAGTTCAGATTCTC',\n",
       "       'CCCCTGCTTCTTCAGCGTTCCCGAGAGGTTAC',\n",
       "       'CCTTACGATCTTCAGCGTTCCCGAGAGGCGCT',\n",
       "       'CCGCGGTTTCTTCAGCGTTCCCGAGAGTACTA',\n",
       "       'AAACCCTTCTCAGCGTTCCCGAGATACACAAT',\n",
       "       'ACGAAGATTCTTCAACGAGAATTAGATCAAAG',\n",
       "       'ACCTATGGTCTTCAGCGTTCCCGAGAAATAGT',\n",
       "       'TGACAGGTCTTCAACGTTCCCGAGAACCAAGT',\n",
       "       'GTTGAAGTTCTTCAACGTATTGATGCTGTCTC',\n",
       "       'TTACGCTATCTTCAGCGTTCCCGAGAAATTAT',\n",
       "       'CCAGCTCTCTTCAGCGTTCCCGTTACAACCAT',\n",
       "       'TCGTTTCCCACTTAGCGATAATTCGGGACCTT',\n",
       "       'GATCTCCTTCTTCAGCGTTCCCGAGAACAACG',\n",
       "       'TCCTGTTCCGTCGATACCGCCATGACCACTGC',\n",
       "       'GCAAGAGATCTTCAGCGTTCCCGAGAGGTTTC',\n",
       "       'GCTTCTCAGTTATAAAATTTACTTCTTTGCTT',\n",
       "       'GTGGCCGAGAAGGGCCATCAGATGAGTTTTTT',\n",
       "       'CACGTCAATCTTCAGCGTGCCCAACCCGAAAC',\n",
       "       'GACTGCGTTCTTCAGCGTTCCCGAGAAGATTT',\n",
       "       'AAACAAAGTCTTCAGCGTTCCCGAGAAAATAA',\n",
       "       'ATGTGATTCTTCAGCGTTCCCGAGAGTCGGCT',\n",
       "       'CGGCATCCCCACCCTGACCCAGCGGGCCGAAC',\n",
       "       'ACCAGGCATCTTCAGCGTTCCCGAGAATTCGT',\n",
       "       'ATGATGATTCTTCAGCGTTCCCGAGACGGAAT',\n",
       "       'TGCCATTCCTTAAATCAGAATCCAACGATCTC',\n",
       "       'ACACTCGATTCCCGCGTACTTTTTTTTTTTTT',\n",
       "       'GCCGGGGTTGGCGTGCAGGAACAGCAGCAGTT',\n",
       "       'GGTATATTCTTCAGCGTTCCCGAGCACCCGGT',\n",
       "       'GCCTTGCATATCAATGTCCGCCACCTCTGACG',\n",
       "       'ATACATCGTCTTCAGCGTTCCCGAGAATACGG',\n",
       "       'ACGTTCTCTCTTCAGCGTTCCCGAGAACGTCA',\n",
       "       'ACGGGCCTCTTCAGCGTTCCCGAGAGAGCGAT',\n",
       "       'TCATTTCATCTCCAGCGTTCCCGAGAGGATAT',\n",
       "       'CCTCGTACTTAGTTTTTTTTTTTTTTTTTTTT',\n",
       "       'TAGGGCTTTCTTCAGCGTTCCCGAGAGCCCGC',\n",
       "       'GTTTCGCGCCTTGCCGGGCGACATGGCGCCGC',\n",
       "       'ACCGAGACTCTTCAGCGTTCCCGAGATTACCT',\n",
       "       'GAGGCCAATCTTCAGCGTTCCCGAGACGTACT',\n",
       "       'GCTTAGAGTCTTCAGCGTTCCCGAGAAGATTC',\n",
       "       'TTGCATGCTCTTCGTCTTTATGCTCGAGTTTA',\n",
       "       'GCCGTCTGTATCATTTTTTCTTTTTTTTTTTT',\n",
       "       'TGCACTCTTTTCAGCGTTCCCGAGAGTTATTC',\n",
       "       'GATGGACGACGCCACCTACGCCGAGACCCTGC',\n",
       "       'CTACTGCAGTCGATTCGAGTTCCGGAAACACT',\n",
       "       'GGCGTCTCGGTTAGTGTTTTTTTTTTTTTTTT',\n",
       "       'ACCCTTTTGGCCGACGCTCATGTGGTTCAAGA',\n",
       "       'TCGATTGGGGCGGGATACAGCGTGATGCGATG',\n",
       "       'GCTTACGTTCTTCAGCGTTCCCGAGATCACTT',\n",
       "       'TCTTTGCTTTAGTTTTTTTTACAATCTTGATA',\n",
       "       'AGTCTTCCTCTTCAGCGTTCCCCGAGACAGGC',\n",
       "       'CCTTCGCCTCTTCATTTTCTCCGTTTTTCAAA',\n",
       "       'CATAGGGTCTTCAGCGTTCCCGAGAGGTGCTA',\n",
       "       'TCAAGCAGTTTTTTTTTTTTTTTTTTTTTTTT',\n",
       "       'CCTTCACGTCTTCAGCGTTCCCGAGAAAGATT',\n",
       "       'GGCATGCTTCTTCAGCGTTCCCGAGAATTACC',\n",
       "       'TATTATATCTTCAGCGTTCCCGAGAAAAGATG',\n",
       "       'CGTACCATTTAGCGTTCCCTATTAGTGGGTGA',\n",
       "       'TACCGAAATCTTCAGCGTTCCCGAGACGCCGG',\n",
       "       'TTGTAAGTCTTCAGCGTTCCCGAGACGGCGGG',\n",
       "       'CGATCGCATCTTCGCGTTCCCGAGAGAGATGG',\n",
       "       'AAATCGAGTCTTCGGCGTTCCCGAGACAGCCG',\n",
       "       'GACGCGGCTCTTCAGCGTTCCCGAGAGTTACC',\n",
       "       'TCATCACGTCTTCAGCGTTCCCGAGAGCGAGC',\n",
       "       'CTCTACTCTCTTCAGCGTTCCCAATTATAAAA',\n",
       "       'AAGGGCATTCTTCAGCGTTCCCGAGATCGTTC',\n",
       "       'CCGATGTCTGGTACATCGACGCGAGCCTGGAC',\n",
       "       'GACCCGTGTCCGACAAGTTCATCGAGGTATCC',\n",
       "       'CACTTGAATAATTGCTACTACTACCAAGATCT',\n",
       "       'GGAGTTACTCTTCAGCGTTCCCGAGATGTCTA',\n",
       "       'GCCCCCGTTCTTCAGCGTCAGATTTTTTTTTT',\n",
       "       'GTCACGTTTCTTCAGCGTTCCCGAGAGGCCGA',\n",
       "       'TGAGCCATCTTCAGCGTTCCCTTGGCTGTAGT',\n",
       "       'ACTCCCTTTCTTCGTCTGACTTTTTTTTTTTT',\n",
       "       'ACGACTGGTCTTCAGCGTTCCCTAGAGTCTGT',\n",
       "       'AAGATCATCTTCAGCGTTCCCGAGAGGTTTTG',\n",
       "       'GCCATCGTTCTTCAGCGTTCCCGAGAAGCAGT',\n",
       "       'AAGCCTGTTCTTCAATAACTTTTTCTTCTTCA',\n",
       "       'CTGTGTATAGTTTTTTTTTTTTTTTTTTTTTT',\n",
       "       'AGTTGTGATCTTCAGCGTTCCCGAGACGAACA',\n",
       "       'GCCTGCGCCCGCTTTACGCCCAGTAATTCCGA',\n",
       "       'ATCCTGGTCTTCAGCGTTCCCTATTAGTGGGT',\n",
       "       'ACAGTTTTCTTCAGCGTTCCCGAGAGATCGCC',\n",
       "       'GGACGCATCTTCAGCGTTCCCGAGACAGGTGT',\n",
       "       'AAAGAGTCTCTTCAGCGTTCCCGAGATCATAT',\n",
       "       'CGACCAACCTGATCCTCTCCTACGTCGCCGAA',\n",
       "       'CCTTCTGGTCTTCAGCGTTCCCGAGAAGCGAC',\n",
       "       'CGCACTTATCTGATACGCATAGCTTTCCAATG',\n",
       "       'CCACCCCTTCTTCAGCTTTCCCGAGATGGCTT',\n",
       "       'ATGGTAGATCTTCAGCGTTCCCGAGATCTGGG',\n",
       "       'CGACTTTGGCGGTGATGCATCTGTCACGCTGG',\n",
       "       'TCCATAAGTCTTCAGCGTTCCCGAGAAGCCCG',\n",
       "       'ACTCAGACTCTTCAGCGTTCCCGAGACAGCTT',\n",
       "       'ATTGAGTGTCTTCAGCGTTCCCGAGACTATCT',\n",
       "       'ATCTGCGGTCTTCGCGTTCCCGGCGCATGATG',\n",
       "       'ATCCCGGTTCTTAGAGGTTTGAAACATATATC',\n",
       "       'CCAAGTGGTCTTCAGCGTTCCCGAGACCCGCA',\n",
       "       'CTATAGGGTCTTCAGCGTTCCCGAGAGGCCAA',\n",
       "       'TATACACCTCTTCAGCGTTCCCGAGACGCTGC',\n",
       "       'CGTACCAATCTTCAGCGTTCCCGAGAATACCT',\n",
       "       'GTCATCAATCTTCAGCGTTCCCGAGATTGTCT',\n",
       "       'CATTTTCCTCTTCAGCGTTCCCGAGACATAAC',\n",
       "       'CGGGCCCTCTTCAGCGTTCCCGAGAATTGAGG',\n",
       "       'TTAGTACCTCTTCAGCGTTCCTCGTCTGACAT',\n",
       "       'GGCGCAGATCTTCAGCGTTCCCGAGAACGAAG',\n",
       "       'AACGATACTCTTCAGCGTTCCCGAGAGAAGAT',\n",
       "       'TGATTCCTTCTTCAGCGTTCCCGAGATGCACT',\n",
       "       'AACACCCGTCTTCAGCGTTCCCGAGAGAATCT',\n",
       "       'AACCTTCGTCTTCAGCGTTCCAGTCGGTGTTC',\n",
       "       'TTTTCGAATCTTCAGCGTTCCCGAGATTTATG',\n",
       "       'ACTCGGTAGTGTTTTTTTTTTTTTTTTTTTTT',\n",
       "       'AGCGCACTTCTTCAGCGTTCCCGAGATTGCCG',\n",
       "       'TCGATAGTTCTTCAGCGTTCCTTTCTGATACC',\n",
       "       'TTTTCAATCTTCAGCGTTTTTTTTTTTTTTTT',\n",
       "       'CCGCAGTGTCTTCAGCGTTCCCGAGAAAATGC',\n",
       "       'CCAGTAATCTTCAGCGTTCCCGAGAGAGATGT',\n",
       "       'TGATTTGCATACTCTTCATCACAAGACTGATC',\n",
       "       'GCAGCATGTCTTCAGCGTTCCCGAGAATTTGC',\n",
       "       'TTCCCGGTTCTTCAGCGTTCCCGAGATGTCCG',\n",
       "       'AGGCGTGGTGGGCTCGCTACGGCACGCTGGTG',\n",
       "       'CCAACATCTCTTCAGCGTTCCCGAGACAGAGG',\n",
       "       'GTGAACGGCCGCAGGATCCGCGCTACACCGAA',\n",
       "       'GGAGACTTTCTTCAGCGTTCCCGAGATTGTCG',\n",
       "       'ATCTATGCTCTTCAGCGTTCCCGAGAGTCGCT',\n",
       "       'GCGCGACAACCTGTTTTTGACCCTCTGGAGAG',\n",
       "       'TTTAGGGTTCTTCAGCGTTCCGAGAAGAGGAT',\n",
       "       'CCTTTTCGTCTTCAGCGTTCCCGAGACGTAAT',\n",
       "       'GTTGAAGTTCTCAGCGTTCCCGAGACTAGGCA',\n",
       "       'CTTTTATCTCTTCAGCGTTCCCGAGACTGTTC',\n",
       "       'CCCGAAATTCTTCAGCGTTCCCGAGATGATTG',\n",
       "       'TGCTCTTCTCTTCAGCGTTCCCGAGACAAGAT',\n",
       "       'GTAGGCTCTCTTCAGCGTTCCCGAGACAAGGG',\n",
       "       'ACCAACGGTCTTCAGCGTTCCCGAGAATTCGG',\n",
       "       'GGCGAATCTCTTCAGCTGCGATAATTTATCGA',\n",
       "       'CTGTGCCATCAAATCGGTTTTCCTGATTAATA',\n",
       "       'CACCTCGATCTTCAGCGTTCCCGAGAACTTGT',\n",
       "       'AAAGTCACTAATACACATAACCGAGAAAAAAA',\n",
       "       'AGACCGGTCTTCATCCCTAGAGGGGACGGTAA',\n",
       "       'AACATAATCTTCAGCGTTCCCGAAACCCCTTT',\n",
       "       'GTGCCGGTCTTCAGCGGAGGCGGAATGATGAG',\n",
       "       'ATCTTACATCTTCAGCGTTCCCGAGACTCCTC',\n",
       "       'ACTGTGAGTCTTCAGCGTTCCCGAGATCACTG',\n",
       "       'GATGGGCCTCTTCAGCGTTCCCGAGATGGATT',\n",
       "       'TTGGCCACTCTTCAGCGTTCCCGAGATGAGTT',\n",
       "       'ATAACAAATCTTCAGCGTTCCCGAGACTCTCA',\n",
       "       'CCCCTGTTATCCCTAAGGAAGTTCATAATGTA'], dtype='<U32')"
      ]
     },
     "execution_count": 44,
     "metadata": {},
     "output_type": "execute_result"
    }
   ],
   "source": [
    "C[1000:2000]"
   ]
  },
  {
   "cell_type": "code",
   "execution_count": 23,
   "metadata": {},
   "outputs": [
    {
     "data": {
      "text/plain": [
       "32"
      ]
     },
     "execution_count": 23,
     "metadata": {},
     "output_type": "execute_result"
    }
   ],
   "source": [
    "len(df['BridgedBarcode'][0])"
   ]
  },
  {
   "cell_type": "code",
   "execution_count": null,
   "metadata": {},
   "outputs": [],
   "source": [
    "56591"
   ]
  },
  {
   "cell_type": "code",
   "execution_count": 20,
   "metadata": {},
   "outputs": [
    {
     "data": {
      "text/plain": [
       "32"
      ]
     },
     "execution_count": 20,
     "metadata": {},
     "output_type": "execute_result"
    }
   ],
   "source": [
    "len(pairs[0,0])"
   ]
  },
  {
   "cell_type": "markdown",
   "metadata": {},
   "source": [
    "# Filtering and finding"
   ]
  },
  {
   "cell_type": "markdown",
   "metadata": {},
   "source": [
    "No little piglet, I am afraid that does not work, since shorter goes faster, let's try just looking at how many \"apparent\" bead barcodes only have a single read corresponding to them"
   ]
  },
  {
   "cell_type": "code",
   "execution_count": 14,
   "metadata": {},
   "outputs": [
    {
     "data": {
      "text/plain": [
       "[0.9692187968859401, 0.4032510600794104]"
      ]
     },
     "execution_count": 14,
     "metadata": {},
     "output_type": "execute_result"
    }
   ],
   "source": [
    "cpairs=pairs[:,1].astype(int)\n",
    "[np.sum(cpairs[cpairs>1])/np.sum(cpairs), np.sum(cpairs>1)/len(cpairs)]"
   ]
  },
  {
   "cell_type": "markdown",
   "metadata": {},
   "source": [
    "93% of all reads are contained in the list of barcodes that show up more than once, but 50% of the unique barcodes have only one read, so I think we can safely throw them out since they will add so much to the search time"
   ]
  },
  {
   "cell_type": "code",
   "execution_count": 10,
   "metadata": {},
   "outputs": [],
   "source": [
    "commonpairmask=pairs[:,1]!='1'"
   ]
  },
  {
   "cell_type": "markdown",
   "metadata": {},
   "source": [
    "Now let's just look for ones that contain a reasonable bridge sequence"
   ]
  },
  {
   "cell_type": "code",
   "execution_count": 11,
   "metadata": {},
   "outputs": [],
   "source": [
    "pool_class=functions.MyClass()\n",
    "pool_class.set_data(bridge)\n",
    "lst=list(pairs[commonpairmask,0])\n",
    "pool = Pool()\n",
    "s= (pool.map(pool_class.myfu, (lst)))\n",
    "s=np.asarray(s)"
   ]
  },
  {
   "cell_type": "code",
   "execution_count": 12,
   "metadata": {},
   "outputs": [],
   "source": [
    "bridgedmask=np.zeros(pairs[:,0].shape)\n",
    "bridgedmask[:]=False\n",
    "bridgedmask[commonpairmask]=s>14\n",
    "bridgedmask=bridgedmask.astype(bool)"
   ]
  },
  {
   "cell_type": "code",
   "execution_count": 13,
   "metadata": {},
   "outputs": [
    {
     "data": {
      "text/plain": [
       "[0.3661221975757859, 3212801]"
      ]
     },
     "execution_count": 13,
     "metadata": {},
     "output_type": "execute_result"
    }
   ],
   "source": [
    "[np.sum(bridgedmask)/len(s), np.sum(bridgedmask)]"
   ]
  },
  {
   "cell_type": "markdown",
   "metadata": {},
   "source": [
    "Surprisingly, only about a third of the filtered sequences contain a bridge sequence with a mismatch or two, but that is still 3M unique sequences, and we only have 74K beads, so there clearly still needs to be a lot of aggregation"
   ]
  },
  {
   "cell_type": "code",
   "execution_count": 14,
   "metadata": {},
   "outputs": [
    {
     "data": {
      "text/plain": [
       "0.6437293744695824"
      ]
     },
     "execution_count": 14,
     "metadata": {},
     "output_type": "execute_result"
    }
   ],
   "source": [
    "dpairs=pairs[bridgedmask,1].astype(int)\n",
    "np.sum(dpairs)/np.sum(cpairs)"
   ]
  },
  {
   "cell_type": "markdown",
   "metadata": {},
   "source": [
    "64% of our original reads have survived the '1 read' filter and the 'has bridge' filter.  This is because most of the reads have barcodes that appear many many times, so the list of unique barcodes is almost entirely dominated by barcodes that have 1 or 2 reads."
   ]
  },
  {
   "cell_type": "markdown",
   "metadata": {},
   "source": [
    "# Single mismatch, simple way"
   ]
  },
  {
   "cell_type": "code",
   "execution_count": 15,
   "metadata": {},
   "outputs": [
    {
     "data": {
      "text/plain": [
       "1374837"
      ]
     },
     "execution_count": 15,
     "metadata": {},
     "output_type": "execute_result"
    }
   ],
   "source": [
    "np.sum(pairs[bridgedmask,1].astype(int)>4)"
   ]
  },
  {
   "cell_type": "markdown",
   "metadata": {},
   "source": [
    "If we only look at the top 1M barcodes, this accounts for 59% of all reads, and there are only 64% that have the bridge in them.  There are only 1.3M unique barcodes that have more than 4 reads associated with them, so I will only keep investigating those."
   ]
  },
  {
   "cell_type": "code",
   "execution_count": 16,
   "metadata": {},
   "outputs": [],
   "source": [
    "fivepairmask=(pairs[:,1].astype(int)>4) & (bridgedmask) "
   ]
  },
  {
   "cell_type": "code",
   "execution_count": 17,
   "metadata": {},
   "outputs": [
    {
     "data": {
      "text/plain": [
       "[0.07844101928131976, 0.942490377785251, 0.6067087413353001]"
      ]
     },
     "execution_count": 17,
     "metadata": {},
     "output_type": "execute_result"
    }
   ],
   "source": [
    "[np.sum(fivepairmask)/len(pairs), np.sum(pairs[fivepairmask,1].astype(int))/np.sum(pairs[bridgedmask,1].astype(int)), np.sum(pairs[fivepairmask,1].astype(int))/len(C)]"
   ]
  },
  {
   "cell_type": "markdown",
   "metadata": {},
   "source": [
    "So we are accounting for only 8% of the unique barcodes found, but 94% of those with a bridge found, and 60% of the total reads.  I think this is acceptable.  This will take about 8 hours on Cyclops.  The output:  s, will be the size of fivepairmask and will have an index corresponding to the ID of the df['BridgedBarcode'] from Broad.  This uses a simple hand made hamming distance calculator, I should have used:  import Levenshtein as lv, lv.distance(a,b).  "
   ]
  },
  {
   "cell_type": "markdown",
   "metadata": {},
   "source": [
    "Edit, I put in Levenshtein, it takes twice as long but it works beautifully.  Half or more of the mistmatches are in fact shifts, not simple mismatches, so this should collect a LOT more of the reads."
   ]
  },
  {
   "cell_type": "code",
   "execution_count": 49,
   "metadata": {},
   "outputs": [],
   "source": [
    "pool_class=functions.My2ndClass()\n",
    "pool_class.set_data(df['BridgedBarcode'])\n",
    "lst=list(pairs[fivepairmask,0])\n",
    "pool = Pool()\n",
    "s= (pool.map(pool_class.myfu, (lst)))\n",
    "s=np.asarray(s)"
   ]
  },
  {
   "cell_type": "code",
   "execution_count": 50,
   "metadata": {},
   "outputs": [
    {
     "data": {
      "text/plain": [
       "1374837"
      ]
     },
     "execution_count": 50,
     "metadata": {},
     "output_type": "execute_result"
    }
   ],
   "source": [
    "np.sum(fivepairmask)"
   ]
  },
  {
   "cell_type": "markdown",
   "metadata": {},
   "source": [
    "Make the spatialmask, which works on the original pairs array.  Also make the final_mapper and position_mapper arrays that are in the same shape as the pairs array so we can use inverter to convert back to the original C array with ALL reads"
   ]
  },
  {
   "cell_type": "code",
   "execution_count": 51,
   "metadata": {},
   "outputs": [],
   "source": [
    "index_mapper=np.zeros(pairs[:,0].shape)-1\n",
    "index_mapper[fivepairmask]=s\n",
    "\n",
    "spatialmask=index_mapper>-1\n",
    "\n",
    "final_mapper=np.zeros(pairs[:,0].shape).astype('str')\n",
    "final_mapper[:]=''\n",
    "final_mapper[spatialmask]=df['BridgedBarcode'][index_mapper[spatialmask].astype(int)]\n",
    "\n",
    "position_mapper=np.zeros(pairs[:,0].shape).astype('str')\n",
    "position_mapper[:]=''\n",
    "position_mapper[spatialmask]=df['X'][index_mapper[spatialmask]]+'_'+df['Y'][index_mapper[spatialmask]]\n"
   ]
  },
  {
   "cell_type": "code",
   "execution_count": 52,
   "metadata": {},
   "outputs": [
    {
     "data": {
      "text/plain": [
       "[0.5045388639363898, 0.6067087413353001]"
      ]
     },
     "execution_count": 52,
     "metadata": {},
     "output_type": "execute_result"
    }
   ],
   "source": [
    "[np.sum(spatialmask[inverter])/len(C), np.sum(fivepairmask[inverter])/len(C)]"
   ]
  },
  {
   "cell_type": "markdown",
   "metadata": {},
   "source": [
    "With hamming, this was:\n",
    "[0.366414527374538, 0.6067087413353001]\n",
    "Wow!  Got 50% with the Levenshtein instead of hamming code!"
   ]
  },
  {
   "cell_type": "code",
   "execution_count": 53,
   "metadata": {},
   "outputs": [],
   "source": [
    "np.save('final_mapper.npy', final_mapper)\n",
    "np.save('position_mapper.npy', position_mapper)\n",
    "np.save('spatialmask.npy', spatialmask)"
   ]
  },
  {
   "cell_type": "code",
   "execution_count": 54,
   "metadata": {},
   "outputs": [],
   "source": [
    "helpme=final_mapper[inverter]"
   ]
  },
  {
   "cell_type": "code",
   "execution_count": 55,
   "metadata": {},
   "outputs": [
    {
     "data": {
      "text/plain": [
       "array(['NAGTAAAATCTTCAGCGTTCCCGAGATATAGC',\n",
       "       'NACAATATCTTCAGCGTTCCCGAGAAGTACGT',\n",
       "       'NTGTTCGATCTTCAGCGTCCGAGAAATGTGTT',\n",
       "       'NGCCTATCTCTTCAGCGTTCATCTCTACCTGT',\n",
       "       'NCCTGGACTCTTTTTTTTTTTTTTTTTTTTTT',\n",
       "       'NATAACCCTTCAGAAACTTAATACCTCATGAA',\n",
       "       'NTCATTTTTAGGGTTCATTTGGATTAGTGTTT',\n",
       "       'NGGATCAGTCTTACGTCGAGAAAGTTCTTCAA',\n",
       "       'NCAAAGATTCTTCAGCGTTCCCGAGACGACGG',\n",
       "       'NTCGTGTGTCTTCAGCGTTCCCGAGACCTTAC',\n",
       "       'NATTTAATTCTTCAGCGTTCCCGAGAAGGCGA',\n",
       "       'NAGAAGGTCTTCAGCGTTCCCGAGATGCGTTT',\n",
       "       'NTTGTTGTCTTCAGCGTTCCTAGCACTGATGG',\n",
       "       'NCCATGATTCTTCAGCGTTCCCGAGAGCCTTT',\n",
       "       'NCTGGCCTTAGCGTTTTCTTCCTTTGGCTGAA',\n",
       "       'NCGAAATATCTTCAGCGTTCCCGAGACGACCG',\n",
       "       'NGGTAGTTTTTTTTTTTTTTTTTTTTTTTTTT',\n",
       "       'NCCTATGTCTTCAGCGTTCCCGAGGGAAACTT',\n",
       "       'NGTAGATTTCTTCAGCGTTCCCGAGAGTTCTA',\n",
       "       'NCTTCGCTTCTTCAACGTTCCCGAGACGTTGT',\n",
       "       'NCATCATCTCTTCAGCGTTCCCGAGACTTTGA',\n",
       "       'NTCTGCACTCTTCAGCGTTCCCGAGAGCTTCG',\n",
       "       'NTTGCGACTCTTCAGCGTTCCCGAAGTTCCTT',\n",
       "       'NGCGCGATTCTTCAGCGTTCCCGAGAGGCTAT',\n",
       "       'NTCTCTGTTCTTCAGCGTTCCCGAGATCTGTC',\n",
       "       'NGGGACATCTTCAGCGTTCCCGAGATAAGTCC',\n",
       "       'NGCAGACTCTTCAGCATCATCTTCTTCCCAGT',\n",
       "       'NGGGTTCATCTTCAGCGTTCCCGAGACTACGC',\n",
       "       'NACTCAGTTCTTCAGCGTTCCCGAGATTCGCT',\n",
       "       'NTGGAGTTTCTTCAGCGTTCCCGAGACTACCG'], dtype='<U32')"
      ]
     },
     "execution_count": 55,
     "metadata": {},
     "output_type": "execute_result"
    }
   ],
   "source": [
    "C[0:30]"
   ]
  },
  {
   "cell_type": "code",
   "execution_count": 56,
   "metadata": {},
   "outputs": [
    {
     "data": {
      "text/plain": [
       "array(['', '', '', '', '', '', '', '', '', '', '', '', '',\n",
       "       'ACCATGATTCTTCAGCGTTCCCGAGAGCCTTT', '', '', '', '', '', '', '', '',\n",
       "       '', '', 'TTCTCTGTTCTTCAGCGTTCCCGAGATCTGTC', '', '',\n",
       "       'TGGGTTCATCTTCAGCGTTCCCGAGACTACGC', '',\n",
       "       'TTGGAGTTTCTTCAGCGTTCCCGAGACTACCG'], dtype='<U32')"
      ]
     },
     "execution_count": 56,
     "metadata": {},
     "output_type": "execute_result"
    }
   ],
   "source": [
    "helpme[0:30]"
   ]
  },
  {
   "cell_type": "markdown",
   "metadata": {},
   "source": [
    "# Deal with UMIs"
   ]
  },
  {
   "cell_type": "code",
   "execution_count": null,
   "metadata": {},
   "outputs": [],
   "source": [
    "C_UMI=np.load('UMI_reads.npy')"
   ]
  },
  {
   "cell_type": "markdown",
   "metadata": {},
   "source": [
    "helpme is the full, all read list with the corrected spatial barcode OR an empty string.  To get ONLY the ones that are not empty, we take spatialmask[inverter].  From now on, we will only deal with the trimmed full read list (ie ones that have a spatial barcode)."
   ]
  },
  {
   "cell_type": "code",
   "execution_count": 57,
   "metadata": {},
   "outputs": [],
   "source": [
    "trimmed_helpme=helpme[spatialmask[inverter]]\n",
    "trimmed_C_UMI=C_UMI[spatialmask[inverter]]"
   ]
  },
  {
   "cell_type": "markdown",
   "metadata": {},
   "source": [
    "Now we will get out the list of unique Broad-verified spatial barcodes (this is not necessarily ALL of the Broad barcodes, as some probably never have sequences)."
   ]
  },
  {
   "cell_type": "code",
   "execution_count": 58,
   "metadata": {},
   "outputs": [],
   "source": [
    "fvalues, finverter, fcounts = np.unique(trimmed_helpme, return_counts=True, return_inverse=True)"
   ]
  },
  {
   "cell_type": "markdown",
   "metadata": {},
   "source": [
    "We already have a hamming code function written that takes a single sequence on the left and a list on the right and finds the one on the right most likely to match the first (-1 if none)."
   ]
  },
  {
   "cell_type": "code",
   "execution_count": 59,
   "metadata": {},
   "outputs": [],
   "source": [
    "class2=functions.My2ndClass()"
   ]
  },
  {
   "cell_type": "code",
   "execution_count": 60,
   "metadata": {},
   "outputs": [],
   "source": [
    "trimmed_fixed_C_UMI=np.copy(trimmed_C_UMI)"
   ]
  },
  {
   "cell_type": "markdown",
   "metadata": {},
   "source": [
    "This function will take a list of sequences, and return a list of the same size but where sparse sequences from the first list will be replaced by a more common sequence if they are within a mismatch or two."
   ]
  },
  {
   "cell_type": "code",
   "execution_count": 61,
   "metadata": {},
   "outputs": [],
   "source": [
    "def ReduceRedundancy(source_list):\n",
    "    rtn_list=np.copy(source_list)\n",
    "    fvals, finverts, fcts = np.unique(source_list, return_counts=True, return_inverse=True)\n",
    "    sorted_indices = np.argsort(fcts)\n",
    "    class2=functions.My2ndClass()\n",
    "    \n",
    "    for idx, sidx in enumerate(sorted_indices[0:-1]):\n",
    "        class2.set_data(fvals[sorted_indices[idx+1:]])\n",
    "        cand = class2.myfu(fvals[sidx])\n",
    "        if (cand>-1):\n",
    "            real_idx=cand+idx+1\n",
    "            rtn_list[rtn_list==fvals[sidx]]=fvals[sorted_indices[real_idx]]\n",
    "    return rtn_list"
   ]
  },
  {
   "cell_type": "markdown",
   "metadata": {},
   "source": [
    "Some day I will parallelize this, but I don't feel like it today..."
   ]
  },
  {
   "cell_type": "code",
   "execution_count": 62,
   "metadata": {},
   "outputs": [
    {
     "name": "stdout",
     "output_type": "stream",
     "text": [
      "0\n",
      "1000\n",
      "2000\n",
      "3000\n",
      "4000\n",
      "5000\n",
      "6000\n",
      "7000\n",
      "8000\n",
      "9000\n",
      "10000\n",
      "11000\n",
      "12000\n",
      "13000\n",
      "14000\n",
      "15000\n",
      "16000\n",
      "17000\n",
      "18000\n",
      "19000\n",
      "20000\n",
      "21000\n",
      "22000\n",
      "23000\n",
      "24000\n",
      "25000\n",
      "26000\n",
      "27000\n",
      "28000\n",
      "29000\n",
      "30000\n",
      "31000\n",
      "32000\n",
      "33000\n",
      "34000\n",
      "35000\n",
      "36000\n",
      "37000\n",
      "38000\n",
      "39000\n",
      "40000\n",
      "41000\n",
      "42000\n",
      "43000\n",
      "44000\n",
      "45000\n",
      "46000\n",
      "47000\n",
      "48000\n",
      "49000\n",
      "50000\n",
      "51000\n",
      "52000\n",
      "53000\n",
      "54000\n",
      "55000\n",
      "56000\n",
      "57000\n",
      "58000\n",
      "59000\n",
      "60000\n",
      "61000\n"
     ]
    }
   ],
   "source": [
    "for idx, f in enumerate(fvalues):\n",
    "    associated=fvalues==f\n",
    "    UMIs=(trimmed_C_UMI[(associated)[finverter]])\n",
    "    fixed_UMIs=ReduceRedundancy(UMIs)\n",
    "    trimmed_fixed_C_UMI[(associated)[finverter]]=fixed_UMIs\n",
    "    if (idx%1000==0):\n",
    "        print(idx)"
   ]
  },
  {
   "cell_type": "code",
   "execution_count": null,
   "metadata": {},
   "outputs": [],
   "source": []
  },
  {
   "cell_type": "code",
   "execution_count": null,
   "metadata": {},
   "outputs": [],
   "source": []
  },
  {
   "cell_type": "code",
   "execution_count": null,
   "metadata": {},
   "outputs": [],
   "source": []
  },
  {
   "cell_type": "code",
   "execution_count": 363,
   "metadata": {},
   "outputs": [
    {
     "data": {
      "text/plain": [
       "(array([      48,      216,     1551, ..., 48691820, 48691852, 48693724],\n",
       "       dtype=int64),)"
      ]
     },
     "execution_count": 363,
     "metadata": {},
     "output_type": "execute_result"
    }
   ],
   "source": [
    "np.where(trimmed_C_UMI!=trimmed_fixed_C_UMI)"
   ]
  },
  {
   "cell_type": "code",
   "execution_count": 365,
   "metadata": {},
   "outputs": [
    {
     "data": {
      "text/plain": [
       "['CTCGACAGCA', 'CTCGACAGCC']"
      ]
     },
     "execution_count": 365,
     "metadata": {},
     "output_type": "execute_result"
    }
   ],
   "source": [
    "[trimmed_C_UMI[48], trimmed_fixed_C_UMI[48]]"
   ]
  },
  {
   "cell_type": "code",
   "execution_count": 334,
   "metadata": {},
   "outputs": [],
   "source": [
    "tt=(trimmed_C_UMI[(fvalues==fvalues[30])[finverter]])"
   ]
  },
  {
   "cell_type": "code",
   "execution_count": 349,
   "metadata": {},
   "outputs": [
    {
     "name": "stdout",
     "output_type": "stream",
     "text": [
      "[ 1  1  1 10  6  1  1  2 10  2  1  1  1  1  1 11  3  1  1  1  9  1  2  1\n",
      "  1  6]\n",
      "[ 0 23 21 19 18 17 14 13 24 11 12  6  5  2  1 10  9  7 22 16  4 25 20  8\n",
      "  3 15]\n",
      "Gotone\n",
      "Gotone\n",
      "Gotone\n"
     ]
    },
    {
     "data": {
      "text/plain": [
       "array(['ATCGTGGCGT', 'ATCACGGTCT', 'ATCATGAACT', 'TCTGCTAGTT',\n",
       "       'ATCCCAGCGT', 'ATCAGGCGTG', 'ATCCGCTGTA', 'ATCGATATTT',\n",
       "       'ATCTTGGCTA', 'ATCTTAGCAA', 'ATCACGGTCT', 'ATCCCAGCGT',\n",
       "       'ATCGTACCCT', 'ATCGTACCCT', 'ATCACGGTCT', 'ATCGTACCCT',\n",
       "       'ACTGTCTCTT', 'ATCCCAGCGT', 'TCTGCTAGTT', 'ATCGTGGCGT',\n",
       "       'ATCCCAGCGT', 'ATCGTGGCGT', 'ATCGTGGCGT', 'ATCCCAGCGT',\n",
       "       'TCTGCTAGTT', 'ATCGTACCCT', 'ATCACGGTCT', 'ATCCGCTGTA',\n",
       "       'ATCACGGTCT', 'ATCACGGTCT', 'ATCTCAGTCC', 'ATCAAGCCTG',\n",
       "       'ATCAGGCGTG', 'TCTGCTAGTT', 'ATCACGGTCT', 'ATCGTCTGTC',\n",
       "       'CTGTCTCTTA', 'ATCCCAGCGT', 'ATCGTACCCT', 'TCTGCTAGTT',\n",
       "       'ATCGTGGCGT', 'ATCGTACCCT', 'ATCAGGCGTG', 'ATCATGAACT',\n",
       "       'ATCGTGGCGT', 'ATCCATACTC', 'ATCGTGGCGT', 'ATCCTTTGCA',\n",
       "       'ATCCCAGCGT', 'ATCACGGTCT', 'ATCCCAGCGT', 'ATCGTGGCGT',\n",
       "       'ATCGTACCCT', 'ATCAGGCGTG', 'ATCTTAGCAA', 'ATCCCAGCGT',\n",
       "       'ATCAGGCGTG', 'TCTGCTAGTT', 'ATCGTACCCT', 'ATCGTACCCT',\n",
       "       'ATCGTCCACA', 'ATCGTGCCGA', 'ATCGTGGCGT', 'ATCGTACCCT',\n",
       "       'ATCCCAGCGT', 'ATCAGGCGTG', 'ATCACGGTCT', 'ATCGTACCAG',\n",
       "       'ATCGTACCCT', 'ATCCTGTCTC', 'ATCGTCCACA', 'ATCGTACCCT',\n",
       "       'ATCAAGCAGA', 'ATCACGGTCT', 'ATCCATACTC', 'ATCGTGGCGT',\n",
       "       'ATCGTCCACA'], dtype='<U10')"
      ]
     },
     "execution_count": 349,
     "metadata": {},
     "output_type": "execute_result"
    }
   ],
   "source": [
    "ttt=ReduceRedundancy(tt)\n",
    "ttt"
   ]
  },
  {
   "cell_type": "code",
   "execution_count": 347,
   "metadata": {},
   "outputs": [
    {
     "data": {
      "text/plain": [
       "array(['ATCGTGGCGT', 'ATCACGGTCT', 'ATCATGAACT', 'TCTGCTAGTT',\n",
       "       'ATCCCAGCGT', 'ATCAGGCGTG', 'ATCCGCTGTA', 'ATCGATATTT',\n",
       "       'ATCTTGGCTA', 'ATCTTAGCAA', 'ATCACGGTCT', 'ATCCCAGCGT',\n",
       "       'ATCGTACCCT', 'ATCGTACCCT', 'ATCACGGTCT', 'ATCGTACCCT',\n",
       "       'ACTGTCTCTT', 'ATCCCAGCGT', 'TCTGCTAGTT', 'ATCGTGGCGT',\n",
       "       'ATCCCAGCGT', 'ATCGTGGCGT', 'ATCGTGGCGT', 'ATCCCAGCGT',\n",
       "       'TCTGCTAGTT', 'ATCGTACCCT', 'ATCACGGTCT', 'ATCCGCTGTA',\n",
       "       'ATCACGGTCT', 'ATCACGGTCT', 'ATCTCAGTCC', 'ATCAAGCCTG',\n",
       "       'ATCAGGCGTG', 'TCTGCTAGTT', 'ATCACGGTCT', 'ATCGTCTGTC',\n",
       "       'CTGTCTCTTA', 'ATCCCAGCGT', 'ATCGTACCCT', 'TCTGCTAGTT',\n",
       "       'ATCGTGGCGT', 'ATCGTACCCT', 'ATCAGGCGTG', 'ATCATGAAGT',\n",
       "       'ATCGTGGCGT', 'ATCCATACTC', 'ATCGTGGCGT', 'ATCCTTTGCA',\n",
       "       'ATCCCAGCGT', 'ATCACGGTCT', 'ATCCCAGCGT', 'ATCGTGGCGG',\n",
       "       'ATCGTACCCT', 'ATCAGGCGTG', 'ATCTTAGCAA', 'ATCCCAGCGT',\n",
       "       'ATCAGGCGTG', 'TCTGCTAGTT', 'ATCGTACCCT', 'ATCGTACCCT',\n",
       "       'ATCGTCCACA', 'ATCGTGCCGA', 'ATCGTGGCGT', 'ATCGTACCCT',\n",
       "       'ATCCCAGCGT', 'ATCAGGCGTG', 'ATCACGGTCT', 'ATCGTACCAG',\n",
       "       'ATCGTACCCA', 'ATCCTGTCTC', 'ATCGTCCACA', 'ATCGTACCCT',\n",
       "       'ATCAAGCAGA', 'ATCACGGTCT', 'ATCCATACTC', 'ATCGTGGCGT',\n",
       "       'ATCGTCCACA'], dtype='<U10')"
      ]
     },
     "execution_count": 347,
     "metadata": {},
     "output_type": "execute_result"
    }
   ],
   "source": [
    "tt"
   ]
  },
  {
   "cell_type": "code",
   "execution_count": 353,
   "metadata": {},
   "outputs": [
    {
     "data": {
      "text/plain": [
       "(array([43, 51, 68], dtype=int64),)"
      ]
     },
     "execution_count": 353,
     "metadata": {},
     "output_type": "execute_result"
    }
   ],
   "source": [
    "np.where(tt!=ttt)"
   ]
  },
  {
   "cell_type": "code",
   "execution_count": 355,
   "metadata": {},
   "outputs": [
    {
     "data": {
      "text/plain": [
       "array(['ATCATGAAGT', 'ATCGTGGCGG', 'ATCGTACCCA'], dtype='<U10')"
      ]
     },
     "execution_count": 355,
     "metadata": {},
     "output_type": "execute_result"
    }
   ],
   "source": [
    "tt[[43, 51, 68]]"
   ]
  },
  {
   "cell_type": "code",
   "execution_count": 356,
   "metadata": {},
   "outputs": [
    {
     "data": {
      "text/plain": [
       "array(['ATCATGAACT', 'ATCGTGGCGT', 'ATCGTACCCT'], dtype='<U10')"
      ]
     },
     "execution_count": 356,
     "metadata": {},
     "output_type": "execute_result"
    }
   ],
   "source": [
    "ttt[[43, 51, 68]]"
   ]
  },
  {
   "cell_type": "code",
   "execution_count": 322,
   "metadata": {},
   "outputs": [
    {
     "name": "stdout",
     "output_type": "stream",
     "text": [
      "0\n",
      "135\n",
      "-1\n",
      "-1\n",
      "169\n",
      "-1\n",
      "-1\n",
      "-1\n",
      "163\n",
      "-1\n",
      "-1\n",
      "60\n",
      "-1\n",
      "-1\n",
      "32\n",
      "-1\n",
      "8\n",
      "-1\n",
      "-1\n",
      "103\n",
      "-1\n",
      "-1\n",
      "-1\n",
      "0\n",
      "-1\n",
      "-1\n",
      "-1\n",
      "-1\n",
      "0\n",
      "-1\n",
      "-1\n",
      "-1\n",
      "-1\n",
      "-1\n",
      "1\n",
      "-1\n",
      "-1\n",
      "-1\n",
      "5\n",
      "-1\n",
      "0\n",
      "-1\n",
      "0\n",
      "-1\n",
      "-1\n",
      "-1\n",
      "-1\n",
      "-1\n",
      "-1\n",
      "-1\n",
      "-1\n",
      "-1\n",
      "-1\n",
      "-1\n",
      "-1\n",
      "0\n",
      "-1\n",
      "0\n",
      "-1\n",
      "-1\n",
      "-1\n",
      "-1\n",
      "-1\n",
      "-1\n",
      "-1\n",
      "-1\n",
      "0\n",
      "-1\n",
      "-1\n",
      "-1\n",
      "-1\n",
      "-1\n",
      "0\n",
      "-1\n",
      "-1\n",
      "-1\n",
      "-1\n",
      "-1\n",
      "-1\n",
      "-1\n",
      "-1\n",
      "-1\n",
      "-1\n",
      "27\n",
      "-1\n",
      "-1\n",
      "-1\n",
      "-1\n",
      "47\n",
      "-1\n",
      "1\n",
      "0\n",
      "-1\n",
      "-1\n",
      "-1\n",
      "0\n",
      "-1\n",
      "-1\n",
      "-1\n",
      "0\n",
      "-1\n",
      "-1\n",
      "0\n",
      "-1\n",
      "-1\n",
      "2\n",
      "-1\n",
      "0\n",
      "-1\n",
      "-1\n",
      "-1\n",
      "-1\n",
      "-1\n",
      "-1\n",
      "18\n",
      "-1\n",
      "-1\n",
      "2\n",
      "-1\n",
      "14\n",
      "-1\n",
      "6\n",
      "-1\n",
      "-1\n",
      "-1\n",
      "-1\n",
      "-1\n",
      "-1\n",
      "-1\n",
      "-1\n",
      "0\n",
      "-1\n",
      "-1\n",
      "-1\n",
      "-1\n",
      "-1\n",
      "-1\n",
      "-1\n",
      "-1\n",
      "-1\n",
      "-1\n",
      "0\n",
      "-1\n",
      "-1\n",
      "26\n",
      "-1\n",
      "12\n",
      "-1\n",
      "3\n",
      "-1\n",
      "-1\n",
      "-1\n",
      "-1\n",
      "-1\n",
      "-1\n",
      "3\n",
      "-1\n",
      "-1\n",
      "-1\n",
      "-1\n",
      "-1\n",
      "-1\n",
      "-1\n",
      "-1\n",
      "-1\n",
      "-1\n",
      "52\n",
      "0\n",
      "3\n",
      "1\n",
      "0\n",
      "-1\n",
      "-1\n",
      "1\n",
      "-1\n",
      "-1\n",
      "-1\n",
      "-1\n",
      "-1\n",
      "-1\n",
      "0\n",
      "-1\n",
      "-1\n",
      "-1\n",
      "-1\n",
      "1\n",
      "-1\n",
      "-1\n",
      "-1\n",
      "18\n",
      "-1\n",
      "-1\n",
      "-1\n",
      "17\n",
      "-1\n",
      "-1\n",
      "-1\n",
      "-1\n",
      "-1\n",
      "-1\n",
      "30\n",
      "-1\n",
      "-1\n",
      "-1\n",
      "-1\n",
      "16\n",
      "-1\n",
      "-1\n",
      "-1\n",
      "8\n",
      "1\n",
      "0\n",
      "-1\n",
      "0\n",
      "-1\n",
      "-1\n",
      "-1\n",
      "-1\n",
      "-1\n",
      "0\n",
      "-1\n",
      "0\n",
      "-1\n",
      "-1\n",
      "-1\n",
      "-1\n",
      "-1\n",
      "-1\n",
      "0\n",
      "-1\n",
      "0\n",
      "-1\n",
      "-1\n"
     ]
    }
   ],
   "source": [
    "for idx in range(0,len(tt)-1):\n",
    "    class2.set_data(tt[idx+1:])\n",
    "    print(class2.myfu(tt[idx]))\n"
   ]
  },
  {
   "cell_type": "code",
   "execution_count": 367,
   "metadata": {},
   "outputs": [
    {
     "ename": "ModuleNotFoundError",
     "evalue": "No module named 'Levenshtein'",
     "output_type": "error",
     "traceback": [
      "\u001b[1;31m---------------------------------------------------------------------------\u001b[0m",
      "\u001b[1;31mModuleNotFoundError\u001b[0m                       Traceback (most recent call last)",
      "\u001b[1;32m<ipython-input-367-fabac875824d>\u001b[0m in \u001b[0;36m<module>\u001b[1;34m\u001b[0m\n\u001b[1;32m----> 1\u001b[1;33m \u001b[1;32mimport\u001b[0m \u001b[0mLevenshtein\u001b[0m \u001b[1;32mas\u001b[0m \u001b[0mlv\u001b[0m\u001b[1;33m\u001b[0m\u001b[1;33m\u001b[0m\u001b[0m\n\u001b[0m",
      "\u001b[1;31mModuleNotFoundError\u001b[0m: No module named 'Levenshtein'"
     ]
    }
   ],
   "source": [
    "import Levenshtein as lv"
   ]
  },
  {
   "cell_type": "code",
   "execution_count": 310,
   "metadata": {},
   "outputs": [
    {
     "data": {
      "text/plain": [
       "array(['TTCTATACTC', 'AACATTATCA', 'GTCTAGTAAC', 'ATCAGAATAT',\n",
       "       'ATCTAAGATA', 'TTCCCCCCCC', 'ATCTAGTTAT', 'ATAGCTATTT',\n",
       "       'ATCTTTTGGG', 'TTCCAGGGAA', 'AACCAAAAAT', 'ATCGCCTCAT',\n",
       "       'ATCAGCGAGC', 'TTATTACTCC', 'AACCAAATCT', 'ATATATTATT',\n",
       "       'TTCTACAGTT', 'ATCGGCGAAA', 'ATCGACCAAT', 'ATCCAAAAAT',\n",
       "       'ATCGTGGACA', 'AAAGCCCGAG', 'TAACGGCGTG', 'AACAATAAAC',\n",
       "       'CACTGTTATT', 'ATCTTAGACG', 'TTCAATACTT', 'AACGCTTATT',\n",
       "       'ATCTCAGTGG', 'ATCTTTGTCA', 'ATCCTCACTC', 'ACATGAACGT',\n",
       "       'ATCTTATATA'], dtype='<U10')"
      ]
     },
     "execution_count": 310,
     "metadata": {},
     "output_type": "execute_result"
    }
   ],
   "source": [
    "tt"
   ]
  },
  {
   "cell_type": "code",
   "execution_count": 301,
   "metadata": {},
   "outputs": [
    {
     "data": {
      "text/plain": [
       "40358"
      ]
     },
     "execution_count": 301,
     "metadata": {},
     "output_type": "execute_result"
    }
   ],
   "source": [
    "len(fvalues)"
   ]
  },
  {
   "cell_type": "code",
   "execution_count": 261,
   "metadata": {},
   "outputs": [],
   "source": [
    "tmp=df['BridgedBarcode'][100]"
   ]
  },
  {
   "cell_type": "code",
   "execution_count": 264,
   "metadata": {},
   "outputs": [],
   "source": [
    "fvalues, finverter, fcounts = np.unique(final_mapper, return_counts=True, return_inverse=True)"
   ]
  },
  {
   "cell_type": "code",
   "execution_count": 285,
   "metadata": {},
   "outputs": [
    {
     "data": {
      "text/plain": [
       "40359"
      ]
     },
     "execution_count": 285,
     "metadata": {},
     "output_type": "execute_result"
    }
   ],
   "source": [
    "len(fvalues)"
   ]
  },
  {
   "cell_type": "code",
   "execution_count": 295,
   "metadata": {},
   "outputs": [
    {
     "ename": "IndexError",
     "evalue": "boolean index did not match indexed array along dimension 0; dimension is 48693906 but corresponding boolean dimension is 17527016",
     "output_type": "error",
     "traceback": [
      "\u001b[1;31m---------------------------------------------------------------------------\u001b[0m",
      "\u001b[1;31mIndexError\u001b[0m                                Traceback (most recent call last)",
      "\u001b[1;32m<ipython-input-295-fea185842a16>\u001b[0m in \u001b[0;36m<module>\u001b[1;34m\u001b[0m\n\u001b[0;32m      1\u001b[0m \u001b[1;32mfor\u001b[0m \u001b[0midx\u001b[0m\u001b[1;33m,\u001b[0m \u001b[0mf\u001b[0m \u001b[1;32min\u001b[0m \u001b[0menumerate\u001b[0m\u001b[1;33m(\u001b[0m\u001b[0mfvalues\u001b[0m\u001b[1;33m)\u001b[0m\u001b[1;33m:\u001b[0m\u001b[1;33m\u001b[0m\u001b[1;33m\u001b[0m\u001b[0m\n\u001b[1;32m----> 2\u001b[1;33m     \u001b[0mtt\u001b[0m\u001b[1;33m=\u001b[0m\u001b[1;33m(\u001b[0m\u001b[0mtrimmed_C_UMI\u001b[0m\u001b[1;33m[\u001b[0m\u001b[1;33m(\u001b[0m\u001b[0mfvalues\u001b[0m\u001b[1;33m==\u001b[0m\u001b[0mf\u001b[0m\u001b[1;33m)\u001b[0m\u001b[1;33m[\u001b[0m\u001b[0mfinverter\u001b[0m\u001b[1;33m]\u001b[0m\u001b[1;33m]\u001b[0m\u001b[1;33m)\u001b[0m\u001b[1;33m\u001b[0m\u001b[1;33m\u001b[0m\u001b[0m\n\u001b[0m\u001b[0;32m      3\u001b[0m     \u001b[1;32mif\u001b[0m \u001b[1;33m(\u001b[0m\u001b[0midx\u001b[0m\u001b[1;33m%\u001b[0m\u001b[1;36m100\u001b[0m\u001b[1;33m==\u001b[0m\u001b[1;36m0\u001b[0m\u001b[1;33m)\u001b[0m\u001b[1;33m:\u001b[0m\u001b[1;33m\u001b[0m\u001b[1;33m\u001b[0m\u001b[0m\n\u001b[0;32m      4\u001b[0m         \u001b[0mprint\u001b[0m\u001b[1;33m(\u001b[0m\u001b[0midx\u001b[0m\u001b[1;33m)\u001b[0m\u001b[1;33m\u001b[0m\u001b[1;33m\u001b[0m\u001b[0m\n",
      "\u001b[1;31mIndexError\u001b[0m: boolean index did not match indexed array along dimension 0; dimension is 48693906 but corresponding boolean dimension is 17527016"
     ]
    }
   ],
   "source": [
    "for idx, f in enumerate(fvalues):\n",
    "    tt=(C_UMI[(fvalues==f)[finverter][inverter]])\n",
    "    if (idx%100==0):\n",
    "        print(idx)"
   ]
  },
  {
   "cell_type": "code",
   "execution_count": 279,
   "metadata": {},
   "outputs": [
    {
     "data": {
      "text/plain": [
       "array(['ATGCTGTTTCTTCAGCGTTCCCGAGATGGGTC',\n",
       "       'TAATCGGATCTTCAGCGTTCCCGAGAACACGG', '', ...,\n",
       "       'CCTTTCCTTCTTCAGCGTTCCCGAGACTCGGG', '',\n",
       "       'CCATGAGTTCTTCAGCGTTCCCGAGATTCACA'], dtype='<U32')"
      ]
     },
     "execution_count": 279,
     "metadata": {},
     "output_type": "execute_result"
    }
   ],
   "source": [
    "helpme"
   ]
  },
  {
   "cell_type": "code",
   "execution_count": 262,
   "metadata": {},
   "outputs": [
    {
     "data": {
      "text/plain": [
       "array(['CCATACACTCTTCAGCGTTCCCGAGATGTTTT',\n",
       "       'CCATACACTCTTCAGCGTTCCCGAGATGTTTT',\n",
       "       'CCATACACTCTTCAGCGTTCCCGAGATGTTTT',\n",
       "       'CCATACACTCTTCAGCGTTCCCGAGATGTTTT',\n",
       "       'CCATACACTCTTCAGCGTTCCCGAGATGTTTT',\n",
       "       'CCATACACTCTTCAGCGTTCCCGAGATATTTT',\n",
       "       'CCATACACTCTTCAGCGTTCCCGAGATTTTTT',\n",
       "       'CCATACACTCTTCAGCGTTCCCGAGATTTTTT',\n",
       "       'CCATACACTCTTCAGCGTTCCCGAGATATTTT',\n",
       "       'CTATACACTCTTCAGCGTTCCCGAGATGTTTT',\n",
       "       'CCATACACTCTTCAGCGTTCCCGAGATGTTTT',\n",
       "       'CCATACACTCTTCAGCGTTCCCGAGATGTTTT',\n",
       "       'CCATACACTCTTCAGCGTTCCCGAGATGTTTT',\n",
       "       'CCATACACTCTTCAGCGTTCCCGAGATGTTTT',\n",
       "       'CCATACACTCTTCAGCGTTCCCGAGATTTTTT',\n",
       "       'CCATACACTCTTCAGCGTTCCCGAGATGTTTT',\n",
       "       'CCATACACTCTTCAGCGTTCCCGAGATATTTT',\n",
       "       'CCATACACTCTTCAGCGTTCCCGAGATATTTT',\n",
       "       'CCATACACTCTTCAGCGTTCCCGAGATGCTTT',\n",
       "       'CCATACACTCTTCAGCGTTCCCGAGATATTTT',\n",
       "       'CCATACACTCTTCAGCGTTCCCGAGATTTTTT',\n",
       "       'CCATACACTCTTCAGCGTTCCCGAGATGTTTT',\n",
       "       'CCATACACTCTTCAGCGTTCCCGAGATTTTTT',\n",
       "       'CCATACACTCTTCAGCGTTCCCGAGATGTTTT',\n",
       "       'CCATACACTCTTCAGCGTTCCCGAGATTTTTT',\n",
       "       'CCATACACTCTTCAGCGTTCCCGAGATGTTTT',\n",
       "       'CCATACACTCTTCAGCGTTCCCGAGATGTTTT',\n",
       "       'CCATACACTCTTCAGCGTTCCCGAGATATTTT',\n",
       "       'CCATACACTCTTCAGCGTTCCCGAGATGTTTT',\n",
       "       'CCATACACTCTTCAGCGTTCCCGAGATATTTT',\n",
       "       'CCATACACTCTTCAGCGTTCCCGAGATATTTT',\n",
       "       'CCATACACTCTTCAGCGTTCCCGAGATGTTTT',\n",
       "       'CCATACACTCTTCAGCGTTCCCGAGATGTTTT',\n",
       "       'CCATACACTCTTCAGCGTTCCCGAGATATTTT',\n",
       "       'CCATACACTCTTCAGCGTTCCCGAGATGTTTT',\n",
       "       'CCATACACTCTTCAGCGTTCCCGAGATATTTT',\n",
       "       'CCATACACTCTTCAGCGTTCCCGAGATGTTTT',\n",
       "       'CCATACACTCTTCAGCGTTCCCGAGATGTTTT',\n",
       "       'CCATACACTCTTCAGCGTTCCCGAGATGTTTT',\n",
       "       'CCATACACTCTTCAGCGTTCCCGAGATGTTTT',\n",
       "       'CCATACACTCTTCAGCGTTCCCGAGATATTTT',\n",
       "       'CCATACACTCTTCAGCGTTCCCGAGATGTTTT',\n",
       "       'CCATACACTCTTCAGCGTTCCCGAGATTTTTT',\n",
       "       'CCATACACTCTTCAGCGTTCCCGAGATGTTTT',\n",
       "       'CCATACACTCTTCAGCGTTCCCGAGATATTTT',\n",
       "       'CCATACACTCTTCAGCGTTCCCGAGATATTTT',\n",
       "       'CCATACACTCTTCAGCGTTCCCGAGATGTTTT',\n",
       "       'CCATACACTCTTCAGCGTTCCCGAGATGTTTT',\n",
       "       'CCATACACTCTTCAGCGTTCCCGAGATGCTTT',\n",
       "       'CCATACACTCTTCAGCGTTCCCGAGATTTTTT',\n",
       "       'CCATACACTCTTCAGCGTTCCCGAGATATTTT',\n",
       "       'CCATACACTCTTCAGCGTTCCCGAGATGTTTT',\n",
       "       'CCATACACTCTTCAGCGTTCCCGAGATATTTT',\n",
       "       'CCATACACTCTTCAGCGTTCCCGAGATATTTT',\n",
       "       'CCATACACTCTTCAGCGTTCCCGAGATGTTTT',\n",
       "       'CCATACACTCTTCAGCGTTCCCGAGATATTTT',\n",
       "       'CCATACACTCTTCAGCGTTCCCGAGATGTTTT',\n",
       "       'CCATACACTCTTCAGCGTTCCCGAGATTTTTT',\n",
       "       'CCATACACTCTTCAGCGTTCCCGAGATGTTTT',\n",
       "       'CCATACACTCTTCAGCGTTCCCGAGATTTTTT',\n",
       "       'CCATACACTCTTCAGCGTTCCCGAGATGTTTT',\n",
       "       'CCATACACTCTTCAGCGTTCCCGAGATTTTTT',\n",
       "       'CCATACACTCTTCAGCGTTCCCGAGATTTTTT',\n",
       "       'CCATACACTCTTCAGCGTTCCCGAGATGTTTT',\n",
       "       'CCATACACTCTTCAGCGTTCCCGAGATATTTT',\n",
       "       'CCATACACTCTTCAGCGTTCCCGAGATGTTTT',\n",
       "       'CCATACACTCTTCAGCGTTCCCGAGATGTTTT',\n",
       "       'CCATACACTCTTCAGCGTTCCCGAGATGTTTT',\n",
       "       'CTATACACTCTTCAGCGTTCCCGAGATGTTTT',\n",
       "       'CCATACACTCTTCAGCGTTCCCGAGATGTTTT',\n",
       "       'CCATACACTCTTCAGCGTTCCCGAGATTTTTT',\n",
       "       'CCATACACTCTTCAGCGTTCCCGAGATGTTTT',\n",
       "       'CCATACACTCTTCAGCGTTCCCGAGATATTTT',\n",
       "       'CCATACACTCTTCAGCGTTCCCGAGATTTTTT',\n",
       "       'CCATACACTCTTCAGCGTTCCCGAGATGTTTT',\n",
       "       'CCATACACTCTTCAGCGTTCCCGAGATTTTTT',\n",
       "       'CCATACACTCTTCAGCGTTCCCGAGATGTTTT',\n",
       "       'CCATACACTCTTCAGCGTTCCCGAGATGTTTT',\n",
       "       'CCATACACTCTTCAGCGTTCCCGAGATATTTT',\n",
       "       'CCATACACTCTTCAGCGTTCCCGAGATATTTT',\n",
       "       'CCATACACTCTTCAGCGTTCCCGAGATGTTTT',\n",
       "       'CCATACACTCTTCAGCGTTCCCGAGATGTTTT',\n",
       "       'CCATACACTCTTCAGCGTTCCCGAGATATTTT',\n",
       "       'CCATACACTCTTCAGCGTTCCCGAGATGTTTT',\n",
       "       'CCATACACTCTTCAGCGTTCCCGAGATTTTTT',\n",
       "       'CCATACACTCTTCAGCGTTCCCGAGATGTTTT',\n",
       "       'CTATACACTCTTCAGCGTTCCCGAGATGTTTT',\n",
       "       'CCATACACTCTTCAGCGTTCCCGAGATATTTT',\n",
       "       'CCATACACTCTTCAGCGTTCCCGAGATATTTT',\n",
       "       'CCATACACTCTTCAGCGTTCCCGAGATGTTTT',\n",
       "       'CCATACACTCTTCAGCGTTCCCGAGATGTTTT',\n",
       "       'CCATACACTCTTCAGCGTTCCCGAGATGTTTT',\n",
       "       'CCATACACTCTTCAGCGTTCCCGAGATATTTT',\n",
       "       'CTATACACTCTTCAGCGTTCCCGAGATGTTTT',\n",
       "       'CCATACACTCTTCAGCGTTCCCGAGATATTTT',\n",
       "       'CCATACACTCTTCAGCGTTCCCGAGATATTTT',\n",
       "       'CCATACACTCTTCAGCGTTCCCGAGATGTTTT',\n",
       "       'CCATACACTCTTCAGCGTTCCCGAGATGTTTT',\n",
       "       'CCATACACTCTTCAGCGTTCCCGAGATATTTT',\n",
       "       'CCATACACTCTTCAGCGTTCCCGAGATGTTTT',\n",
       "       'CCATACACTCTTCAGCGTTCCCGAGATGTTTT',\n",
       "       'CCATACACTCTTCAGCGTTCCCGAGATATTTT',\n",
       "       'CCATACACTCTTCAGCGTTCCCGAGATGTTTT',\n",
       "       'CCATACACTCTTCAGCGTTCCCGAGATGTTTT',\n",
       "       'CCATACACTCTTCAGCGTTCCCGAGATGCTTT',\n",
       "       'CCATACACTCTTCAGCGTTCCCGAGATGTTTT',\n",
       "       'CCATACACTCTTCAGCGTTCCCGAGATATTTT',\n",
       "       'CCATACACTCTTCAGCGTTCCCGAGATATTTT',\n",
       "       'CCATACACTCTTCAGCGTTCCCGAGATTTTTT',\n",
       "       'CCATACACTCTTCAGCGTTCCCGAGATATTTT',\n",
       "       'CCATACACTCTTCAGCGTTCCCGAGATATTTT',\n",
       "       'CCATACACTCTTCAGCGTTCCCGAGATGTTTT',\n",
       "       'CCATACACTCTTCAGCGTTCCCGAGATGTTTT',\n",
       "       'CCATACACTCTTCAGCGTTCCCGAGATGTTTT',\n",
       "       'CCATACACTCTTCAGCGTTCCCGAGATGTTTT',\n",
       "       'CCATACACTCTTCAGCGTTCCCGAGATATTTT',\n",
       "       'CCATACACTCTTCAGCGTTCCCGAGATGTTTT',\n",
       "       'CCATACACTCTTCAGCGTTCCCGAGATATTTT',\n",
       "       'CCATACACTCTTCAGCGTTCCCGAGATTTTTT',\n",
       "       'CCATACACTCTTCAGCGTTCCCGAGATGTTTT',\n",
       "       'CCATACACTCTTCAGCGTTCCCGAGATTTTTT',\n",
       "       'CCATACACTCTTCAGCGTTCCCGAGATGTTTT',\n",
       "       'CCATACACTCTTCAGCGTTCCCGAGATTTTTT',\n",
       "       'CCATACACTCTTCAGCGTTCCCGAGATGTTTT',\n",
       "       'CCATACACTCTTCAGCGTTCCCGAGATGCTTT',\n",
       "       'CCATACACTCTTCAGCGTTCCCGAGATGTTTT',\n",
       "       'CCATACACTCTTCAGCGTTCCCGAGATATTTT',\n",
       "       'CCATACACTCTTCAGCGTTCCCGAGATATTTT',\n",
       "       'CCATACACTCTTCAGCGTTCCCGAGATATTTT',\n",
       "       'CCATACACTCTTCAGCGTTCCCGAGATGCTTT',\n",
       "       'CCATACACTCTTCAGCGTTCCCGAGATATTTT',\n",
       "       'CCATACACTCTTCAGCGTTCCCGAGATGTTTT',\n",
       "       'CCATACACTCTTCAGCGTTCCCGAGATGTTTT',\n",
       "       'CCATACACTCTTCAGCGTTCCCGAGATATTTT',\n",
       "       'CCATACACTCTTCAGCGTTCCCGAGATGTTTT',\n",
       "       'CCATACACTCTTCAGCGTTCCCGAGATATTTT',\n",
       "       'CCATACACTCTTCAGCGTTCCCGAGATATTTT',\n",
       "       'CCATACACTCTTCAGCGTTCCCGAGATGTTTT',\n",
       "       'CCATACACTCTTCAGCGTTCCCGAGATGTTTT',\n",
       "       'CCATACACTCTTCAGCGTTCCCGAGATGTTTT',\n",
       "       'CCATACACTCTTCAGCGTTCCCGAGATATTTT',\n",
       "       'CCATACACTCTTCAGCGTTCCCGAGATGTTTT',\n",
       "       'CCATACACTCTTCAGCGTTCCCGAGATATTTT',\n",
       "       'CCATACACTCTTCAGCGTTCCCGAGATATTTT',\n",
       "       'CCATACACTCTTCAGCGTTCCCGAGATATTTT',\n",
       "       'CCATACACTCTTCAGCGTTCCCGAGATATTTT',\n",
       "       'CCATACACTCTTCAGCGTTCCCGAGATGTTTT',\n",
       "       'CCATACACTCTTCAGCGTTCCCGAGATATTTT',\n",
       "       'CCATACACTCTTCAGCGTTCCCGAGATTTTTT',\n",
       "       'CCATACACTCTTCAGCGTTCCCGAGATGTTTT',\n",
       "       'CTATACACTCTTCAGCGTTCCCGAGATGTTTT',\n",
       "       'CCATACACTCTTCAGCGTTCCCGAGATGTTTT',\n",
       "       'CCATACACTCTTCAGCGTTCCCGAGATGTTTT',\n",
       "       'CCATACACTCTTCAGCGTTCCCGAGATGTTTT',\n",
       "       'CCATACACTCTTCAGCGTTCCCGAGATATTTT',\n",
       "       'CCATACACTCTTCAGCGTTCCCGAGATATTTT',\n",
       "       'CCATACACTCTTCAGCGTTCCCGAGATGTTTT',\n",
       "       'CCATACACTCTTCAGCGTTCCCGAGATATTTT',\n",
       "       'CCATACACTCTTCAGCGTTCCCGAGATGTTTT',\n",
       "       'CCATACACTCTTCAGCGTTCCCGAGATGTTTT',\n",
       "       'CCATACACTCTTCAGCGTTCCCGAGATTTTTT',\n",
       "       'CCATACACTCTTCAGCGTTCCCGAGATTTTTT',\n",
       "       'CCATACACTCTTCAGCGTTCCCGAGATGCTTT',\n",
       "       'CCATACACTCTTCAGCGTTCCCGAGATTTTTT',\n",
       "       'CCATACACTCTTCAGCGTTCCCGAGATATTTT',\n",
       "       'CCATACACTCTTCAGCGTTCCCGAGATATTTT',\n",
       "       'CCATACACTCTTCAGCGTTCCCGAGATGCTTT',\n",
       "       'CCATACACTCTTCAGCGTTCCCGAGATGTTTT',\n",
       "       'CCATACACTCTTCAGCGTTCCCGAGATGTTTT',\n",
       "       'CCATACACTCTTCAGCGTTCCCGAGATATTTT',\n",
       "       'CCATACACTCTTCAGCGTTCCCGAGATATTTT',\n",
       "       'CCATACACTCTTCAGCGTTCCCGAGATATTTT',\n",
       "       'CCATACACTCTTCAGCGTTCCCGAGATTTTTT',\n",
       "       'CCATACACTCTTCAGCGTTCCCGAGATGTTTT',\n",
       "       'CCATACACTCTTCAGCGTTCCCGAGATTTTTT',\n",
       "       'CTATACACTCTTCAGCGTTCCCGAGATGTTTT',\n",
       "       'CCATACACTCTTCAGCGTTCCCGAGATATTTT',\n",
       "       'CCATACACTCTTCAGCGTTCCCGAGATATTTT',\n",
       "       'CCATACACTCTTCAGCGTTCCCGAGATGTTTT',\n",
       "       'CCATACACTCTTCAGCGTTCCCGAGATGTTTT',\n",
       "       'CCATACACTCTTCAGCGTTCCCGAGATATTTT',\n",
       "       'CCATACACTCTTCAGCGTTCCCGAGATATTTT',\n",
       "       'CCATACACTCTTCAGCGTTCCCGAGATATTTT',\n",
       "       'CCATACACTCTTCAGCGTTCCCGAGATATTTT',\n",
       "       'CCATACACTCTTCAGCGTTCCCGAGATGTTTT',\n",
       "       'CCATACACTCTTCAGCGTTCCCGAGATGTTTT'], dtype='<U32')"
      ]
     },
     "execution_count": 262,
     "metadata": {},
     "output_type": "execute_result"
    }
   ],
   "source": [
    "C[np.nonzero((final_mapper==tmp)[inverter])[0]]"
   ]
  },
  {
   "cell_type": "code",
   "execution_count": 289,
   "metadata": {},
   "outputs": [
    {
     "data": {
      "text/plain": [
       "array(['CTCTTTCTCG', 'CTCCTGCGGA', 'CTCTTTATAC', 'CTCCGCATGG',\n",
       "       'CTCTCGGTCT', 'TTTTTTTTTT', 'TTATTTTTTT', 'TTTTTTTTTT',\n",
       "       'TTTTTTTTTT', 'CTCCGCCGTT', 'CTCCGCATGG', 'CTCTGTTCGT',\n",
       "       'CTCTGGTTCT', 'CTCTGCGATT', 'TTTTTTTTTT', 'CTCCAGCTGG',\n",
       "       'TTTTTTTTTT', 'TTTTTTTTTT', 'CAGCGGTTAT', 'TTTTTTTTTT',\n",
       "       'TTTTTTTTTT', 'CTCTCGAGCT', 'TTTTTTTTTT', 'CTCTGTTCGT',\n",
       "       'TTTTTTTTTT', 'CTCCGCATGG', 'CTCTGTCGAC', 'TTTTTTTTTT',\n",
       "       'CTCCATTTAT', 'TTTTTTTTTT', 'TTTTTTTTTT', 'CTCAATGGAT',\n",
       "       'CTCGTTAGTC', 'TTTGCCTTGG', 'CTCCAGCTGG', 'TTTTTTTTTT',\n",
       "       'CTCTATGTGT', 'CTCCGCATGG', 'CTCGTTCACA', 'CTCTTTATAC',\n",
       "       'ATTTTTTTTT', 'CTCATATCTG', 'TTTTTTTTTT', 'CTCAAACTCC',\n",
       "       'TTTTTTTTTT', 'TTTTTTTTTT', 'CTCTGTCGAC', 'CCTGTCTCTT',\n",
       "       'CAGCGGTTAT', 'TTTTTTTTTT', 'TTTTTTTTTT', 'CTCTGGTTCT',\n",
       "       'TTTTTTTTTT', 'TTTTTTTTTT', 'CTCGTTAGTC', 'TTTTTTTTTT',\n",
       "       'CTCTTTATAC', 'TTTTTTTTTT', 'CTCTGCGATT', 'TTTTTTTTTT',\n",
       "       'CTCCCGGCGT', 'TTTTTTTTTT', 'TTTTTTTTTT', 'CTCGGGGAGC',\n",
       "       'TTTTTTTTTT', 'CTCTGCGATT', 'CTCTCGTATC', 'CTCCCGATAC',\n",
       "       'CTCCTGTCAC', 'CTCGTTAGTC', 'TTTTTTTTTT', 'CTCCGCTAAG',\n",
       "       'TTTTTTTTTT', 'TTTTTTTTTT', 'CTCTCGTATC', 'TTTTTTTTTT',\n",
       "       'CTCCAGCTGG', 'CTCCTGTCAC', 'TTTTTTTTTT', 'TTTTTTTTTT',\n",
       "       'CTCCATTTAT', 'CTCGTTAGTC', 'TTTTTTTTTT', 'CTCTGGTTCT',\n",
       "       'TTTTTTTTTT', 'CTCCATTTAT', 'CTCCTGTCAC', 'TTTTTTTTTT',\n",
       "       'TTTTTTTTTT', 'CTCCTGTCAC', 'CTCAATGGAT', 'CTCCGCATGG',\n",
       "       'TTTTTTTTTT', 'CTCCTCTGTG', 'TTTTTTTTTT', 'TTTTTTTTTT',\n",
       "       'CTCCTGTCAC', 'CTCCGCTAAG', 'TTTTTTTTTT', 'CTCGTTAGTC',\n",
       "       'CTCTCGTACT', 'TTTTTTTTTT', 'CTCTGGTTCT', 'CTCTGTCGAC',\n",
       "       'CAGCGGTTAT', 'CTCTTATTTG', 'TTTTTTTTTT', 'TTTTTTTTTT',\n",
       "       'TTTTTTTTTT', 'TTTTTTTTTT', 'TTTTTTTTTT', 'CTCCTGTCAC',\n",
       "       'CTCTCGCTGT', 'CTCGGGGAGC', 'CTCCTGTCAC', 'TTTTTTTTTT',\n",
       "       'CTCCTGTCAC', 'TTTTTTTTTT', 'TTTTTTTTTT', 'CTCTTATTTG',\n",
       "       'TTTTTTTTTT', 'CTCTATGTTC', 'TTTTTTTTTT', 'CTCTGTCGAC',\n",
       "       'CAGCGGTTAT', 'CTCTTTCTCG', 'TTTGCCTTGG', 'TTTTTTTTTT',\n",
       "       'TTTTTTTTTT', 'CAGCGGTTAT', 'TTTTTTTTTT', 'CTCTGGTTCT',\n",
       "       'CTCTTTATAC', 'TTTGCCTTGG', 'CTCATGACTC', 'TTTTTTTTTT',\n",
       "       'TTTTTTTTTT', 'CTCAATGGAT', 'CTCCTGTCAC', 'CTCCCGCTTG',\n",
       "       'TTTTTTTTTT', 'CTCAATGGAT', 'TTTTTTTTTT', 'TTTTTTTTTT',\n",
       "       'TTTTTTTTTT', 'TTTTTTTTTT', 'CTCCATTTAT', 'TTTTTTTTTT',\n",
       "       'TTTTTTTTTT', 'CTCCGCATGG', 'CTCCTGTCAC', 'CTCCTGTCAC',\n",
       "       'CTCCATTTAT', 'CTCTGCGATT', 'TTTTTTTTTT', 'TTTTTTTTTT',\n",
       "       'CTCTTTCTCG', 'TTTTTTTTTT', 'CTCTGTTCGT', 'CTCCTGCGGA',\n",
       "       'TTTTTTTTTT', 'TTTTTTTTTT', 'CAGCGGTTAT', 'TTTTTTTTTT',\n",
       "       'TTTTTTTTTT', 'TTTTTTTTTT', 'CAGCGGTTAT', 'CTCTATAACT',\n",
       "       'CTCCGCATGG', 'TTTTTTTTTT', 'ATTTTTTTTT', 'TTTTTTTTTT',\n",
       "       'TTTTTTTTTT', 'CTCATGACTC', 'TTTTTTTTTT', 'CTCCGCCGTT',\n",
       "       'TTTTTTTTTT', 'TTTTTTTTTT', 'CTCTCGGTCT', 'CTCTTTCTCG',\n",
       "       'TTTTTTTTTT', 'TTTTTTTTTT', 'TTTTTTTTTT', 'TTTGCCTTGG',\n",
       "       'CTCCCGCTTG', 'CTCCTGGCCT'], dtype='<U10')"
      ]
     },
     "execution_count": 289,
     "metadata": {},
     "output_type": "execute_result"
    }
   ],
   "source": [
    "C_UMI[np.nonzero((final_mapper==tmp)[inverter])[0]]"
   ]
  },
  {
   "cell_type": "code",
   "execution_count": 245,
   "metadata": {},
   "outputs": [],
   "source": [
    "fvalues, fcounts = np.unique(final_mapper[final_mapper!=''], return_counts=True)"
   ]
  },
  {
   "cell_type": "code",
   "execution_count": 259,
   "metadata": {},
   "outputs": [
    {
     "data": {
      "text/plain": [
       "40358"
      ]
     },
     "execution_count": 259,
     "metadata": {},
     "output_type": "execute_result"
    }
   ],
   "source": [
    "len(fvalues)"
   ]
  },
  {
   "cell_type": "code",
   "execution_count": 256,
   "metadata": {},
   "outputs": [
    {
     "data": {
      "text/plain": [
       "303746"
      ]
     },
     "execution_count": 256,
     "metadata": {},
     "output_type": "execute_result"
    }
   ],
   "source": [
    "np.sum(fcounts)"
   ]
  },
  {
   "cell_type": "code",
   "execution_count": 258,
   "metadata": {},
   "outputs": [
    {
     "data": {
      "text/plain": [
       "array([    5,     5,     5, ..., 32065, 40338, 48134])"
      ]
     },
     "execution_count": 258,
     "metadata": {},
     "output_type": "execute_result"
    }
   ],
   "source": [
    "np.sort(pairs[spatialmask,1].astype(int))[500:]"
   ]
  },
  {
   "cell_type": "code",
   "execution_count": 202,
   "metadata": {},
   "outputs": [
    {
     "ename": "AttributeError",
     "evalue": "'list' object has no attribute 'shape'",
     "output_type": "error",
     "traceback": [
      "\u001b[1;31m---------------------------------------------------------------------------\u001b[0m",
      "\u001b[1;31mAttributeError\u001b[0m                            Traceback (most recent call last)",
      "\u001b[1;32m<ipython-input-202-3d6ebafe3f60>\u001b[0m in \u001b[0;36m<module>\u001b[1;34m\u001b[0m\n\u001b[1;32m----> 1\u001b[1;33m \u001b[0mC_UMI\u001b[0m\u001b[1;33m.\u001b[0m\u001b[0mshape\u001b[0m\u001b[1;33m\u001b[0m\u001b[1;33m\u001b[0m\u001b[0m\n\u001b[0m",
      "\u001b[1;31mAttributeError\u001b[0m: 'list' object has no attribute 'shape'"
     ]
    }
   ],
   "source": [
    "C_UMI"
   ]
  },
  {
   "cell_type": "code",
   "execution_count": 180,
   "metadata": {},
   "outputs": [
    {
     "ename": "TypeError",
     "evalue": "only integer scalar arrays can be converted to a scalar index",
     "output_type": "error",
     "traceback": [
      "\u001b[1;31m---------------------------------------------------------------------------\u001b[0m",
      "\u001b[1;31mTypeError\u001b[0m                                 Traceback (most recent call last)",
      "\u001b[1;32m<ipython-input-180-180e9fd3e7cf>\u001b[0m in \u001b[0;36m<module>\u001b[1;34m\u001b[0m\n\u001b[1;32m----> 1\u001b[1;33m \u001b[0mC_UMI\u001b[0m\u001b[1;33m[\u001b[0m\u001b[1;33m(\u001b[0m\u001b[0mfinal_mapper\u001b[0m\u001b[1;33m==\u001b[0m\u001b[0mtmp\u001b[0m\u001b[1;33m)\u001b[0m\u001b[1;33m[\u001b[0m\u001b[0minverter\u001b[0m\u001b[1;33m]\u001b[0m\u001b[1;33m]\u001b[0m\u001b[1;33m\u001b[0m\u001b[1;33m\u001b[0m\u001b[0m\n\u001b[0m",
      "\u001b[1;31mTypeError\u001b[0m: only integer scalar arrays can be converted to a scalar index"
     ]
    }
   ],
   "source": [
    "C_UMI[(final_mapper==tmp)[inverter]]"
   ]
  },
  {
   "cell_type": "code",
   "execution_count": 166,
   "metadata": {},
   "outputs": [
    {
     "data": {
      "text/plain": [
       "(17527016, 2)"
      ]
     },
     "execution_count": 166,
     "metadata": {},
     "output_type": "execute_result"
    }
   ],
   "source": [
    "pairs.shape"
   ]
  },
  {
   "cell_type": "code",
   "execution_count": 159,
   "metadata": {},
   "outputs": [
    {
     "data": {
      "text/plain": [
       "array(['AAAAAATATCTTCAGCGTTCCCGAGAAAAAAA',\n",
       "       'AAAGAAAATCTTCAGCGTTCCCGAGAAAAATG',\n",
       "       'AAAAAAATTCTTCAGCGTTCCCGAGAAAATAA', ...,\n",
       "       'TTTTGTTGTCTTCAGCGTTCCCGAGAACGTTA',\n",
       "       'GTTTTTTTTCTTCAGCGTTCCCGAGAGTTGCC',\n",
       "       'TTTATTTTTCTTCAGCGTTCCCGAGATAGCCG'], dtype='<U32')"
      ]
     },
     "execution_count": 159,
     "metadata": {},
     "output_type": "execute_result"
    }
   ],
   "source": [
    "final_mapper[spatialmask]"
   ]
  },
  {
   "cell_type": "code",
   "execution_count": 156,
   "metadata": {},
   "outputs": [],
   "source": [
    "final_mapper[:]=''"
   ]
  },
  {
   "cell_type": "code",
   "execution_count": 157,
   "metadata": {},
   "outputs": [],
   "source": [
    "final_mapper[spatialmask]=df['BridgedBarcode'][index_mapper[spatialmask].astype(int)]"
   ]
  },
  {
   "cell_type": "code",
   "execution_count": 149,
   "metadata": {},
   "outputs": [
    {
     "data": {
      "text/plain": [
       "74325    AAAAAATATCTTCAGCGTTCCCGAGAAAAAAA\n",
       "22623    AAAGAAAATCTTCAGCGTTCCCGAGAAAAATG\n",
       "70016    AAAAAAATTCTTCAGCGTTCCCGAGAAAATAA\n",
       "15032    AAAATAAATCTTCAGCGTTCCCGAGAAAATAT\n",
       "59398    GAAAAAAATCTTCAGCGTTCCCGAGAACAATA\n",
       "                       ...               \n",
       "27188    TTTTTTTATCTTCAGCGTTCCCGAGAGTACGG\n",
       "4373     TTATTTTGTCTTCAGCGTTCCCGAGAAACATT\n",
       "55802    TTTTGTTGTCTTCAGCGTTCCCGAGAACGTTA\n",
       "48092    GTTTTTTTTCTTCAGCGTTCCCGAGAGTTGCC\n",
       "31782    TTTATTTTTCTTCAGCGTTCCCGAGATAGCCG\n",
       "Name: BridgedBarcode, Length: 303746, dtype: object"
      ]
     },
     "execution_count": 149,
     "metadata": {},
     "output_type": "execute_result"
    }
   ],
   "source": [
    "df['BridgedBarcode'][index_mapper[spatialmask].astype(int)]"
   ]
  },
  {
   "cell_type": "code",
   "execution_count": 126,
   "metadata": {},
   "outputs": [
    {
     "data": {
      "text/plain": [
       "array([['AAAAAAAATCTTCAGCGTTCCCGAGAAAAAAA', '24'],\n",
       "       ['AAAAAAAATCTTCAGCGTTCCCGAGAAAAAAC', '11'],\n",
       "       ['AAAAAAAATCTTCAGCGTTCCCGAGAAAAAAT', '10'],\n",
       "       ...,\n",
       "       ['TTTTTTTTTCTTCAGCGTTCCCGAGAGTTGCC', '61'],\n",
       "       ['TTTTTTTTTCTTCAGCGTTCCCGAGATAGCCG', '14'],\n",
       "       ['TTTTTTTTTTCAGCGTTCCCGAGAAATAACAT', '5']], dtype='<U32')"
      ]
     },
     "execution_count": 126,
     "metadata": {},
     "output_type": "execute_result"
    }
   ],
   "source": [
    "pairs[fivepairmask]"
   ]
  },
  {
   "cell_type": "code",
   "execution_count": 140,
   "metadata": {},
   "outputs": [
    {
     "data": {
      "text/plain": [
       "'AAAAAATATCTTCAGCGTTCCCGAGAAAAAAA'"
      ]
     },
     "execution_count": 140,
     "metadata": {},
     "output_type": "execute_result"
    }
   ],
   "source": [
    "df['BridgedBarcode'][s[0]]"
   ]
  },
  {
   "cell_type": "code",
   "execution_count": 137,
   "metadata": {},
   "outputs": [
    {
     "data": {
      "text/plain": [
       "'AAAAAAAATCTTCAGCGTTCCCGAGAAAAAAA'"
      ]
     },
     "execution_count": 137,
     "metadata": {},
     "output_type": "execute_result"
    }
   ],
   "source": [
    "pairs[fivepairmask][0][0]"
   ]
  },
  {
   "cell_type": "code",
   "execution_count": 133,
   "metadata": {},
   "outputs": [
    {
     "data": {
      "text/plain": [
       "2"
      ]
     },
     "execution_count": 133,
     "metadata": {},
     "output_type": "execute_result"
    }
   ],
   "source": [
    "len(pairs[fivepairmask][1])"
   ]
  },
  {
   "cell_type": "code",
   "execution_count": 139,
   "metadata": {},
   "outputs": [
    {
     "data": {
      "text/plain": [
       "1"
      ]
     },
     "execution_count": 139,
     "metadata": {},
     "output_type": "execute_result"
    }
   ],
   "source": [
    "functions.mjollnir(df['BridgedBarcode'][s[0]], pairs[fivepairmask][0][0])"
   ]
  },
  {
   "cell_type": "code",
   "execution_count": null,
   "metadata": {},
   "outputs": [],
   "source": [
    "[np.sum(commonpairs[:,1].astype(int))/len(C), np.sum(bridgedpairs[:,1].astype(int))/len(C), np.sum(fivepairs[:,1].astype(int))/len(C), np.sum(fivepairs[s>-1,1].astype(int))/len(C)]"
   ]
  },
  {
   "cell_type": "code",
   "execution_count": 40,
   "metadata": {},
   "outputs": [
    {
     "data": {
      "text/plain": [
       "[0.9341439763100744, 0.6437293744695824, 0.6067087413353001, 0.366414527374538]"
      ]
     },
     "execution_count": 40,
     "metadata": {},
     "output_type": "execute_result"
    }
   ],
   "source": [
    "[np.sum(commonpairs[:,1].astype(int))/len(C), np.sum(bridgedpairs[:,1].astype(int))/len(C), np.sum(fivepairs[:,1].astype(int))/len(C), np.sum(fivepairs[s>-1,1].astype(int))/len(C)]"
   ]
  },
  {
   "cell_type": "markdown",
   "metadata": {},
   "source": [
    "We throw out 7% of the reads for not having a barcode in common with anyone else.  30% do not have something close to the bridge region.  We lose another 4% for not having more than 5 reads for the barcode.  We lose another 24% for not matching (up to a single mismatch) a known Broad barcode"
   ]
  },
  {
   "cell_type": "code",
   "execution_count": 41,
   "metadata": {},
   "outputs": [
    {
     "data": {
      "text/plain": [
       "[132892946, 124141145, 85547093, 80627312, 48693906]"
      ]
     },
     "execution_count": 41,
     "metadata": {},
     "output_type": "execute_result"
    }
   ],
   "source": [
    "[len(C), np.sum(commonpairs[:,1].astype(int)), np.sum(bridgedpairs[:,1].astype(int)), np.sum(fivepairs[:,1].astype(int)), np.sum(fivepairs[s>-1,1].astype(int))]"
   ]
  },
  {
   "cell_type": "markdown",
   "metadata": {},
   "source": [
    "So out of 130M reads we are left with 49M that fulfill our requirements."
   ]
  },
  {
   "cell_type": "code",
   "execution_count": 78,
   "metadata": {},
   "outputs": [],
   "source": [
    "BridgedBarcodes=np.concatenate([df['BridgedBarcode'][[0]], df['BridgedBarcode']])\n",
    "BridgedBarcodes[0]=''"
   ]
  },
  {
   "cell_type": "code",
   "execution_count": 73,
   "metadata": {},
   "outputs": [
    {
     "data": {
      "text/plain": [
       "array([['TCGCGCGTTCTTCAGCGTTCCCGAGACTGCAT', '48134'],\n",
       "       ['CCATGATTTCTTCAGCGTTCCCGAGACGTCCC', '40338'],\n",
       "       ['ACAACAAGTCTTCAGCGTTCCCGAGAACTACA', '32065'],\n",
       "       ...,\n",
       "       ['CGTAGAACTCTTCAACGTTCCCGAGATCTGGC', '5'],\n",
       "       ['GTAATCCGTCTTCAGCGTTCCCGAGAATACAT', '5'],\n",
       "       ['TGGTGTTATCTTCAGCGTTCCCGAGAGTCATT', '5']], dtype='<U32')"
      ]
     },
     "execution_count": 73,
     "metadata": {},
     "output_type": "execute_result"
    }
   ],
   "source": [
    "fivepairs"
   ]
  },
  {
   "cell_type": "code",
   "execution_count": 81,
   "metadata": {},
   "outputs": [],
   "source": [
    "final_mapper=np.stack([fivepairs[:,0], BridgedBarcodes[s+1]], axis=1)"
   ]
  },
  {
   "cell_type": "code",
   "execution_count": 85,
   "metadata": {},
   "outputs": [],
   "source": [
    "np.save('mapper.npy', final_mapper)"
   ]
  },
  {
   "cell_type": "markdown",
   "metadata": {},
   "source": [
    "# Crap"
   ]
  },
  {
   "cell_type": "markdown",
   "metadata": {},
   "source": [
    "DO NOT RUN THIS, THIS IS JUST IN CASE I SWITCH BACK TO BIOPYTHON FOR ALL SEQUENCES"
   ]
  },
  {
   "cell_type": "code",
   "execution_count": null,
   "metadata": {},
   "outputs": [],
   "source": [
    "pool_class=functions.MyClass()\n",
    "pool_class.set_data(df['BridgedBarcode'][0])\n",
    "lst=list(bridgedpairs[:,0])\n",
    "pool = Pool()\n",
    "ss= (pool.map(pool_class.myfu, (lst)))\n",
    "ss=np.asarray(ss)"
   ]
  },
  {
   "cell_type": "code",
   "execution_count": 17,
   "metadata": {},
   "outputs": [
    {
     "data": {
      "text/plain": [
       "'TTTTNTTTTCTTCAGCGTTCCCGAGATTTTTT'"
      ]
     },
     "execution_count": 17,
     "metadata": {},
     "output_type": "execute_result"
    }
   ],
   "source": [
    "df['BridgedBarcode'][0]"
   ]
  },
  {
   "cell_type": "code",
   "execution_count": 19,
   "metadata": {},
   "outputs": [
    {
     "data": {
      "text/plain": [
       "array([['CTTTTTTTTCTTCAGCGTTCCCGAGATTTTTT', '23'],\n",
       "       ['TTTTGTTTTCTTCAGCGTTCCCGAGATTTTTT', '7'],\n",
       "       ['TTTTTTTTCTTCAGCGTTCCCGAGATTTTTTT', '6'],\n",
       "       ['GTTTTTTTTCTTCAGCGTTCCCGAGATTTTTT', '5']], dtype='<U32')"
      ]
     },
     "execution_count": 19,
     "metadata": {},
     "output_type": "execute_result"
    }
   ],
   "source": [
    "bridgedpairs[ss>29]"
   ]
  },
  {
   "cell_type": "markdown",
   "metadata": {},
   "source": [
    "1.8M of the single barcode reads contain a bridge, this is about 36% of them"
   ]
  },
  {
   "cell_type": "code",
   "execution_count": 116,
   "metadata": {},
   "outputs": [
    {
     "data": {
      "text/plain": [
       "(74331, 4)"
      ]
     },
     "execution_count": 116,
     "metadata": {},
     "output_type": "execute_result"
    }
   ],
   "source": [
    "df.shape"
   ]
  },
  {
   "cell_type": "code",
   "execution_count": 87,
   "metadata": {},
   "outputs": [
    {
     "data": {
      "text/plain": [
       "0.0"
      ]
     },
     "execution_count": 87,
     "metadata": {},
     "output_type": "execute_result"
    }
   ],
   "source": [
    "np.sum(s>18)/len(s)"
   ]
  },
  {
   "cell_type": "code",
   "execution_count": 68,
   "metadata": {},
   "outputs": [
    {
     "name": "stdout",
     "output_type": "stream",
     "text": [
      "[1, 0.0003637896370235258, 0.002147794202671501]\n",
      "[3, 0.0006714785015423982, 0.0028111858375390263]\n",
      "[7, 0.0009119359615650026, 0.0038514672366266427]\n",
      "[8, 0.0011355035081633338, 0.0040750347832249735]\n",
      "[10, 0.0013495219871012985, 0.004506801845655733]\n",
      "[11, 0.0015618992200351375, 0.004719179078589573]\n",
      "[12, 0.0017732917053665015, 0.004930571563920937]\n",
      "[13, 0.001972479288594459, 0.005129759147148895]\n",
      "[14, 0.002170652283383503, 0.0053279321419379385]\n",
      "[15, 0.002368168779770897, 0.005525448638325332]\n",
      "[16, 0.0025656255944854134, 0.005722905453039849]\n",
      "[17, 0.002759232941299345, 0.00591651279985378]\n",
      "[18, 0.0029520345855294323, 0.006109314444083868]\n",
      "[19, 0.003143941004666361, 0.006301220863220796]\n",
      "[20, 0.003334773153691498, 0.006492053012245934]\n",
      "[21, 0.00352285994576428, 0.006680139804318715]\n",
      "[22, 0.0037105886477997977, 0.006867868506354233]\n",
      "[23, 0.0038956615153922765, 0.007052941373946711]\n",
      "[24, 0.004080286770438176, 0.0072375666289926106]\n",
      "[27, 0.004260137491653891, 0.007781953008142818]\n",
      "[28, 0.004438585693556991, 0.007960401210045917]\n",
      "[29, 0.004613661880942523, 0.00813547739743145]\n",
      "[31, 0.004787842843234896, 0.008484436138744968]\n",
      "[32, 0.00496023335534095, 0.008656826650851024]\n",
      "[33, 0.005132056891554671, 0.008828650187064744]\n",
      "[34, 0.005302030295909194, 0.008998623591419267]\n",
      "[35, 0.005470451976768909, 0.009167045272278983]\n",
      "[36, 0.005638634930937114, 0.009335228226447187]\n",
      "[37, 0.005806221068376547, 0.00950281436388662]\n",
      "[38, 0.00597312086657789, 0.009669714162087964]\n",
      "[39, 0.0061391254396860745, 0.009835718735196147]\n",
      "[40, 0.006304622718574801, 0.010001216014084874]\n",
      "[41, 0.0064686279556415965, 0.01016522125115167]\n",
      "[42, 0.006629171655681509, 0.010325764951191582]\n",
      "[43, 0.006789208061501964, 0.010485801357012037]\n",
      "[44, 0.006946857200407328, 0.010643450495917401]\n",
      "[45, 0.007103372387528022, 0.010799965683038095]\n",
      "[46, 0.007259410121265699, 0.010956003416775772]\n",
      "[47, 0.007414791356601725, 0.011111384652111799]\n",
      "[48, 0.007570083069428436, 0.01126667636493851]\n",
      "[49, 0.00772462876134418, 0.011421222056854254]\n",
      "[50, 0.007878905885731978, 0.01157549918124205]\n",
      "[51, 0.008033153169283335, 0.011729746464793408]\n",
      "[52, 0.0081872512486525, 0.011883844544162574]\n",
      "[53, 0.008339349991980275, 0.012035943287490348]\n",
      "[54, 0.008491150326943664, 0.012187743622453737]\n",
      "[55, 0.008642920821070614, 0.012339514116580687]\n",
      "[56, 0.00879457195185181, 0.012491165247361883]\n",
      "[57, 0.008946044037614374, 0.012642637333124448]\n",
      "[58, 0.009096620898283779, 0.012793214193793851]\n",
      "[59, 0.00924663078306085, 0.012943224078570922]\n",
      "[60, 0.009395238148525303, 0.013091831444035376]\n",
      "[61, 0.009543457583116055, 0.013240050878626128]\n",
      "[62, 0.009691557654361051, 0.013388150949871124]\n",
      "[63, 0.009839657725606049, 0.013536251021116122]\n",
      "[64, 0.009987548910995975, 0.013684142206506048]\n",
      "[65, 0.0101350521655122, 0.013831645461022272]\n",
      "[66, 0.010279153564674418, 0.01397574686018449]\n",
      "[67, 0.010422479102089231, 0.014119072397599304]\n",
      "[68, 0.010565625594485413, 0.014262218889995487]\n",
      "[69, 0.010707936543461314, 0.014404529838971386]\n",
      "[70, 0.010849978924909265, 0.014546572220419338]\n",
      "[72, 0.010991036558754741, 0.014829314145675503]\n",
      "[73, 0.011131825625072271, 0.014970103211993033]\n",
      "[74, 0.011272375964698291, 0.015110653551619052]\n",
      "[75, 0.011412239965086222, 0.015250517552006983]\n",
      "[76, 0.011551775716273327, 0.015390053303194089]\n",
      "[77, 0.011690804173240976, 0.015529081760161738]\n",
      "[78, 0.011829772948535747, 0.01566805053545651]\n",
      "[79, 0.011968682042157642, 0.015806959629078403]\n",
      "[80, 0.012107352409088027, 0.01594562999600879]\n",
      "[81, 0.012245724367654025, 0.016084001954574788]\n",
      "[82, 0.01238397696287427, 0.01622225454979503]\n",
      "[83, 0.01252166258220218, 0.01635994016912294]\n",
      "[84, 0.012659198997347895, 0.016497476584268658]\n",
      "[85, 0.012795153848162363, 0.016633431435083126]\n",
      "[86, 0.012931078858140394, 0.016769356445061154]\n",
      "[87, 0.013067003868118423, 0.016905281455039185]\n",
      "[88, 0.013202809514750698, 0.01704108710167146]\n",
      "[89, 0.013338436116364342, 0.017176713703285103]\n",
      "[90, 0.01347331669706702, 0.01731159428398778]\n",
      "[91, 0.013608167436933258, 0.017446445023854017]\n",
      "[92, 0.01374271976843511, 0.01758099735535587]\n",
      "[93, 0.013876824487390381, 0.017715102074311144]\n",
      "[94, 0.0140108098429999, 0.01784908742992066]\n",
      "[95, 0.014143541883478994, 0.017981819470399757]\n",
      "[96, 0.014276065038103018, 0.018114342625023778]\n",
      "[97, 0.014408140580180463, 0.018246418167101226]\n",
      "[98, 0.014539858032220644, 0.018378135619141405]\n",
      "[100, 0.014671187553387121, 0.018641182592348062]\n",
      "[101, 0.014802457392880723, 0.018772452431841665]\n",
      "[102, 0.01493316025648199, 0.018903155295442932]\n",
      "[103, 0.015063296144190922, 0.019033291183151863]\n",
      "[104, 0.0151933126685541, 0.01916330770751504]\n",
      "[106, 0.01532153874273096, 0.019420535717616164]\n",
      "[107, 0.015449526090216308, 0.019548523065101516]\n",
      "[108, 0.015577185188500833, 0.01967618216338604]\n",
      "[109, 0.015703859539182883, 0.01980285651406809]\n",
      "[110, 0.015830295163173424, 0.019929292138058628]\n",
      "[111, 0.01595664126465465, 0.020055638239539854]\n",
      "[112, 0.016082838161953678, 0.020181835136838886]\n",
      "[113, 0.01620903505925271, 0.02030803203413792]\n",
      "[115, 0.016334993229860234, 0.02056000805702584]\n",
      "[116, 0.01646080219628556, 0.020685817023451167]\n",
      "[117, 0.016585865141799924, 0.02081087996896553]\n",
      "[118, 0.016710390952258392, 0.020935405779423998]\n",
      "[119, 0.016834857081043982, 0.021059871908209588]\n",
      "[120, 0.016959054642301623, 0.02118406946946723]\n",
      "[121, 0.017083043317704195, 0.0213080581448698]\n",
      "[122, 0.017206823107251697, 0.021431837934417303]\n",
      "[123, 0.017330453692617005, 0.02155546851978261]\n",
      "[124, 0.017453815710454363, 0.02167883053761997]\n",
      "[125, 0.017577147887455284, 0.02180216271462089]\n",
      "[126, 0.01770042038278333, 0.021925435209948933]\n",
      "[127, 0.01782360335560206, 0.022048618182767665]\n",
      "[128, 0.017946189511692013, 0.02217120433885762]\n",
      "[129, 0.018068656304436215, 0.022293671131601817]\n",
      "[130, 0.018191063415507535, 0.02241607824267314]\n",
      "[131, 0.01831344068574242, 0.022538455512908027]\n",
      "[132, 0.018435668751795115, 0.022660683578960717]\n",
      "[133, 0.018557777454502048, 0.022782792281667654]\n",
      "[134, 0.018679766793863233, 0.02290478162102884]\n",
      "[135, 0.018801577088205783, 0.02302659191537139]\n",
      "[136, 0.018923387382548333, 0.02314840220971394]\n",
      "[137, 0.019045167836054446, 0.02327018266322005]\n",
      "[138, 0.01916691844872412, 0.023391933275889724]\n",
      "[139, 0.019288579538884475, 0.02351359436605008]\n",
      "[141, 0.01940961397147962, 0.023756260047969144]\n",
      "[142, 0.019530469359056134, 0.02387711543554566]\n",
      "[143, 0.01965123522412333, 0.023997881300612856]\n",
      "[144, 0.01977197124835409, 0.024118617324843616]\n",
      "[145, 0.019892229819201832, 0.024238875895691358]\n",
      "[146, 0.02001213030001231, 0.024358776376501832]\n",
      "[147, 0.020131881576640594, 0.024478527653130116]\n",
      "[148, 0.020251603012432437, 0.024598249088921963]\n",
      "[149, 0.020371205084878528, 0.024717851161368053]\n",
      "[150, 0.020490449067287357, 0.02483709514377688]\n",
      "[151, 0.020609603527186868, 0.02495624960367639]\n",
      "[152, 0.020728608782904185, 0.025075254859393707]\n",
      "[153, 0.020847196266911363, 0.025193842343400885]\n",
      "[154, 0.0209657539100821, 0.025312399986571622]\n",
      "[155, 0.021084192189907085, 0.025430838266396607]\n",
      "[157, 0.021202421583876994, 0.025667446258518627]\n",
      "[158, 0.021320650977846908, 0.02578567565248854]\n",
      "[159, 0.021438671485961753, 0.02590369616060338]\n",
      "[160, 0.021556632312403717, 0.026021656987045345]\n",
      "[161, 0.021674294730481294, 0.026139319405122926]\n",
      "[162, 0.02179142001350298, 0.026256444688144608]\n",
      "[163, 0.02190854529652466, 0.026373569971166293]\n",
      "[164, 0.02202549153452771, 0.026490516209169344]\n",
      "[165, 0.02214204984165706, 0.026607074516298693]\n",
      "[166, 0.02225839926293134, 0.02672342393757297]\n",
      "[167, 0.02237474868420562, 0.026839773358847248]\n",
      "[168, 0.02249103842380702, 0.02695606309844865]\n",
      "[169, 0.02260688055086184, 0.02707190522550347]\n",
      "[170, 0.02272272267791666, 0.027187747352558293]\n",
      "[171, 0.02283847528246217, 0.027303499957103797]\n",
      "[172, 0.022954138364498358, 0.027419163039139986]\n",
      "[173, 0.02306971192402523, 0.02753473659866686]\n",
      "[175, 0.02318513627936991, 0.027765644991029098]\n",
      "[176, 0.02330038158969596, 0.027880890301355148]\n",
      "[177, 0.023415179287475427, 0.027995687999134617]\n",
      "[178, 0.02352994714441846, 0.028110455856077646]\n",
      "[179, 0.02364447627466998, 0.028224984986329166]\n",
      "[180, 0.0237590054049215, 0.02833951411658069]\n",
      "[181, 0.023873445012663704, 0.028453953724322894]\n",
      "[182, 0.023987616052877962, 0.02856812476453715]\n",
      "[183, 0.02410151852556427, 0.02868202723722346]\n"
     ]
    },
    {
     "name": "stdout",
     "output_type": "stream",
     "text": [
      "[184, 0.024214913704031123, 0.028795422415690313]\n",
      "[185, 0.024328219359988662, 0.02890872807164785]\n",
      "[186, 0.024441077403399618, 0.029021586115058805]\n",
      "[187, 0.024553875765137696, 0.029134384476796886]\n",
      "[188, 0.024666495081857146, 0.029247003793516333]\n",
      "[189, 0.024778905512721522, 0.02935941422438071]\n",
      "[190, 0.02489128610274946, 0.029471794814408647]\n",
      "[191, 0.02500339812524945, 0.02958390683690864]\n",
      "[192, 0.025115152057712177, 0.029695660769371364]\n",
      "[193, 0.025226697104319833, 0.02980720581597902]\n",
      "[194, 0.025338092946745296, 0.029918601658404487]\n",
      "[195, 0.025449429107497885, 0.03002993781915707]\n",
      "[196, 0.02556073542741403, 0.03014124413907322]\n",
      "[197, 0.025672041747330177, 0.030252550458989367]\n",
      "[198, 0.025783079499718378, 0.030363588211377565]\n",
      "[199, 0.02589358011705068, 0.030474088828709868]\n",
      "[200, 0.02600396137103723, 0.030584470082696418]\n",
      "[202, 0.026114163580005147, 0.03080493418230513]\n",
      "[203, 0.026224007698935802, 0.030914778301235783]\n",
      "[204, 0.026333762295357138, 0.031024532897657123]\n",
      "[205, 0.026443487050942037, 0.03113425765324202]\n",
      "[206, 0.0265531819656905, 0.03124395256799048]\n",
      "[207, 0.02666287688043896, 0.031353647482738944]\n",
      "[208, 0.026772452431841665, 0.031463223034141646]\n",
      "[209, 0.026881789256552862, 0.03157255985885284]\n",
      "[210, 0.026991096240427618, 0.0316818668427276]\n",
      "[212, 0.027100134656774428, 0.03190003319793054]\n",
      "[213, 0.027209113391448363, 0.03200901193260447]\n",
      "[214, 0.027318062285285858, 0.032117960826441964]\n",
      "[215, 0.02742701117912335, 0.03222690972027946]\n",
      "[216, 0.027535781027942213, 0.03233567956909832]\n",
      "[217, 0.0276444911950882, 0.032444389736244306]\n",
      "[218, 0.027753171521397745, 0.032553070062553854]\n",
      "[219, 0.027861702643525096, 0.032661601184681206]\n",
      "[220, 0.027970144243143136, 0.03277004278429924]\n",
      "[222, 0.02807843663857898, 0.03298662757517093]\n",
      "[223, 0.028186669352341945, 0.0330948602889339]\n",
      "[224, 0.028294902066104913, 0.03320309300269687]\n",
      "[225, 0.028403075098195004, 0.03331126603478696]\n",
      "[226, 0.02851124813028509, 0.03341943906687705]\n",
      "[227, 0.028619152594847232, 0.033527343531439185]\n",
      "[228, 0.028726907855227184, 0.03363509879181913]\n",
      "[229, 0.02883463327477069, 0.03374282421136265]\n",
      "[230, 0.028942209490132008, 0.033850400426723964]\n",
      "[231, 0.029049726023820447, 0.0339579169604124]\n",
      "[232, 0.029157242557508886, 0.03406543349410084]\n",
      "[233, 0.029264729250360888, 0.03417292018695284]\n",
      "[234, 0.029372156261540012, 0.034280347198131965]\n",
      "[235, 0.029479374386864064, 0.034387565323456014]\n",
      "[236, 0.02958656267135168, 0.03449475360794363]\n",
      "[237, 0.029693721115002854, 0.0346019120515948]\n",
      "[238, 0.029800700513635398, 0.03470889145022735]\n",
      "[239, 0.02990750086724931, 0.03481569180384126]\n",
      "[240, 0.03001406249417171, 0.03492225343076366]\n",
      "[241, 0.030120534598584797, 0.035028725535176754]\n",
      "[242, 0.03022688733965213, 0.03513507827624408]\n",
      "[243, 0.030333240080719463, 0.03524143101731141]\n",
      "[244, 0.030439592821786796, 0.03534778375837875]\n",
      "[245, 0.03054585604034481, 0.035454046976936764]\n",
      "[247, 0.030651999895557072, 0.03566636452819773]\n",
      "[248, 0.030758113909932897, 0.035772478542573545]\n",
      "[249, 0.030864108560962965, 0.03587847319360361]\n",
      "[250, 0.030970103211993033, 0.03598446784463369]\n",
      "[251, 0.031076038181350223, 0.036090402813990875]\n",
      "[252, 0.03118185378736166, 0.03619621842000231]\n",
      "[253, 0.031287669393373095, 0.03630203402601375]\n",
      "[254, 0.031392977705165075, 0.03640734233780573]\n",
      "[255, 0.03149822633528418, 0.03651259096792483]\n",
      "[257, 0.031602907989510945, 0.03672204379888768]\n",
      "[258, 0.03170747028039196, 0.0368266060897687]\n",
      "[259, 0.031811943048763655, 0.03693107885814039]\n",
      "[261, 0.03191632629462604, 0.03713990503153804]\n",
      "[262, 0.03202067969965198, 0.037244258436563975]\n",
      "[263, 0.03212503310467792, 0.03734861184158992]\n",
      "[264, 0.03222932682803099, 0.03745290556494298]\n",
      "[265, 0.03233347134720186, 0.037557050084113856]\n",
      "[266, 0.03243752634386342, 0.037661105080775414]\n",
      "[267, 0.03254146197717922, 0.037765040714091216]\n",
      "[268, 0.03264536776965858, 0.03786894650657058]\n",
      "[270, 0.03274909451711931, 0.03807657904651068]\n",
      "[271, 0.03285276158290717, 0.038180246112298526]\n",
      "[272, 0.03295598103614844, 0.038283465565539805]\n",
      "[273, 0.03305905128520752, 0.03838653581459888]\n",
      "[275, 0.033161912648411535, 0.0385924077451891]\n",
      "[277, 0.033264594966596915, 0.03879786190406917]\n",
      "[278, 0.033367247443945855, 0.03890051438141811]\n",
      "[279, 0.03346963135376685, 0.0390028982912391]\n",
      "[280, 0.03357195558191496, 0.039105222519387216]\n",
      "[281, 0.03367395156086225, 0.03920721849833451]\n",
      "[282, 0.03377576849479091, 0.03930903543226317]\n",
      "[283, 0.03387710797533655, 0.039410374912808806]\n",
      "[284, 0.03397841761504575, 0.03951168455251801]\n",
      "[285, 0.03407936916471769, 0.039612636102189944]\n",
      "[286, 0.03418026103271675, 0.039713527970189004]\n",
      "[287, 0.03428076496984211, 0.03981403190731436]\n",
      "[288, 0.034381060021112395, 0.03991432695858465]\n",
      "[289, 0.03448135507238268, 0.040014622009854936]\n",
      "[290, 0.03458165012365297, 0.04011491706112522]\n",
      "[292, 0.03468179597074106, 0.040315328118647166]\n",
      "[293, 0.034781762772810525, 0.040415294920716625]\n",
      "[294, 0.03488158037069779, 0.040515112518603895]\n",
      "[295, 0.03498095035603848, 0.04061448250394459]\n",
      "[296, 0.03508023081886985, 0.04071376296677596]\n",
      "[297, 0.03517945160002835, 0.040812983747934455]\n",
      "[298, 0.03527867238118684, 0.04091220452909295]\n",
      "[299, 0.035377863321508905, 0.041011395469415006]\n",
      "[300, 0.035476964739321645, 0.041110496887227746]\n",
      "[301, 0.035576036316297945, 0.04120956846420405]\n",
      "[302, 0.03567510789327425, 0.04130864004118035]\n",
      "[303, 0.03577414962941411, 0.04140768177732022]\n",
      "[304, 0.03587316152471754, 0.04150669367262364]\n",
      "[305, 0.035972113738348084, 0.04160564588625419]\n",
      "[306, 0.03607067802110493, 0.04170421016901104]\n",
      "[307, 0.03616906325884314, 0.04180259540674925]\n",
      "[308, 0.03626723961072629, 0.041900771758632396]\n",
      "[309, 0.03636532644010012, 0.04199885858800622]\n",
      "[310, 0.03646341326947394, 0.04209694541738005]\n",
      "[311, 0.03656144041717489, 0.042194972565081]\n",
      "[312, 0.036659348201530086, 0.04229288034943619]\n",
      "[313, 0.036757017259193774, 0.04239054940709988]\n",
      "[314, 0.03685462663518459, 0.04248815878309069]\n",
      "[316, 0.03695202712532032, 0.042682989604198605]\n",
      "[317, 0.03704930825211031, 0.04278027073098859]\n",
      "[318, 0.03714632081137234, 0.042877283290250624]\n",
      "[319, 0.037243243848125065, 0.04297420632700335]\n",
      "[320, 0.03734016688487778, 0.04307112936375607]\n",
      "[321, 0.0374370899216305, 0.043168052400508784]\n",
      "[322, 0.03753392343587391, 0.043264885914752194]\n",
      "[323, 0.037630607745935116, 0.0433615702248134]\n",
      "[324, 0.03772720253348701, 0.043458165012365296]\n",
      "[325, 0.03782376748020247, 0.04355472995908075]\n",
      "[326, 0.037920302586081485, 0.04365126506495977]\n",
      "[327, 0.038016569124432555, 0.04374753160331084]\n",
      "[328, 0.03811283566278363, 0.04384379814166191]\n",
      "[329, 0.03820907236029826, 0.043940034839176544]\n",
      "[330, 0.03830530905781289, 0.04403627153669117]\n",
      "[331, 0.03840139655114533, 0.04413235903002361]\n",
      "[332, 0.03849748404447777, 0.04422844652335605]\n",
      "[333, 0.03859327312944582, 0.0443242356083241]\n",
      "[334, 0.03868900253274099, 0.044419965011619274]\n",
      "[335, 0.03878455289101754, 0.04451551536989582]\n",
      "[336, 0.0388800435676212, 0.044611006046499486]\n",
      "[338, 0.03897541488087911, 0.044801778513851746]\n",
      "[339, 0.039070636989954825, 0.04489700062292746]\n",
      "[340, 0.039165859099030545, 0.04499222273200318]\n",
      "[342, 0.03926081264057832, 0.04518227901928091]\n",
      "[343, 0.039355736341289645, 0.04527720271999224]\n",
      "[344, 0.03945063020116454, 0.045372096579867134]\n",
      "[345, 0.039545494220202995, 0.045466960598905586]\n",
      "[346, 0.03964035823924145, 0.045561824617944044]\n",
      "[347, 0.03973510289493414, 0.04565656927363674]\n",
      "[348, 0.039829847550626844, 0.04575131392932944]\n",
      "[349, 0.039924383320464475, 0.045845849699167066]\n",
      "[350, 0.040018859408629225, 0.04594032578733182]\n",
      "[351, 0.04011306692926603, 0.046034533307968625]\n",
      "[353, 0.040206946200702004, 0.04622238137334989]\n",
      "[355, 0.040300735949628665, 0.04640999071203966]\n",
      "[356, 0.04039446601688245, 0.04650372077929344]\n",
      "[357, 0.0404881662432998, 0.04659742100571079]\n",
      "[358, 0.04058186646971715, 0.04669112123212814]\n",
      "[359, 0.040675566696134494, 0.046784821458545484]\n",
      "[360, 0.04076911771836965, 0.04687837248078064]\n",
      "[361, 0.04086260905893192, 0.04697186382134291]\n",
      "[363, 0.04095595119531201, 0.047158607775775956]\n",
      "[364, 0.041049293331692084, 0.04725194991215604]\n",
      "[365, 0.04114233705970778, 0.04734499364017174]\n",
      "[366, 0.041235321106050604, 0.04743797768651455]\n",
      "[367, 0.041328036584865474, 0.04753069316532942]\n",
      "[368, 0.04142069238200747, 0.04762334896247142]\n"
     ]
    },
    {
     "name": "stdout",
     "output_type": "stream",
     "text": [
      "[369, 0.04151325865664014, 0.0477159152371041]\n",
      "[370, 0.04160582493127282, 0.04780848151173677]\n",
      "[372, 0.04169833152423262, 0.047993494697656375]\n",
      "[373, 0.041790808276355985, 0.04808597144977974]\n",
      "[374, 0.04188328502847935, 0.0481784482019031]\n",
      "[375, 0.04197558273558408, 0.04827074590900783]\n",
      "[376, 0.04206782076101593, 0.048362983934439684]\n",
      "[377, 0.04215999910477491, 0.048455162278198655]\n",
      "[378, 0.042252147607697445, 0.04854731078112119]\n",
      "[380, 0.04234420658811067, 0.048731458582784076]\n",
      "[381, 0.04243617604601457, 0.04882342804068798]\n",
      "[382, 0.0425280858222456, 0.04891533781691901]\n",
      "[383, 0.04261990607596731, 0.04900715807064072]\n",
      "[384, 0.04271154728467039, 0.0490987992793438]\n",
      "[385, 0.042803188493373466, 0.04919044048804688]\n",
      "[386, 0.04289482970207655, 0.04928208169674996]\n",
      "[387, 0.04298641122910675, 0.04937366322378016]\n",
      "[388, 0.04307790323362764, 0.04946515522830105]\n",
      "[389, 0.04316936539731209, 0.0495566173919855]\n",
      "[390, 0.04326070819765078, 0.04964796019232419]\n",
      "[391, 0.043351931634643716, 0.04973918362931713]\n",
      "[392, 0.04344297602661803, 0.04983022802129144]\n",
      "[393, 0.04353396073691945, 0.04992121273159287]\n",
      "[394, 0.043624945447220884, 0.05001219744189429]\n",
      "[395, 0.043715930157522315, 0.050103182152195724]\n",
      "[396, 0.04380676566364155, 0.050194017658314966]\n",
      "[397, 0.04389757132892435, 0.05028482332359776]\n",
      "[398, 0.04398831731253427, 0.05037556930720768]\n",
      "[399, 0.044079063296144194, 0.050466315290817604]\n",
      "[400, 0.04416980927975411, 0.05055706127442752]\n",
      "[401, 0.04426040605918184, 0.05064765805385525]\n",
      "[402, 0.04435094315693669, 0.0507381951516101]\n",
      "[403, 0.04444133105050935, 0.05082858304518276]\n",
      "[405, 0.04453162942157269, 0.051009239468982316]\n",
      "[406, 0.04462189795179959, 0.05109950799920922]\n",
      "[407, 0.04471210680035361, 0.051189716847763245]\n",
      "[408, 0.04480222612639832, 0.05127983617380795]\n",
      "[409, 0.04489228577077015, 0.05136989581817979]\n",
      "[410, 0.044982226051796234, 0.05145983609920586]\n",
      "[411, 0.04507213649198587, 0.0515497465393955]\n",
      "[412, 0.04516204693217551, 0.05163965697958514]\n",
      "[413, 0.04525195737236515, 0.051729567419774775]\n",
      "[415, 0.04534180813088191, 0.0519092689368083]\n",
      "[416, 0.04543165888939867, 0.05199911969532506]\n",
      "[418, 0.04552147980707899, 0.05217876153068571]\n",
      "[419, 0.045611270883922875, 0.05226855260752959]\n",
      "[420, 0.045700942597421, 0.05235822432102772]\n",
      "[421, 0.045790554629246256, 0.052447836352852974]\n",
      "[422, 0.04588016666107151, 0.05253744838467822]\n",
      "[423, 0.04596962948871457, 0.052626911212321284]\n",
      "[424, 0.04605906247552119, 0.0527163441991279]\n",
      "[425, 0.04614846562149137, 0.05280574734509808]\n",
      "[426, 0.04623783892662511, 0.052895120650231824]\n",
      "[427, 0.04632715255008598, 0.05298443427369269]\n",
      "[428, 0.04641628712852821, 0.05307356885213493]\n",
      "[429, 0.04650536202529757, 0.05316264374890428]\n",
      "[430, 0.04659431755872117, 0.05325159928232789]\n",
      "[431, 0.046683273092144775, 0.053340554815751486]\n",
      "[432, 0.04677219878473193, 0.05342948050833865]\n",
      "[433, 0.04686100511397334, 0.05351828683758006]\n",
      "[434, 0.04694981144321475, 0.05360709316682147]\n",
      "[435, 0.04703861777245616, 0.05369589949606288]\n",
      "[436, 0.047127394260861134, 0.053784675984467845]\n",
      "[437, 0.0472161707492661, 0.05387345247287281]\n",
      "[438, 0.047304827874325314, 0.05396210959793203]\n",
      "[439, 0.04739345515854809, 0.05405073688215481]\n",
      "[440, 0.04748208244277087, 0.05413936416637758]\n",
      "[442, 0.04757062020448433, 0.054316439689804506]\n",
      "[443, 0.047659128125361355, 0.05440494761068153]\n",
      "[444, 0.047747606205401937, 0.05449342569072211]\n",
      "[445, 0.04783602460376964, 0.054581844089089816]\n",
      "[446, 0.04792441316130091, 0.05467023264662108]\n",
      "[447, 0.04801280171883218, 0.054758621204152355]\n",
      "[449, 0.04810101123134482, 0.05493515959252338]\n",
      "[450, 0.04818919090302101, 0.055023339264199576]\n",
      "[451, 0.04827728105218789, 0.055111429413366456]\n",
      "[453, 0.048365311519681896, 0.055287520189190906]\n",
      "[454, 0.0484533419871759, 0.0553755506566849]\n",
      "[455, 0.04854122325048771, 0.05546343191999672]\n",
      "[456, 0.04862907467296308, 0.05555128334247209]\n",
      "[457, 0.048716866413765575, 0.055639075083274585]\n",
      "[459, 0.04880450895038588, 0.05581450936069738]\n",
      "[460, 0.048892061964496865, 0.05590206237480837]\n",
      "[461, 0.04897958513777141, 0.055989585548082914]\n",
      "[462, 0.04906701878853664, 0.056077019198848145]\n",
      "[463, 0.04915436291679256, 0.05616436332710406]\n",
      "[464, 0.04924158768170272, 0.05625158809201422]\n",
      "[465, 0.04932881244661288, 0.05633881285692438]\n",
      "[469, 0.04941579848483153, 0.05668699573649049]\n",
      "[472, 0.04950227722883072, 0.05694679005852534]\n",
      "[473, 0.04958872613199348, 0.0570332389616881]\n",
      "[474, 0.049675175035156234, 0.05711968786485085]\n",
      "[475, 0.049761564256646115, 0.05720607708634073]\n",
      "[476, 0.04984783411479024, 0.05729234694448485]\n",
      "[478, 0.049934044291261484, 0.05746479713826379]\n",
      "[481, 0.05002016494522341, 0.057723218781822454]\n",
      "[482, 0.050106225917512466, 0.05780927975411151]\n",
      "[483, 0.050192227208128645, 0.05789528104472769]\n",
      "[484, 0.050278198657908384, 0.05798125249450742]\n",
      "[485, 0.05036414026685168, 0.05806719410345072]\n",
      "[486, 0.05044996251244922, 0.058153016349048264]\n",
      "[487, 0.05053575491721033, 0.05823880875380937]\n",
      "[488, 0.050621517481135, 0.05832457131773404]\n",
      "[489, 0.05070722036338678, 0.058410274199985825]\n",
      "[490, 0.050792893404802135, 0.058495947241401176]\n",
      "[491, 0.05087847692370817, 0.05858153076030721]\n",
      "[492, 0.05096403060177777, 0.05866708443837681]\n",
      "[493, 0.05104958427984736, 0.058752638116446404]\n",
      "[494, 0.05113513795791696, 0.058838191794516]\n",
      "[496, 0.05122066179515012, 0.059009239468982316]\n",
      "[497, 0.05130609610987396, 0.059094673783706156]\n",
      "[498, 0.051391500583761365, 0.05918007825759356]\n",
      "[499, 0.05147684537597589, 0.059265423049808086]\n",
      "[500, 0.051562190168190414, 0.05935076784202261]\n",
      "[501, 0.05164753496040494, 0.059436112634237134]\n",
      "[502, 0.05173282007094659, 0.059521397744778784]\n",
      "[503, 0.05181810518148824, 0.059606682855320434]\n",
      "[504, 0.051903360451193446, 0.05969193812502564]\n",
      "[505, 0.05198855603922578, 0.05977713371305798]\n",
      "[506, 0.05207366210474879, 0.059862239778580996]\n",
      "[507, 0.052158648806926056, 0.05994722648075826]\n",
      "[508, 0.052243605668266885, 0.06003218334209908]\n",
      "[510, 0.052328532688771266, 0.060202067223944285]\n",
      "[511, 0.05241340002760277, 0.06028693456277579]\n",
      "[513, 0.05249811816225209, 0.060456490195420175]\n",
      "[514, 0.0525828362969014, 0.06054120833006949]\n",
      "[515, 0.05266755443155072, 0.06062592646471881]\n",
      "[516, 0.05275224272536359, 0.060710614758531685]\n",
      "[517, 0.05283690117834003, 0.06079527321150812]\n",
      "[518, 0.052921410427134274, 0.06087978246030236]\n",
      "[519, 0.05300585999425564, 0.06096423202742373]\n",
      "[520, 0.053090309561377, 0.061048681594545094]\n",
      "[522, 0.05317469944682549, 0.061217491206278514]\n",
      "[523, 0.05325908933227398, 0.061301881091727004]\n",
      "[525, 0.053343389695213156, 0.061470541499278226]\n",
      "[526, 0.053427630376479456, 0.06155478218054452]\n",
      "[527, 0.05351187105774575, 0.06163902286181082]\n",
      "[528, 0.053596022216502726, 0.061723174020567796]\n",
      "[529, 0.05368011369358683, 0.0618072654976519]\n",
      "[530, 0.0537641753298345, 0.06189132713389956]\n",
      "[531, 0.05384820712524572, 0.06197535892931079]\n",
      "[532, 0.05393223892065695, 0.06205939072472201]\n",
      "[533, 0.054016240875231734, 0.0621433926792968]\n",
      "[534, 0.05410015330729721, 0.06222730511136227]\n",
      "[535, 0.0541838568535076, 0.06231100865757267]\n",
      "[536, 0.05426750071804513, 0.0623946525221102]\n",
      "[537, 0.05435114458258265, 0.062478296386647716]\n",
      "[538, 0.05443475860628373, 0.06256191041034881]\n",
      "[539, 0.05451837262998482, 0.06264552443404989]\n",
      "[540, 0.054601867290340146, 0.06272901909440522]\n",
      "[541, 0.05468533210985904, 0.0628124839139241]\n",
      "[542, 0.05476876708854149, 0.06289591889260655]\n",
      "[543, 0.054852202067223944, 0.06297935387128901]\n",
      "[545, 0.0549354878417242, 0.06314592542028953]\n",
      "[546, 0.055018684093715145, 0.06322912167228048]\n",
      "[547, 0.05510188034570609, 0.06331231792427142]\n",
      "[548, 0.055185016916024156, 0.06339545449458948]\n",
      "[550, 0.05526812364550578, 0.06356166795355274]\n",
      "[551, 0.05535123037498741, 0.06364477468303437]\n",
      "[552, 0.0554343072636326, 0.06372785157167955]\n",
      "[553, 0.05551735431144135, 0.0638108986194883]\n",
      "[554, 0.0556004013592501, 0.06389394566729706]\n",
      "[555, 0.05568335888454953, 0.06397690319259648]\n",
      "[557, 0.05576607768315746, 0.06414234078981233]\n",
      "[558, 0.05584876664092894, 0.06422502974758383]\n",
      "[559, 0.055931425757863994, 0.06430768886451887]\n",
      "[561, 0.05601396551145329, 0.06447282805337033]\n",
      "[562, 0.056096505265042576, 0.06455536780695963]\n",
      "[565, 0.05617889581444968, 0.06480277818187244]\n",
      "[566, 0.05626125652302034, 0.0648851388904431]\n"
     ]
    },
    {
     "name": "stdout",
     "output_type": "stream",
     "text": [
      "[567, 0.056343617231591, 0.06496749959901377]\n",
      "[569, 0.056425888417652344, 0.06513207181197289]\n",
      "[570, 0.05650812976287725, 0.06521431315719779]\n",
      "[571, 0.05659034126726572, 0.06529652466158627]\n",
      "[573, 0.056672552771654186, 0.0654609476703632]\n",
      "[574, 0.05675473443520622, 0.06554312933391523]\n",
      "[575, 0.05683685641708537, 0.06562525131579439]\n",
      "[576, 0.05691894855812808, 0.0657073434568371]\n",
      "[577, 0.0570010406991708, 0.06578943559787981]\n",
      "[578, 0.05708310299937707, 0.06587149789808608]\n",
      "[579, 0.05716507577707403, 0.06595347067578304]\n",
      "[580, 0.057247018713934554, 0.06603541361264356]\n",
      "[582, 0.05732887212828575, 0.06619915028218241]\n",
      "[583, 0.05741072554263696, 0.06628100369653361]\n",
      "[584, 0.05749237007113309, 0.06636264822502974]\n",
      "[585, 0.05757401459962923, 0.06644429275352588]\n",
      "[586, 0.05765556960561605, 0.0665258477595127]\n",
      "[587, 0.057737124611602866, 0.06660740276549952]\n",
      "[588, 0.057818649776753245, 0.0666889279306499]\n",
      "[589, 0.05790014510106718, 0.06677042325496384]\n",
      "[590, 0.057981580743708246, 0.0668518588976049]\n",
      "[591, 0.05806301638634931, 0.06693329454024596]\n",
      "[592, 0.05814442218815393, 0.06701470034205059]\n",
      "[593, 0.058225738467449245, 0.0670960166213459]\n",
      "[594, 0.05830705474674455, 0.0671773329006412]\n",
      "[595, 0.05838834118520342, 0.06725861933910007]\n",
      "[597, 0.05846956794198942, 0.06742113253434494]\n",
      "[598, 0.05855073501710253, 0.06750229960945806]\n",
      "[599, 0.05863184241054277, 0.06758340700289829]\n",
      "[600, 0.05871283044063725, 0.06766439503299278]\n",
      "[602, 0.05879372894822242, 0.06782628157067243]\n",
      "[603, 0.05887456777413471, 0.06790712039658471]\n",
      "[604, 0.05895522755502837, 0.06798778017747838]\n",
      "[605, 0.05903588733592203, 0.06806843995837203]\n",
      "[606, 0.05911651727597925, 0.06814906989842925]\n",
      "[607, 0.059197147216036465, 0.06822969983848648]\n",
      "[608, 0.05927774731525725, 0.06831029993770725]\n",
      "[609, 0.05935828773280515, 0.06839084035525515]\n",
      "[610, 0.059438828150353056, 0.06847138077280306]\n",
      "[611, 0.05951936856790096, 0.06855192119035096]\n",
      "[612, 0.05959987914461242, 0.06863243176706244]\n",
      "[613, 0.05968038972132389, 0.0687129423437739]\n",
      "[614, 0.05976087045719892, 0.06879342307964892]\n",
      "[615, 0.059841261670564624, 0.06887381429301463]\n",
      "[616, 0.059921593202257456, 0.06895414582470746]\n",
      "[617, 0.060001894893113854, 0.06903444751556387]\n",
      "[618, 0.06008216674313381, 0.06911471936558382]\n",
      "[619, 0.06016243859315377, 0.06919499121560377]\n",
      "[620, 0.060242680602337284, 0.06927523322478729]\n",
      "[621, 0.060322862929847926, 0.06935541555229793]\n",
      "[622, 0.060402955734849245, 0.06943550835729925]\n",
      "[623, 0.060482929176504815, 0.06951548179895482]\n",
      "[624, 0.06056281309565107, 0.06959536571810108]\n",
      "[625, 0.060642697014797325, 0.06967524963724733]\n",
      "[626, 0.0607225212522707, 0.06975507387472071]\n",
      "[627, 0.06080231564890764, 0.06983486827135765]\n",
      "[628, 0.06088208020470814, 0.06991463282715815]\n",
      "[629, 0.060961814919672196, 0.06999436754212221]\n",
      "[630, 0.06104154963463626, 0.07007410225708627]\n",
      "[633, 0.06112113514541813, 0.07031309751612337]\n",
      "[634, 0.061200690815363556, 0.0703926531860688]\n",
      "[635, 0.06128021664447254, 0.0704721790151778]\n",
      "[636, 0.06135965295107222, 0.07055161532177746]\n",
      "[637, 0.06143908925767189, 0.07063105162837714]\n",
      "[638, 0.061518525564271564, 0.07071048793497682]\n",
      "[639, 0.06159796187087124, 0.07078992424157649]\n",
      "[640, 0.06167733849579804, 0.07086930086650328]\n",
      "[641, 0.061756655439051955, 0.07094861780975721]\n",
      "[642, 0.06183597238230588, 0.07102793475301113]\n",
      "[643, 0.06191528932555979, 0.07110725169626504]\n",
      "[644, 0.06199454658714084, 0.07118650895784609]\n",
      "[645, 0.06207377400788544, 0.0712657363785907]\n",
      "[646, 0.06215297158779361, 0.07134493395849886]\n",
      "[647, 0.06223213932686533, 0.07142410169757059]\n",
      "[649, 0.06231121754342774, 0.07158231781236828]\n",
      "[650, 0.06239029575999015, 0.0716613960289307]\n",
      "[651, 0.06246937397655256, 0.0717404742454931]\n",
      "[652, 0.06254842235227853, 0.07181952262121907]\n",
      "[653, 0.06262744088716807, 0.07189854115610861]\n",
      "[654, 0.06270642958122116, 0.0719775298501617]\n",
      "[655, 0.06278541827527426, 0.0720565185442148]\n",
      "[656, 0.06286440696932735, 0.07213550723826789]\n",
      "[658, 0.06294330614087112, 0.07229330558135545]\n",
      "[660, 0.06302211578990559, 0.07245098456109725]\n",
      "[661, 0.06310089559810361, 0.07252976436929527]\n",
      "[662, 0.0631796455654652, 0.07260851433665685]\n",
      "[663, 0.06325836569199035, 0.072687234463182]\n",
      "[664, 0.06333708581851549, 0.07276595458970715]\n",
      "[665, 0.06341574626336777, 0.07284461503455941]\n",
      "[666, 0.06349431718571072, 0.07292318595690238]\n",
      "[667, 0.06357285826721723, 0.07300172703840889]\n",
      "[668, 0.0636513695078873, 0.07308023827907896]\n",
      "[669, 0.0637298210668845, 0.07315868983807616]\n",
      "[670, 0.06380824278504527, 0.07323711155623693]\n",
      "[671, 0.06388666450320603, 0.07331553327439769]\n",
      "[672, 0.06396505638053035, 0.07339392515172201]\n",
      "[673, 0.06404341841701823, 0.07347228718820989]\n",
      "[675, 0.06412172077183323, 0.07362892173867633]\n",
      "[676, 0.0641999932858118, 0.0737071942526549]\n",
      "[677, 0.06427826579979037, 0.07378546676663347]\n",
      "[678, 0.06435650847293249, 0.07386370943977559]\n",
      "[680, 0.06443469146440174, 0.07402010526355053]\n",
      "[681, 0.06451287445587099, 0.07409828825501978]\n",
      "[682, 0.06459102760650381, 0.0741764414056526]\n",
      "[683, 0.06466915091630018, 0.07425456471544897]\n",
      "[684, 0.06474727422609655, 0.07433268802524534]\n",
      "[685, 0.0648253676950565, 0.07441078149420528]\n",
      "[686, 0.06490343132318, 0.07448884512232878]\n",
      "[687, 0.06498137558795773, 0.07456678938710652]\n",
      "[688, 0.06505931985273547, 0.07464473365188426]\n",
      "[690, 0.06513714475416746, 0.07480047297725756]\n",
      "[691, 0.06521488013309013, 0.07487820835618023]\n",
      "[692, 0.06529252598950348, 0.07495585421259358]\n",
      "[693, 0.06537017184591684, 0.07503350006900693]\n",
      "[694, 0.06544775802065732, 0.07511108624374742]\n",
      "[695, 0.06552531435456135, 0.07518864257765145]\n",
      "[696, 0.06560284084762896, 0.07526616907071905]\n",
      "[697, 0.06568033749986012, 0.07534366572295022]\n",
      "[698, 0.06575780431125484, 0.07542113253434493]\n",
      "[699, 0.06583527112264957, 0.07549859934573966]\n",
      "[700, 0.06591267825237142, 0.0755760064754615]\n",
      "[701, 0.06599005554125682, 0.07565338376434691]\n",
      "[702, 0.06606740298930579, 0.07573073121239589]\n",
      "[703, 0.06614475043735477, 0.07580807866044485]\n",
      "[704, 0.06622206804456729, 0.07588539626765738]\n",
      "[706, 0.06629932597010695, 0.07603997180040957]\n",
      "[707, 0.06637652421397372, 0.07611717004427634]\n",
      "[708, 0.06645363293533117, 0.0761942787656338]\n",
      "[709, 0.06653068197501576, 0.07627132780531838]\n",
      "[710, 0.06660764149219102, 0.07634828732249364]\n",
      "[711, 0.0666846010093663, 0.07642524683966892]\n",
      "[712, 0.06676147100403225, 0.07650211683433486]\n",
      "[713, 0.06683834099869819, 0.07657898682900081]\n",
      "[714, 0.0669151811525277, 0.07665582698283033]\n",
      "[715, 0.06699202130635722, 0.07673266713665984]\n",
      "[716, 0.06706877193767741, 0.07680941776798003]\n",
      "[718, 0.06714546288732473, 0.07696282950811112]\n",
      "[719, 0.06722212399613561, 0.07703949061692199]\n",
      "[720, 0.06729872542327361, 0.07711609204405999]\n",
      "[721, 0.06737532685041162, 0.077192693471198]\n",
      "[722, 0.06745189843671318, 0.07726926505749956]\n",
      "[723, 0.06752847002301475, 0.07734583664380112]\n",
      "[724, 0.06760498192764343, 0.07742234854842982]\n",
      "[725, 0.06768146399143568, 0.07749883061222206]\n",
      "[726, 0.06775788637355505, 0.07757525299434143]\n",
      "[727, 0.06783427891483798, 0.07765164553562437]\n",
      "[728, 0.06791067145612091, 0.0777280380769073]\n",
      "[729, 0.06798703415656741, 0.07780440077735379]\n",
      "[730, 0.0680633968570139, 0.07788076347780028]\n",
      "[731, 0.06813972971662395, 0.07795709633741034]\n",
      "[732, 0.06821600289456113, 0.07803336951534752]\n",
      "[733, 0.06829227607249831, 0.07810964269328469]\n",
      "[734, 0.0683684000462533, 0.07818576666703968]\n",
      "[735, 0.06844452402000828, 0.07826189064079467]\n",
      "[736, 0.06852061815292683, 0.0783379847737132]\n",
      "[737, 0.06859659292249962, 0.078413959543286]\n",
      "[738, 0.0686725676920724, 0.07848993431285879]\n",
      "[739, 0.0687485424616452, 0.07856590908243158]\n",
      "[741, 0.06882448739038155, 0.07871779893990428]\n",
      "[742, 0.06890043231911791, 0.07879374386864063]\n",
      "[743, 0.06897634740701782, 0.07886965895654055]\n",
      "[745, 0.06905226249491773, 0.07902148913234038]\n",
      "[746, 0.06912811790114477, 0.07909734453856741]\n",
      "[747, 0.06920397330737181, 0.07917319994479445]\n",
      "[748, 0.06927970935025309, 0.07924893598767574]\n",
      "[749, 0.06935526634811574, 0.07932449298553838]\n",
      "[750, 0.0694307636643055, 0.07939999030172816]\n",
      "[751, 0.0695062012988224, 0.07947542793624505]\n",
      "[752, 0.06958157925166643, 0.07955080588908907]\n",
      "[753, 0.06965695720451044, 0.0796261838419331]\n",
      "[754, 0.06973224563484515, 0.07970147227226779]\n",
      "[755, 0.06980750422434341, 0.07977673086176605]\n"
     ]
    },
    {
     "name": "stdout",
     "output_type": "stream",
     "text": [
      "[756, 0.06988273297300523, 0.07985195961042788]\n",
      "[757, 0.06995793188083062, 0.07992715851825327]\n",
      "[758, 0.07003307110698313, 0.08000229774440577]\n",
      "[759, 0.07010821033313563, 0.08007743697055829]\n",
      "[760, 0.07018331971845171, 0.08015254635587435]\n",
      "[761, 0.0702583694220949, 0.08022759605951754]\n",
      "[762, 0.07033338928490165, 0.08030261592232431]\n",
      "[763, 0.0704083196251991, 0.08037754626262174]\n",
      "[764, 0.07048313060215078, 0.08045235723957342]\n",
      "[765, 0.07055788189742959, 0.08052710853485223]\n",
      "[766, 0.07063263319270839, 0.08060185983013105]\n",
      "[767, 0.07070735464715076, 0.0806765812845734]\n",
      "[768, 0.07078207610159312, 0.08075130273901578]\n",
      "[769, 0.07085676771519905, 0.08082599435262171]\n",
      "[770, 0.07093145932880499, 0.08090068596622764]\n",
      "[772, 0.07100603157906517, 0.08104989014842086]\n",
      "[773, 0.07108060382932534, 0.08112446239868104]\n",
      "[774, 0.07115514623874908, 0.08119900480810477]\n",
      "[775, 0.07122965880733637, 0.08127351737669207]\n",
      "[776, 0.07130411169425079, 0.08134797026360649]\n",
      "[778, 0.0713784750586559, 0.08149675667408958]\n",
      "[779, 0.071452838423061, 0.08157112003849468]\n",
      "[780, 0.07152711226495678, 0.08164539388039047]\n",
      "[782, 0.07160135626601613, 0.08179388188250916]\n",
      "[783, 0.07167548090372973, 0.08186800652022276]\n",
      "[784, 0.07174954585977045, 0.08194207147626348]\n",
      "[785, 0.07182355113413828, 0.08201607675063131]\n",
      "[786, 0.07189755640850613, 0.08209008202499916]\n",
      "[787, 0.07197150200120109, 0.08216402761769412]\n",
      "[788, 0.07204541775305962, 0.08223794336955265]\n",
      "[789, 0.0721193036640817, 0.08231182928057473]\n",
      "[790, 0.07219315973426735, 0.08238568535076038]\n",
      "[791, 0.07226698596361655, 0.08245951158010958]\n",
      "[792, 0.07234078235212933, 0.08253330796862236]\n",
      "[793, 0.07241454889980566, 0.08260707451629869]\n",
      "[794, 0.07248822592497267, 0.0826807515414657]\n",
      "[795, 0.07256184326846682, 0.08275436888495985]\n",
      "[796, 0.07263546061196095, 0.08282798622845398]\n",
      "[797, 0.07270904811461865, 0.08290157373111168]\n",
      "[798, 0.07278263561727635, 0.08297516123376938]\n",
      "[799, 0.07285619327909762, 0.08304871889559064]\n",
      "[800, 0.07292972110008243, 0.08312224671657546]\n",
      "[801, 0.07300324892106726, 0.08319577453756029]\n",
      "[802, 0.07307674690121564, 0.08326927251770867]\n",
      "[803, 0.07315012551801826, 0.0833426511345113]\n",
      "[805, 0.07322341461231158, 0.08348922932309792]\n",
      "[806, 0.07329667386576846, 0.0835624885765548]\n",
      "[807, 0.07336993311922534, 0.08363574783001168]\n",
      "[808, 0.07344316253184577, 0.08370897724263211]\n",
      "[810, 0.07351630242195689, 0.08385531670452723]\n",
      "[811, 0.073589442312068, 0.08392845659463835]\n",
      "[812, 0.07366255236134268, 0.08400156664391303]\n",
      "[813, 0.07373566241061737, 0.08407467669318772]\n",
      "[814, 0.07380877245989205, 0.08414778674246239]\n",
      "[815, 0.07388185266833029, 0.08422086695090063]\n",
      "[816, 0.07395493287676853, 0.08429394715933887]\n",
      "[817, 0.0740279534035339, 0.08436696768610424]\n",
      "[818, 0.07410094408946283, 0.08443995837203316]\n",
      "[819, 0.07417390493455532, 0.08451291921712566]\n",
      "[820, 0.07424680609797493, 0.08458582038054527]\n",
      "[821, 0.07431964757972166, 0.084658661862292]\n",
      "[823, 0.07439242937979551, 0.08480422546243971]\n",
      "[824, 0.07446518133903293, 0.08487697742167713]\n",
      "[825, 0.07453784377576103, 0.08494963985840523]\n",
      "[826, 0.0746104763716527, 0.08502227245429689]\n",
      "[827, 0.07468304928587148, 0.08509484536851568]\n",
      "[828, 0.07475559235925383, 0.08516738844189803]\n",
      "[829, 0.07482810559179974, 0.08523990167444394]\n",
      "[830, 0.07490058898350921, 0.0853123850661534]\n",
      "[831, 0.07497304253438224, 0.08538483861702643]\n",
      "[832, 0.07504546624441884, 0.08545726232706302]\n",
      "[833, 0.07511788995445542, 0.08552968603709962]\n",
      "[835, 0.07519028382365557, 0.08567450361633637]\n",
      "[836, 0.07526267769285573, 0.08574689748553652]\n",
      "[837, 0.07533504172121945, 0.08581926151390024]\n",
      "[838, 0.07540740574958316, 0.08589162554226396]\n",
      "[839, 0.07547973993711043, 0.08596395972979122]\n",
      "[840, 0.07555207412463771, 0.0860362939173185]\n",
      "[841, 0.07562437847132855, 0.08610859826400934]\n",
      "[843, 0.07569665297718295, 0.08625314727571814]\n",
      "[844, 0.07576886780136448, 0.08632536209989966]\n",
      "[845, 0.075841082625546, 0.08639757692408118]\n"
     ]
    },
    {
     "ename": "KeyboardInterrupt",
     "evalue": "",
     "output_type": "error",
     "traceback": [
      "\u001b[1;31m---------------------------------------------------------------------------\u001b[0m",
      "\u001b[1;31mKeyboardInterrupt\u001b[0m                         Traceback (most recent call last)",
      "\u001b[1;32m<ipython-input-68-464fa0058c34>\u001b[0m in \u001b[0;36m<module>\u001b[1;34m\u001b[0m\n\u001b[0;32m      3\u001b[0m \u001b[1;32mfor\u001b[0m \u001b[0mctr\u001b[0m\u001b[1;33m,\u001b[0m\u001b[0mf\u001b[0m \u001b[1;32min\u001b[0m \u001b[0menumerate\u001b[0m\u001b[1;33m(\u001b[0m\u001b[0mpairs\u001b[0m\u001b[1;33m[\u001b[0m\u001b[1;33m:\u001b[0m\u001b[1;33m,\u001b[0m\u001b[1;36m0\u001b[0m\u001b[1;33m]\u001b[0m\u001b[1;33m)\u001b[0m\u001b[1;33m:\u001b[0m\u001b[1;33m\u001b[0m\u001b[1;33m\u001b[0m\u001b[0m\n\u001b[0;32m      4\u001b[0m     \u001b[0mpool_class\u001b[0m\u001b[1;33m.\u001b[0m\u001b[0mset_data\u001b[0m\u001b[1;33m(\u001b[0m\u001b[0mf\u001b[0m\u001b[1;33m)\u001b[0m\u001b[1;33m\u001b[0m\u001b[1;33m\u001b[0m\u001b[0m\n\u001b[1;32m----> 5\u001b[1;33m     \u001b[0ms\u001b[0m\u001b[1;33m=\u001b[0m \u001b[1;33m(\u001b[0m\u001b[0mpool\u001b[0m\u001b[1;33m.\u001b[0m\u001b[0mmap\u001b[0m\u001b[1;33m(\u001b[0m\u001b[0mpool_class\u001b[0m\u001b[1;33m.\u001b[0m\u001b[0mmyfu\u001b[0m\u001b[1;33m,\u001b[0m \u001b[1;33m(\u001b[0m\u001b[0mlst\u001b[0m\u001b[1;33m)\u001b[0m\u001b[1;33m)\u001b[0m\u001b[1;33m)\u001b[0m\u001b[1;33m\u001b[0m\u001b[1;33m\u001b[0m\u001b[0m\n\u001b[0m\u001b[0;32m      6\u001b[0m     \u001b[0mbest_match\u001b[0m\u001b[1;33m=\u001b[0m\u001b[0mdf\u001b[0m\u001b[1;33m[\u001b[0m\u001b[1;34m'BridgedBarcode'\u001b[0m\u001b[1;33m]\u001b[0m\u001b[1;33m[\u001b[0m\u001b[0mnp\u001b[0m\u001b[1;33m.\u001b[0m\u001b[0margmax\u001b[0m\u001b[1;33m(\u001b[0m\u001b[0ms\u001b[0m\u001b[1;33m)\u001b[0m\u001b[1;33m]\u001b[0m\u001b[1;33m\u001b[0m\u001b[1;33m\u001b[0m\u001b[0m\n\u001b[0;32m      7\u001b[0m     \u001b[0mb\u001b[0m\u001b[1;33m=\u001b[0m\u001b[0mpairwise2\u001b[0m\u001b[1;33m.\u001b[0m\u001b[0malign\u001b[0m\u001b[1;33m.\u001b[0m\u001b[0mglobalms\u001b[0m\u001b[1;33m(\u001b[0m\u001b[0mbest_match\u001b[0m\u001b[1;33m,\u001b[0m\u001b[0mf\u001b[0m\u001b[1;33m,\u001b[0m \u001b[1;36m1\u001b[0m\u001b[1;33m,\u001b[0m \u001b[1;33m-\u001b[0m\u001b[1;36m1\u001b[0m\u001b[1;33m,\u001b[0m \u001b[1;33m-\u001b[0m\u001b[1;36m1\u001b[0m\u001b[1;33m,\u001b[0m \u001b[1;33m-\u001b[0m\u001b[1;36m1\u001b[0m\u001b[1;33m,\u001b[0m \u001b[0mpenalize_end_gaps\u001b[0m\u001b[1;33m=\u001b[0m\u001b[1;32mFalse\u001b[0m\u001b[1;33m,\u001b[0m \u001b[0mone_alignment_only\u001b[0m\u001b[1;33m=\u001b[0m\u001b[1;32mTrue\u001b[0m\u001b[1;33m)\u001b[0m\u001b[1;33m\u001b[0m\u001b[1;33m\u001b[0m\u001b[0m\n",
      "\u001b[1;32m~\\Anaconda3\\lib\\multiprocessing\\pool.py\u001b[0m in \u001b[0;36mmap\u001b[1;34m(self, func, iterable, chunksize)\u001b[0m\n\u001b[0;32m    266\u001b[0m         \u001b[1;32min\u001b[0m \u001b[0ma\u001b[0m \u001b[0mlist\u001b[0m \u001b[0mthat\u001b[0m \u001b[1;32mis\u001b[0m \u001b[0mreturned\u001b[0m\u001b[1;33m.\u001b[0m\u001b[1;33m\u001b[0m\u001b[1;33m\u001b[0m\u001b[0m\n\u001b[0;32m    267\u001b[0m         '''\n\u001b[1;32m--> 268\u001b[1;33m         \u001b[1;32mreturn\u001b[0m \u001b[0mself\u001b[0m\u001b[1;33m.\u001b[0m\u001b[0m_map_async\u001b[0m\u001b[1;33m(\u001b[0m\u001b[0mfunc\u001b[0m\u001b[1;33m,\u001b[0m \u001b[0miterable\u001b[0m\u001b[1;33m,\u001b[0m \u001b[0mmapstar\u001b[0m\u001b[1;33m,\u001b[0m \u001b[0mchunksize\u001b[0m\u001b[1;33m)\u001b[0m\u001b[1;33m.\u001b[0m\u001b[0mget\u001b[0m\u001b[1;33m(\u001b[0m\u001b[1;33m)\u001b[0m\u001b[1;33m\u001b[0m\u001b[1;33m\u001b[0m\u001b[0m\n\u001b[0m\u001b[0;32m    269\u001b[0m \u001b[1;33m\u001b[0m\u001b[0m\n\u001b[0;32m    270\u001b[0m     \u001b[1;32mdef\u001b[0m \u001b[0mstarmap\u001b[0m\u001b[1;33m(\u001b[0m\u001b[0mself\u001b[0m\u001b[1;33m,\u001b[0m \u001b[0mfunc\u001b[0m\u001b[1;33m,\u001b[0m \u001b[0miterable\u001b[0m\u001b[1;33m,\u001b[0m \u001b[0mchunksize\u001b[0m\u001b[1;33m=\u001b[0m\u001b[1;32mNone\u001b[0m\u001b[1;33m)\u001b[0m\u001b[1;33m:\u001b[0m\u001b[1;33m\u001b[0m\u001b[1;33m\u001b[0m\u001b[0m\n",
      "\u001b[1;32m~\\Anaconda3\\lib\\multiprocessing\\pool.py\u001b[0m in \u001b[0;36mget\u001b[1;34m(self, timeout)\u001b[0m\n\u001b[0;32m    649\u001b[0m \u001b[1;33m\u001b[0m\u001b[0m\n\u001b[0;32m    650\u001b[0m     \u001b[1;32mdef\u001b[0m \u001b[0mget\u001b[0m\u001b[1;33m(\u001b[0m\u001b[0mself\u001b[0m\u001b[1;33m,\u001b[0m \u001b[0mtimeout\u001b[0m\u001b[1;33m=\u001b[0m\u001b[1;32mNone\u001b[0m\u001b[1;33m)\u001b[0m\u001b[1;33m:\u001b[0m\u001b[1;33m\u001b[0m\u001b[1;33m\u001b[0m\u001b[0m\n\u001b[1;32m--> 651\u001b[1;33m         \u001b[0mself\u001b[0m\u001b[1;33m.\u001b[0m\u001b[0mwait\u001b[0m\u001b[1;33m(\u001b[0m\u001b[0mtimeout\u001b[0m\u001b[1;33m)\u001b[0m\u001b[1;33m\u001b[0m\u001b[1;33m\u001b[0m\u001b[0m\n\u001b[0m\u001b[0;32m    652\u001b[0m         \u001b[1;32mif\u001b[0m \u001b[1;32mnot\u001b[0m \u001b[0mself\u001b[0m\u001b[1;33m.\u001b[0m\u001b[0mready\u001b[0m\u001b[1;33m(\u001b[0m\u001b[1;33m)\u001b[0m\u001b[1;33m:\u001b[0m\u001b[1;33m\u001b[0m\u001b[1;33m\u001b[0m\u001b[0m\n\u001b[0;32m    653\u001b[0m             \u001b[1;32mraise\u001b[0m \u001b[0mTimeoutError\u001b[0m\u001b[1;33m\u001b[0m\u001b[1;33m\u001b[0m\u001b[0m\n",
      "\u001b[1;32m~\\Anaconda3\\lib\\multiprocessing\\pool.py\u001b[0m in \u001b[0;36mwait\u001b[1;34m(self, timeout)\u001b[0m\n\u001b[0;32m    646\u001b[0m \u001b[1;33m\u001b[0m\u001b[0m\n\u001b[0;32m    647\u001b[0m     \u001b[1;32mdef\u001b[0m \u001b[0mwait\u001b[0m\u001b[1;33m(\u001b[0m\u001b[0mself\u001b[0m\u001b[1;33m,\u001b[0m \u001b[0mtimeout\u001b[0m\u001b[1;33m=\u001b[0m\u001b[1;32mNone\u001b[0m\u001b[1;33m)\u001b[0m\u001b[1;33m:\u001b[0m\u001b[1;33m\u001b[0m\u001b[1;33m\u001b[0m\u001b[0m\n\u001b[1;32m--> 648\u001b[1;33m         \u001b[0mself\u001b[0m\u001b[1;33m.\u001b[0m\u001b[0m_event\u001b[0m\u001b[1;33m.\u001b[0m\u001b[0mwait\u001b[0m\u001b[1;33m(\u001b[0m\u001b[0mtimeout\u001b[0m\u001b[1;33m)\u001b[0m\u001b[1;33m\u001b[0m\u001b[1;33m\u001b[0m\u001b[0m\n\u001b[0m\u001b[0;32m    649\u001b[0m \u001b[1;33m\u001b[0m\u001b[0m\n\u001b[0;32m    650\u001b[0m     \u001b[1;32mdef\u001b[0m \u001b[0mget\u001b[0m\u001b[1;33m(\u001b[0m\u001b[0mself\u001b[0m\u001b[1;33m,\u001b[0m \u001b[0mtimeout\u001b[0m\u001b[1;33m=\u001b[0m\u001b[1;32mNone\u001b[0m\u001b[1;33m)\u001b[0m\u001b[1;33m:\u001b[0m\u001b[1;33m\u001b[0m\u001b[1;33m\u001b[0m\u001b[0m\n",
      "\u001b[1;32m~\\Anaconda3\\lib\\threading.py\u001b[0m in \u001b[0;36mwait\u001b[1;34m(self, timeout)\u001b[0m\n\u001b[0;32m    550\u001b[0m             \u001b[0msignaled\u001b[0m \u001b[1;33m=\u001b[0m \u001b[0mself\u001b[0m\u001b[1;33m.\u001b[0m\u001b[0m_flag\u001b[0m\u001b[1;33m\u001b[0m\u001b[1;33m\u001b[0m\u001b[0m\n\u001b[0;32m    551\u001b[0m             \u001b[1;32mif\u001b[0m \u001b[1;32mnot\u001b[0m \u001b[0msignaled\u001b[0m\u001b[1;33m:\u001b[0m\u001b[1;33m\u001b[0m\u001b[1;33m\u001b[0m\u001b[0m\n\u001b[1;32m--> 552\u001b[1;33m                 \u001b[0msignaled\u001b[0m \u001b[1;33m=\u001b[0m \u001b[0mself\u001b[0m\u001b[1;33m.\u001b[0m\u001b[0m_cond\u001b[0m\u001b[1;33m.\u001b[0m\u001b[0mwait\u001b[0m\u001b[1;33m(\u001b[0m\u001b[0mtimeout\u001b[0m\u001b[1;33m)\u001b[0m\u001b[1;33m\u001b[0m\u001b[1;33m\u001b[0m\u001b[0m\n\u001b[0m\u001b[0;32m    553\u001b[0m             \u001b[1;32mreturn\u001b[0m \u001b[0msignaled\u001b[0m\u001b[1;33m\u001b[0m\u001b[1;33m\u001b[0m\u001b[0m\n\u001b[0;32m    554\u001b[0m \u001b[1;33m\u001b[0m\u001b[0m\n",
      "\u001b[1;32m~\\Anaconda3\\lib\\threading.py\u001b[0m in \u001b[0;36mwait\u001b[1;34m(self, timeout)\u001b[0m\n\u001b[0;32m    294\u001b[0m         \u001b[1;32mtry\u001b[0m\u001b[1;33m:\u001b[0m    \u001b[1;31m# restore state no matter what (e.g., KeyboardInterrupt)\u001b[0m\u001b[1;33m\u001b[0m\u001b[1;33m\u001b[0m\u001b[0m\n\u001b[0;32m    295\u001b[0m             \u001b[1;32mif\u001b[0m \u001b[0mtimeout\u001b[0m \u001b[1;32mis\u001b[0m \u001b[1;32mNone\u001b[0m\u001b[1;33m:\u001b[0m\u001b[1;33m\u001b[0m\u001b[1;33m\u001b[0m\u001b[0m\n\u001b[1;32m--> 296\u001b[1;33m                 \u001b[0mwaiter\u001b[0m\u001b[1;33m.\u001b[0m\u001b[0macquire\u001b[0m\u001b[1;33m(\u001b[0m\u001b[1;33m)\u001b[0m\u001b[1;33m\u001b[0m\u001b[1;33m\u001b[0m\u001b[0m\n\u001b[0m\u001b[0;32m    297\u001b[0m                 \u001b[0mgotit\u001b[0m \u001b[1;33m=\u001b[0m \u001b[1;32mTrue\u001b[0m\u001b[1;33m\u001b[0m\u001b[1;33m\u001b[0m\u001b[0m\n\u001b[0;32m    298\u001b[0m             \u001b[1;32melse\u001b[0m\u001b[1;33m:\u001b[0m\u001b[1;33m\u001b[0m\u001b[1;33m\u001b[0m\u001b[0m\n",
      "\u001b[1;31mKeyboardInterrupt\u001b[0m: "
     ]
    }
   ],
   "source": [
    "good_accumulated=0\n",
    "all_accumulated=0\n",
    "for ctr,f in enumerate(pairs[:,0]):\n",
    "    pool_class.set_data(f)\n",
    "    s= (pool.map(pool_class.myfu, (lst)))\n",
    "    best_match=df['BridgedBarcode'][np.argmax(s)]\n",
    "    b=pairwise2.align.globalms(best_match,f, 1, -1, -1, -1, penalize_end_gaps=False, one_alignment_only=True)\n",
    "    all_accumulated=all_accumulated+pairs[ctr,1].astype(int)\n",
    "    if(b[0][2]>29):\n",
    "       #print(format_alignment(*b[0]))\n",
    "       good_accumulated=good_accumulated+pairs[ctr,1].astype(int)\n",
    "       print([ctr, good_accumulated/len(C), all_accumulated/len(C)])"
   ]
  },
  {
   "cell_type": "code",
   "execution_count": 49,
   "metadata": {},
   "outputs": [
    {
     "data": {
      "text/plain": [
       "28831"
      ]
     },
     "execution_count": 49,
     "metadata": {},
     "output_type": "execute_result"
    }
   ],
   "source": [
    "np.sum(df['BridgedBarcode'].isin(pairs[:,0]))"
   ]
  },
  {
   "cell_type": "code",
   "execution_count": 54,
   "metadata": {},
   "outputs": [
    {
     "data": {
      "text/plain": [
       "13500"
      ]
     },
     "execution_count": 54,
     "metadata": {},
     "output_type": "execute_result"
    }
   ],
   "source": [
    "np.sum(np.isin(pairs[0:100000,0], df['BridgedBarcode']))"
   ]
  },
  {
   "cell_type": "code",
   "execution_count": 56,
   "metadata": {},
   "outputs": [
    {
     "data": {
      "text/plain": [
       "array([['TTTTTTTTTTTTTTTTTTTTTTTTTTTTTTTT', '59784'],\n",
       "       ['TCGCGCGTTCTTCAGCGTTCCCGAGACTGCAT', '12191'],\n",
       "       ['AAAAAAAAAAAAAAAAAAAAAAAAAAAAAAAA', '11920'],\n",
       "       ...,\n",
       "       ['CGATCTACTATTTTTTTTTTTTTTTTTTTTTT', '1'],\n",
       "       ['CGATCTACTCTTCAGCGTTCCCGAGACAGATA', '1'],\n",
       "       ['CTGTCTCATCTTCAGCGTTCCCGACTTTGGCG', '1']], dtype='<U32')"
      ]
     },
     "execution_count": 56,
     "metadata": {},
     "output_type": "execute_result"
    }
   ],
   "source": [
    "pairs"
   ]
  },
  {
   "cell_type": "code",
   "execution_count": 64,
   "metadata": {},
   "outputs": [
    {
     "data": {
      "text/plain": [
       "0.6225061677278814"
      ]
     },
     "execution_count": 64,
     "metadata": {},
     "output_type": "execute_result"
    }
   ],
   "source": [
    "np.sum(pairs[0:500000,1].astype(int))/len(C)"
   ]
  },
  {
   "cell_type": "code",
   "execution_count": 62,
   "metadata": {},
   "outputs": [
    {
     "data": {
      "text/plain": [
       "array(['TGCCACTTCTTCAGCGTTCCCGAGAACTGCCA', '15'], dtype='<U32')"
      ]
     },
     "execution_count": 62,
     "metadata": {},
     "output_type": "execute_result"
    }
   ],
   "source": [
    "pairs[100000]"
   ]
  },
  {
   "cell_type": "code",
   "execution_count": 40,
   "metadata": {},
   "outputs": [
    {
     "data": {
      "text/plain": [
       "'TCTTCAGCGTTCCCGAGA'"
      ]
     },
     "execution_count": 40,
     "metadata": {},
     "output_type": "execute_result"
    }
   ],
   "source": [
    "bridge"
   ]
  },
  {
   "cell_type": "code",
   "execution_count": 38,
   "metadata": {},
   "outputs": [
    {
     "data": {
      "text/plain": [
       "array(['CCTGCGCCTCTTCTCTTCAGGGAACTCTCTTT',\n",
       "       'CCTGCGCCTCTTCTGAATACTGTACTTCTGCA',\n",
       "       'CCTGCGCCTCTTCTGCGTTCCCGAGAGGAAAA',\n",
       "       'CCTGCGCCTCTTCTTAGATCTGCACAGCGAGT',\n",
       "       'CCTGCGCCTCTTCTTCAGCCATTTCCCAGAAG',\n",
       "       'CCTGCGCCTCTTCTTCATCCATTTCCCAGAAG',\n",
       "       'CCTGCGCCTCTTGACCTTCTCCTCCTCGAACT',\n",
       "       'CCTGCGCCTCTTGTTAATGTTCTTCTGAGTCA',\n",
       "       'CCTGCGCCTCTTTACACAAATCGAGCTAAAAA',\n",
       "       'CCTGCGCCTCTTTAGAATATGTGCTTACATTG',\n",
       "       'CCTGCGCCTCTTTAGCGTTCCCGAGACAGTCC',\n",
       "       'CCTGCGCCTCTTTAGCGTTCCCGAGAGGAAAT',\n",
       "       'CCTGCGCCTCTTTATCGTATTCTGCAGTTCTC',\n",
       "       'CCTGCGCCTCTTTCTTGATTTCCATAGATCTG',\n",
       "       'CCTGCGCCTCTTTGGCCGAGAGCGGCACCGCC',\n",
       "       'CCTGCGCCTCTTTGGCTTTCAAAGATCTCGTT',\n",
       "       'CCTGCGCCTCTTTGGCTTTCAAAGCTCTCGTT',\n",
       "       'CCTGCGCCTCTTTTCCCATCACGTTCCTTACA',\n",
       "       'CCTGCGCCTCTTTTCTGCAGCCGAAGCCTCTT',\n",
       "       'CCTGCGCCTCTTTTTTATTTTTTTCCCGTTAC',\n",
       "       'CCTGCGCCTCTTTTTTTTTTTTGCATTTCATG',\n",
       "       'CCTGCGCCTCTTTTTTTTTTTTTGCATTTCAT',\n",
       "       'CCTGCGCCTCTTTTTTTTTTTTTTTTTTTTTT',\n",
       "       'CCTGCGCCTGCGATGGCTGCTGGGTTCTCCTC',\n",
       "       'CCTGCGCCTGCTGCGCTTACCTGTATTCTTAC',\n",
       "       'CCTGCGCCTGGAGACATCCGGGCCGTCTGCTG',\n",
       "       'CCTGCGCCTGTATGAAGACCTGGTTTTACTAC',\n",
       "       'CCTGCGCCTGTTCCCGAGAGGAAAGATCCGGC',\n",
       "       'CCTGCGCCTTAGATTGCAGATATGCTTCCAAC',\n",
       "       'CCTGCGCCTTCAGTGTAAAGGGCCACAACTCA',\n",
       "       'CCTGCGCCTTCAGTGTAGAGGGCCACAACTCA',\n",
       "       'CCTGCGCCTTCTTCTAATGGAAGAGGGGCACA',\n",
       "       'CCTGCGCCTTGGTTGTCAGCACCTGTCTCTTA',\n",
       "       'CCTGCGCCTTTAAAAAAACAAAAATCGTAACT',\n",
       "       'CCTGCGCCTTTCAGCGTTCCCGAGAGCATTTG',\n",
       "       'CCTGCGCCTTTTTTTTTTTTTTTTTTTTTTTT',\n",
       "       'CCTGCGCGACTGCGGTTTTTTTTTTTTTTTTT',\n",
       "       'CCTGCGCGAGACCTAATATTTGCCGTTTTTTT',\n",
       "       'CCTGCGCGAGTTTTTTTTTTTTTTTTTTTTTT',\n",
       "       'CCTGCGCGCCCTGTTCCTCTCCAGCTATTTTC'], dtype='<U32')"
      ]
     },
     "execution_count": 38,
     "metadata": {},
     "output_type": "execute_result"
    }
   ],
   "source": [
    "singles=values[counts==1]\n",
    "singles[2000000:2000040]"
   ]
  },
  {
   "cell_type": "code",
   "execution_count": 73,
   "metadata": {
    "collapsed": true
   },
   "outputs": [],
   "source": [
    "AAA='NAGTAAAATCTTCAGCGTTCCCGAGATATAGCTTCCATGTGC'\n",
    "BBB='TAGTAAAATCTTCAGCGTTCCCGAGATATAGC'"
   ]
  },
  {
   "cell_type": "code",
   "execution_count": 78,
   "metadata": {},
   "outputs": [
    {
     "data": {
      "text/plain": [
       "[('N-AGTAAAATCTTCAGCGTTCCCGAGATATAGCTTCCATGTGC',\n",
       "  '-TAGTAAAATCTTCAGCGTTCCCGAGATATAGC----------',\n",
       "  2.1000000000000005,\n",
       "  0,\n",
       "  43),\n",
       " ('NAGTAAAATCTTCAGCGTTCCCGAGATATAGCTTCCATGTGC',\n",
       "  'TAGTAAAATCTTCAGCGTTCCCGAGATATAGC----------',\n",
       "  2.1000000000000005,\n",
       "  0,\n",
       "  42)]"
      ]
     },
     "execution_count": 78,
     "metadata": {},
     "output_type": "execute_result"
    }
   ],
   "source": [
    "pairwise2.align.globalms(AAA, BBB, 0.1, -1, -1, 0, penalize_end_gaps=False)"
   ]
  },
  {
   "cell_type": "code",
   "execution_count": 55,
   "metadata": {},
   "outputs": [],
   "source": [
    "def check_match(seq):\n",
    "    #for s in df['BridgedBarcode']:\n",
    "    for idx, s in enumerate(df['BridgedBarcode']):\n",
    "        aa=pairwise2.align.globalms(s,seq, 2, -1, -1, -1, one_alignment_only=True )\n",
    "        if (aa[0][2]>59):\n",
    "            return idx\n",
    "    return -1\n",
    "        "
   ]
  },
  {
   "cell_type": "code",
   "execution_count": 57,
   "metadata": {},
   "outputs": [
    {
     "data": {
      "text/plain": [
       "-1"
      ]
     },
     "execution_count": 57,
     "metadata": {},
     "output_type": "execute_result"
    }
   ],
   "source": [
    "check_match('NAGTAAAATCTTCAGCGTTCCCGAGATATAGCTTCCATGTGC')"
   ]
  },
  {
   "cell_type": "code",
   "execution_count": 58,
   "metadata": {},
   "outputs": [],
   "source": [
    "rslt=df['BridgedBarcode'].apply(lambda x: pairwise2.align.globalms(x,'NAGTAAAATCTTCAGCGTTCCCGAGATATAGCTTCCATGTGC', 2, -1, -1, -1, one_alignment_only=True)[0][2])"
   ]
  },
  {
   "cell_type": "code",
   "execution_count": 62,
   "metadata": {},
   "outputs": [],
   "source": [
    "b=pairwise2.align.globalms('NAGTAAAATCTTCAGCGTTCCCGAGATATAGCTTCCATGTGC', df['BridgedBarcode'][np.argmax(rslt)], 2, -1, -1, -1, one_alignment_only=True)"
   ]
  },
  {
   "cell_type": "code",
   "execution_count": 63,
   "metadata": {},
   "outputs": [
    {
     "name": "stdout",
     "output_type": "stream",
     "text": [
      "NAGTAAAATCTTCAGCGTTCCCGAGATATAGCTTCCATGTGC\n",
      ".||||||||||||||||||||||||  ||   || ||  |  \n",
      "GAGTAAAATCTTCAGCGTTCCCGAG--AT---TT-CA--T--\n",
      "  Score=51\n",
      "\n"
     ]
    }
   ],
   "source": [
    "print(format_alignment(*b[0]))"
   ]
  },
  {
   "cell_type": "code",
   "execution_count": 45,
   "metadata": {},
   "outputs": [],
   "source": [
    "a=pairwise2.align.globalms(record['sequence'], df['BridgedBarcode'][10000] , 2, -1, -1, -1, one_alignment_only=True)"
   ]
  },
  {
   "cell_type": "code",
   "execution_count": 47,
   "metadata": {},
   "outputs": [
    {
     "ename": "IndexError",
     "evalue": "list index out of range",
     "output_type": "error",
     "traceback": [
      "\u001b[1;31m---------------------------------------------------------------------------\u001b[0m",
      "\u001b[1;31mIndexError\u001b[0m                                Traceback (most recent call last)",
      "\u001b[1;32m<ipython-input-47-016a87a854bc>\u001b[0m in \u001b[0;36m<module>\u001b[1;34m()\u001b[0m\n\u001b[1;32m----> 1\u001b[1;33m \u001b[0ma\u001b[0m\u001b[1;33m[\u001b[0m\u001b[1;36m2\u001b[0m\u001b[1;33m]\u001b[0m\u001b[1;33m\u001b[0m\u001b[0m\n\u001b[0m",
      "\u001b[1;31mIndexError\u001b[0m: list index out of range"
     ]
    }
   ],
   "source": [
    "a[0]"
   ]
  },
  {
   "cell_type": "code",
   "execution_count": null,
   "metadata": {
    "collapsed": true
   },
   "outputs": [],
   "source": []
  },
  {
   "cell_type": "markdown",
   "metadata": {},
   "source": [
    "# Experimental"
   ]
  },
  {
   "cell_type": "code",
   "execution_count": 25,
   "metadata": {},
   "outputs": [],
   "source": [
    "pool_class=functions.MyClass()\n",
    "pool_class.set_data(pairs[0,0])\n",
    "lst=list(df['BridgedBarcode'])\n",
    "pool = Pool()\n"
   ]
  },
  {
   "cell_type": "code",
   "execution_count": 68,
   "metadata": {},
   "outputs": [
    {
     "name": "stdout",
     "output_type": "stream",
     "text": [
      "[1, 0.0003637896370235258, 0.002147794202671501]\n",
      "[3, 0.0006714785015423982, 0.0028111858375390263]\n",
      "[7, 0.0009119359615650026, 0.0038514672366266427]\n",
      "[8, 0.0011355035081633338, 0.0040750347832249735]\n",
      "[10, 0.0013495219871012985, 0.004506801845655733]\n",
      "[11, 0.0015618992200351375, 0.004719179078589573]\n",
      "[12, 0.0017732917053665015, 0.004930571563920937]\n",
      "[13, 0.001972479288594459, 0.005129759147148895]\n",
      "[14, 0.002170652283383503, 0.0053279321419379385]\n",
      "[15, 0.002368168779770897, 0.005525448638325332]\n",
      "[16, 0.0025656255944854134, 0.005722905453039849]\n",
      "[17, 0.002759232941299345, 0.00591651279985378]\n",
      "[18, 0.0029520345855294323, 0.006109314444083868]\n",
      "[19, 0.003143941004666361, 0.006301220863220796]\n",
      "[20, 0.003334773153691498, 0.006492053012245934]\n",
      "[21, 0.00352285994576428, 0.006680139804318715]\n",
      "[22, 0.0037105886477997977, 0.006867868506354233]\n",
      "[23, 0.0038956615153922765, 0.007052941373946711]\n",
      "[24, 0.004080286770438176, 0.0072375666289926106]\n",
      "[27, 0.004260137491653891, 0.007781953008142818]\n",
      "[28, 0.004438585693556991, 0.007960401210045917]\n",
      "[29, 0.004613661880942523, 0.00813547739743145]\n",
      "[31, 0.004787842843234896, 0.008484436138744968]\n",
      "[32, 0.00496023335534095, 0.008656826650851024]\n",
      "[33, 0.005132056891554671, 0.008828650187064744]\n",
      "[34, 0.005302030295909194, 0.008998623591419267]\n",
      "[35, 0.005470451976768909, 0.009167045272278983]\n",
      "[36, 0.005638634930937114, 0.009335228226447187]\n",
      "[37, 0.005806221068376547, 0.00950281436388662]\n",
      "[38, 0.00597312086657789, 0.009669714162087964]\n",
      "[39, 0.0061391254396860745, 0.009835718735196147]\n",
      "[40, 0.006304622718574801, 0.010001216014084874]\n",
      "[41, 0.0064686279556415965, 0.01016522125115167]\n",
      "[42, 0.006629171655681509, 0.010325764951191582]\n",
      "[43, 0.006789208061501964, 0.010485801357012037]\n",
      "[44, 0.006946857200407328, 0.010643450495917401]\n",
      "[45, 0.007103372387528022, 0.010799965683038095]\n",
      "[46, 0.007259410121265699, 0.010956003416775772]\n",
      "[47, 0.007414791356601725, 0.011111384652111799]\n",
      "[48, 0.007570083069428436, 0.01126667636493851]\n",
      "[49, 0.00772462876134418, 0.011421222056854254]\n",
      "[50, 0.007878905885731978, 0.01157549918124205]\n",
      "[51, 0.008033153169283335, 0.011729746464793408]\n",
      "[52, 0.0081872512486525, 0.011883844544162574]\n",
      "[53, 0.008339349991980275, 0.012035943287490348]\n",
      "[54, 0.008491150326943664, 0.012187743622453737]\n",
      "[55, 0.008642920821070614, 0.012339514116580687]\n",
      "[56, 0.00879457195185181, 0.012491165247361883]\n",
      "[57, 0.008946044037614374, 0.012642637333124448]\n",
      "[58, 0.009096620898283779, 0.012793214193793851]\n",
      "[59, 0.00924663078306085, 0.012943224078570922]\n",
      "[60, 0.009395238148525303, 0.013091831444035376]\n",
      "[61, 0.009543457583116055, 0.013240050878626128]\n",
      "[62, 0.009691557654361051, 0.013388150949871124]\n",
      "[63, 0.009839657725606049, 0.013536251021116122]\n",
      "[64, 0.009987548910995975, 0.013684142206506048]\n",
      "[65, 0.0101350521655122, 0.013831645461022272]\n",
      "[66, 0.010279153564674418, 0.01397574686018449]\n",
      "[67, 0.010422479102089231, 0.014119072397599304]\n",
      "[68, 0.010565625594485413, 0.014262218889995487]\n",
      "[69, 0.010707936543461314, 0.014404529838971386]\n",
      "[70, 0.010849978924909265, 0.014546572220419338]\n",
      "[72, 0.010991036558754741, 0.014829314145675503]\n",
      "[73, 0.011131825625072271, 0.014970103211993033]\n",
      "[74, 0.011272375964698291, 0.015110653551619052]\n",
      "[75, 0.011412239965086222, 0.015250517552006983]\n",
      "[76, 0.011551775716273327, 0.015390053303194089]\n",
      "[77, 0.011690804173240976, 0.015529081760161738]\n",
      "[78, 0.011829772948535747, 0.01566805053545651]\n",
      "[79, 0.011968682042157642, 0.015806959629078403]\n",
      "[80, 0.012107352409088027, 0.01594562999600879]\n",
      "[81, 0.012245724367654025, 0.016084001954574788]\n",
      "[82, 0.01238397696287427, 0.01622225454979503]\n",
      "[83, 0.01252166258220218, 0.01635994016912294]\n",
      "[84, 0.012659198997347895, 0.016497476584268658]\n",
      "[85, 0.012795153848162363, 0.016633431435083126]\n",
      "[86, 0.012931078858140394, 0.016769356445061154]\n",
      "[87, 0.013067003868118423, 0.016905281455039185]\n",
      "[88, 0.013202809514750698, 0.01704108710167146]\n",
      "[89, 0.013338436116364342, 0.017176713703285103]\n",
      "[90, 0.01347331669706702, 0.01731159428398778]\n",
      "[91, 0.013608167436933258, 0.017446445023854017]\n",
      "[92, 0.01374271976843511, 0.01758099735535587]\n",
      "[93, 0.013876824487390381, 0.017715102074311144]\n",
      "[94, 0.0140108098429999, 0.01784908742992066]\n",
      "[95, 0.014143541883478994, 0.017981819470399757]\n",
      "[96, 0.014276065038103018, 0.018114342625023778]\n",
      "[97, 0.014408140580180463, 0.018246418167101226]\n",
      "[98, 0.014539858032220644, 0.018378135619141405]\n",
      "[100, 0.014671187553387121, 0.018641182592348062]\n",
      "[101, 0.014802457392880723, 0.018772452431841665]\n",
      "[102, 0.01493316025648199, 0.018903155295442932]\n",
      "[103, 0.015063296144190922, 0.019033291183151863]\n",
      "[104, 0.0151933126685541, 0.01916330770751504]\n",
      "[106, 0.01532153874273096, 0.019420535717616164]\n",
      "[107, 0.015449526090216308, 0.019548523065101516]\n",
      "[108, 0.015577185188500833, 0.01967618216338604]\n",
      "[109, 0.015703859539182883, 0.01980285651406809]\n",
      "[110, 0.015830295163173424, 0.019929292138058628]\n",
      "[111, 0.01595664126465465, 0.020055638239539854]\n",
      "[112, 0.016082838161953678, 0.020181835136838886]\n",
      "[113, 0.01620903505925271, 0.02030803203413792]\n",
      "[115, 0.016334993229860234, 0.02056000805702584]\n",
      "[116, 0.01646080219628556, 0.020685817023451167]\n",
      "[117, 0.016585865141799924, 0.02081087996896553]\n",
      "[118, 0.016710390952258392, 0.020935405779423998]\n",
      "[119, 0.016834857081043982, 0.021059871908209588]\n",
      "[120, 0.016959054642301623, 0.02118406946946723]\n",
      "[121, 0.017083043317704195, 0.0213080581448698]\n",
      "[122, 0.017206823107251697, 0.021431837934417303]\n",
      "[123, 0.017330453692617005, 0.02155546851978261]\n",
      "[124, 0.017453815710454363, 0.02167883053761997]\n",
      "[125, 0.017577147887455284, 0.02180216271462089]\n",
      "[126, 0.01770042038278333, 0.021925435209948933]\n",
      "[127, 0.01782360335560206, 0.022048618182767665]\n",
      "[128, 0.017946189511692013, 0.02217120433885762]\n",
      "[129, 0.018068656304436215, 0.022293671131601817]\n",
      "[130, 0.018191063415507535, 0.02241607824267314]\n",
      "[131, 0.01831344068574242, 0.022538455512908027]\n",
      "[132, 0.018435668751795115, 0.022660683578960717]\n",
      "[133, 0.018557777454502048, 0.022782792281667654]\n",
      "[134, 0.018679766793863233, 0.02290478162102884]\n",
      "[135, 0.018801577088205783, 0.02302659191537139]\n",
      "[136, 0.018923387382548333, 0.02314840220971394]\n",
      "[137, 0.019045167836054446, 0.02327018266322005]\n",
      "[138, 0.01916691844872412, 0.023391933275889724]\n",
      "[139, 0.019288579538884475, 0.02351359436605008]\n",
      "[141, 0.01940961397147962, 0.023756260047969144]\n",
      "[142, 0.019530469359056134, 0.02387711543554566]\n",
      "[143, 0.01965123522412333, 0.023997881300612856]\n",
      "[144, 0.01977197124835409, 0.024118617324843616]\n",
      "[145, 0.019892229819201832, 0.024238875895691358]\n",
      "[146, 0.02001213030001231, 0.024358776376501832]\n",
      "[147, 0.020131881576640594, 0.024478527653130116]\n",
      "[148, 0.020251603012432437, 0.024598249088921963]\n",
      "[149, 0.020371205084878528, 0.024717851161368053]\n",
      "[150, 0.020490449067287357, 0.02483709514377688]\n",
      "[151, 0.020609603527186868, 0.02495624960367639]\n",
      "[152, 0.020728608782904185, 0.025075254859393707]\n",
      "[153, 0.020847196266911363, 0.025193842343400885]\n",
      "[154, 0.0209657539100821, 0.025312399986571622]\n",
      "[155, 0.021084192189907085, 0.025430838266396607]\n",
      "[157, 0.021202421583876994, 0.025667446258518627]\n",
      "[158, 0.021320650977846908, 0.02578567565248854]\n",
      "[159, 0.021438671485961753, 0.02590369616060338]\n",
      "[160, 0.021556632312403717, 0.026021656987045345]\n",
      "[161, 0.021674294730481294, 0.026139319405122926]\n",
      "[162, 0.02179142001350298, 0.026256444688144608]\n",
      "[163, 0.02190854529652466, 0.026373569971166293]\n",
      "[164, 0.02202549153452771, 0.026490516209169344]\n",
      "[165, 0.02214204984165706, 0.026607074516298693]\n",
      "[166, 0.02225839926293134, 0.02672342393757297]\n",
      "[167, 0.02237474868420562, 0.026839773358847248]\n",
      "[168, 0.02249103842380702, 0.02695606309844865]\n",
      "[169, 0.02260688055086184, 0.02707190522550347]\n",
      "[170, 0.02272272267791666, 0.027187747352558293]\n",
      "[171, 0.02283847528246217, 0.027303499957103797]\n",
      "[172, 0.022954138364498358, 0.027419163039139986]\n",
      "[173, 0.02306971192402523, 0.02753473659866686]\n",
      "[175, 0.02318513627936991, 0.027765644991029098]\n",
      "[176, 0.02330038158969596, 0.027880890301355148]\n",
      "[177, 0.023415179287475427, 0.027995687999134617]\n",
      "[178, 0.02352994714441846, 0.028110455856077646]\n",
      "[179, 0.02364447627466998, 0.028224984986329166]\n",
      "[180, 0.0237590054049215, 0.02833951411658069]\n",
      "[181, 0.023873445012663704, 0.028453953724322894]\n",
      "[182, 0.023987616052877962, 0.02856812476453715]\n",
      "[183, 0.02410151852556427, 0.02868202723722346]\n"
     ]
    },
    {
     "name": "stdout",
     "output_type": "stream",
     "text": [
      "[184, 0.024214913704031123, 0.028795422415690313]\n",
      "[185, 0.024328219359988662, 0.02890872807164785]\n",
      "[186, 0.024441077403399618, 0.029021586115058805]\n",
      "[187, 0.024553875765137696, 0.029134384476796886]\n",
      "[188, 0.024666495081857146, 0.029247003793516333]\n",
      "[189, 0.024778905512721522, 0.02935941422438071]\n",
      "[190, 0.02489128610274946, 0.029471794814408647]\n",
      "[191, 0.02500339812524945, 0.02958390683690864]\n",
      "[192, 0.025115152057712177, 0.029695660769371364]\n",
      "[193, 0.025226697104319833, 0.02980720581597902]\n",
      "[194, 0.025338092946745296, 0.029918601658404487]\n",
      "[195, 0.025449429107497885, 0.03002993781915707]\n",
      "[196, 0.02556073542741403, 0.03014124413907322]\n",
      "[197, 0.025672041747330177, 0.030252550458989367]\n",
      "[198, 0.025783079499718378, 0.030363588211377565]\n",
      "[199, 0.02589358011705068, 0.030474088828709868]\n",
      "[200, 0.02600396137103723, 0.030584470082696418]\n",
      "[202, 0.026114163580005147, 0.03080493418230513]\n",
      "[203, 0.026224007698935802, 0.030914778301235783]\n",
      "[204, 0.026333762295357138, 0.031024532897657123]\n",
      "[205, 0.026443487050942037, 0.03113425765324202]\n",
      "[206, 0.0265531819656905, 0.03124395256799048]\n",
      "[207, 0.02666287688043896, 0.031353647482738944]\n",
      "[208, 0.026772452431841665, 0.031463223034141646]\n",
      "[209, 0.026881789256552862, 0.03157255985885284]\n",
      "[210, 0.026991096240427618, 0.0316818668427276]\n",
      "[212, 0.027100134656774428, 0.03190003319793054]\n",
      "[213, 0.027209113391448363, 0.03200901193260447]\n",
      "[214, 0.027318062285285858, 0.032117960826441964]\n",
      "[215, 0.02742701117912335, 0.03222690972027946]\n",
      "[216, 0.027535781027942213, 0.03233567956909832]\n",
      "[217, 0.0276444911950882, 0.032444389736244306]\n",
      "[218, 0.027753171521397745, 0.032553070062553854]\n",
      "[219, 0.027861702643525096, 0.032661601184681206]\n",
      "[220, 0.027970144243143136, 0.03277004278429924]\n",
      "[222, 0.02807843663857898, 0.03298662757517093]\n",
      "[223, 0.028186669352341945, 0.0330948602889339]\n",
      "[224, 0.028294902066104913, 0.03320309300269687]\n",
      "[225, 0.028403075098195004, 0.03331126603478696]\n",
      "[226, 0.02851124813028509, 0.03341943906687705]\n",
      "[227, 0.028619152594847232, 0.033527343531439185]\n",
      "[228, 0.028726907855227184, 0.03363509879181913]\n",
      "[229, 0.02883463327477069, 0.03374282421136265]\n",
      "[230, 0.028942209490132008, 0.033850400426723964]\n",
      "[231, 0.029049726023820447, 0.0339579169604124]\n",
      "[232, 0.029157242557508886, 0.03406543349410084]\n",
      "[233, 0.029264729250360888, 0.03417292018695284]\n",
      "[234, 0.029372156261540012, 0.034280347198131965]\n",
      "[235, 0.029479374386864064, 0.034387565323456014]\n",
      "[236, 0.02958656267135168, 0.03449475360794363]\n",
      "[237, 0.029693721115002854, 0.0346019120515948]\n",
      "[238, 0.029800700513635398, 0.03470889145022735]\n",
      "[239, 0.02990750086724931, 0.03481569180384126]\n",
      "[240, 0.03001406249417171, 0.03492225343076366]\n",
      "[241, 0.030120534598584797, 0.035028725535176754]\n",
      "[242, 0.03022688733965213, 0.03513507827624408]\n",
      "[243, 0.030333240080719463, 0.03524143101731141]\n",
      "[244, 0.030439592821786796, 0.03534778375837875]\n",
      "[245, 0.03054585604034481, 0.035454046976936764]\n",
      "[247, 0.030651999895557072, 0.03566636452819773]\n",
      "[248, 0.030758113909932897, 0.035772478542573545]\n",
      "[249, 0.030864108560962965, 0.03587847319360361]\n",
      "[250, 0.030970103211993033, 0.03598446784463369]\n",
      "[251, 0.031076038181350223, 0.036090402813990875]\n",
      "[252, 0.03118185378736166, 0.03619621842000231]\n",
      "[253, 0.031287669393373095, 0.03630203402601375]\n",
      "[254, 0.031392977705165075, 0.03640734233780573]\n",
      "[255, 0.03149822633528418, 0.03651259096792483]\n",
      "[257, 0.031602907989510945, 0.03672204379888768]\n",
      "[258, 0.03170747028039196, 0.0368266060897687]\n",
      "[259, 0.031811943048763655, 0.03693107885814039]\n",
      "[261, 0.03191632629462604, 0.03713990503153804]\n",
      "[262, 0.03202067969965198, 0.037244258436563975]\n",
      "[263, 0.03212503310467792, 0.03734861184158992]\n",
      "[264, 0.03222932682803099, 0.03745290556494298]\n",
      "[265, 0.03233347134720186, 0.037557050084113856]\n",
      "[266, 0.03243752634386342, 0.037661105080775414]\n",
      "[267, 0.03254146197717922, 0.037765040714091216]\n",
      "[268, 0.03264536776965858, 0.03786894650657058]\n",
      "[270, 0.03274909451711931, 0.03807657904651068]\n",
      "[271, 0.03285276158290717, 0.038180246112298526]\n",
      "[272, 0.03295598103614844, 0.038283465565539805]\n",
      "[273, 0.03305905128520752, 0.03838653581459888]\n",
      "[275, 0.033161912648411535, 0.0385924077451891]\n",
      "[277, 0.033264594966596915, 0.03879786190406917]\n",
      "[278, 0.033367247443945855, 0.03890051438141811]\n",
      "[279, 0.03346963135376685, 0.0390028982912391]\n",
      "[280, 0.03357195558191496, 0.039105222519387216]\n",
      "[281, 0.03367395156086225, 0.03920721849833451]\n",
      "[282, 0.03377576849479091, 0.03930903543226317]\n",
      "[283, 0.03387710797533655, 0.039410374912808806]\n",
      "[284, 0.03397841761504575, 0.03951168455251801]\n",
      "[285, 0.03407936916471769, 0.039612636102189944]\n",
      "[286, 0.03418026103271675, 0.039713527970189004]\n",
      "[287, 0.03428076496984211, 0.03981403190731436]\n",
      "[288, 0.034381060021112395, 0.03991432695858465]\n",
      "[289, 0.03448135507238268, 0.040014622009854936]\n",
      "[290, 0.03458165012365297, 0.04011491706112522]\n",
      "[292, 0.03468179597074106, 0.040315328118647166]\n",
      "[293, 0.034781762772810525, 0.040415294920716625]\n",
      "[294, 0.03488158037069779, 0.040515112518603895]\n",
      "[295, 0.03498095035603848, 0.04061448250394459]\n",
      "[296, 0.03508023081886985, 0.04071376296677596]\n",
      "[297, 0.03517945160002835, 0.040812983747934455]\n",
      "[298, 0.03527867238118684, 0.04091220452909295]\n",
      "[299, 0.035377863321508905, 0.041011395469415006]\n",
      "[300, 0.035476964739321645, 0.041110496887227746]\n",
      "[301, 0.035576036316297945, 0.04120956846420405]\n",
      "[302, 0.03567510789327425, 0.04130864004118035]\n",
      "[303, 0.03577414962941411, 0.04140768177732022]\n",
      "[304, 0.03587316152471754, 0.04150669367262364]\n",
      "[305, 0.035972113738348084, 0.04160564588625419]\n",
      "[306, 0.03607067802110493, 0.04170421016901104]\n",
      "[307, 0.03616906325884314, 0.04180259540674925]\n",
      "[308, 0.03626723961072629, 0.041900771758632396]\n",
      "[309, 0.03636532644010012, 0.04199885858800622]\n",
      "[310, 0.03646341326947394, 0.04209694541738005]\n",
      "[311, 0.03656144041717489, 0.042194972565081]\n",
      "[312, 0.036659348201530086, 0.04229288034943619]\n",
      "[313, 0.036757017259193774, 0.04239054940709988]\n",
      "[314, 0.03685462663518459, 0.04248815878309069]\n",
      "[316, 0.03695202712532032, 0.042682989604198605]\n",
      "[317, 0.03704930825211031, 0.04278027073098859]\n",
      "[318, 0.03714632081137234, 0.042877283290250624]\n",
      "[319, 0.037243243848125065, 0.04297420632700335]\n",
      "[320, 0.03734016688487778, 0.04307112936375607]\n",
      "[321, 0.0374370899216305, 0.043168052400508784]\n",
      "[322, 0.03753392343587391, 0.043264885914752194]\n",
      "[323, 0.037630607745935116, 0.0433615702248134]\n",
      "[324, 0.03772720253348701, 0.043458165012365296]\n",
      "[325, 0.03782376748020247, 0.04355472995908075]\n",
      "[326, 0.037920302586081485, 0.04365126506495977]\n",
      "[327, 0.038016569124432555, 0.04374753160331084]\n",
      "[328, 0.03811283566278363, 0.04384379814166191]\n",
      "[329, 0.03820907236029826, 0.043940034839176544]\n",
      "[330, 0.03830530905781289, 0.04403627153669117]\n",
      "[331, 0.03840139655114533, 0.04413235903002361]\n",
      "[332, 0.03849748404447777, 0.04422844652335605]\n",
      "[333, 0.03859327312944582, 0.0443242356083241]\n",
      "[334, 0.03868900253274099, 0.044419965011619274]\n",
      "[335, 0.03878455289101754, 0.04451551536989582]\n",
      "[336, 0.0388800435676212, 0.044611006046499486]\n",
      "[338, 0.03897541488087911, 0.044801778513851746]\n",
      "[339, 0.039070636989954825, 0.04489700062292746]\n",
      "[340, 0.039165859099030545, 0.04499222273200318]\n",
      "[342, 0.03926081264057832, 0.04518227901928091]\n",
      "[343, 0.039355736341289645, 0.04527720271999224]\n",
      "[344, 0.03945063020116454, 0.045372096579867134]\n",
      "[345, 0.039545494220202995, 0.045466960598905586]\n",
      "[346, 0.03964035823924145, 0.045561824617944044]\n",
      "[347, 0.03973510289493414, 0.04565656927363674]\n",
      "[348, 0.039829847550626844, 0.04575131392932944]\n",
      "[349, 0.039924383320464475, 0.045845849699167066]\n",
      "[350, 0.040018859408629225, 0.04594032578733182]\n",
      "[351, 0.04011306692926603, 0.046034533307968625]\n",
      "[353, 0.040206946200702004, 0.04622238137334989]\n",
      "[355, 0.040300735949628665, 0.04640999071203966]\n",
      "[356, 0.04039446601688245, 0.04650372077929344]\n",
      "[357, 0.0404881662432998, 0.04659742100571079]\n",
      "[358, 0.04058186646971715, 0.04669112123212814]\n",
      "[359, 0.040675566696134494, 0.046784821458545484]\n",
      "[360, 0.04076911771836965, 0.04687837248078064]\n",
      "[361, 0.04086260905893192, 0.04697186382134291]\n",
      "[363, 0.04095595119531201, 0.047158607775775956]\n",
      "[364, 0.041049293331692084, 0.04725194991215604]\n",
      "[365, 0.04114233705970778, 0.04734499364017174]\n",
      "[366, 0.041235321106050604, 0.04743797768651455]\n",
      "[367, 0.041328036584865474, 0.04753069316532942]\n",
      "[368, 0.04142069238200747, 0.04762334896247142]\n"
     ]
    },
    {
     "name": "stdout",
     "output_type": "stream",
     "text": [
      "[369, 0.04151325865664014, 0.0477159152371041]\n",
      "[370, 0.04160582493127282, 0.04780848151173677]\n",
      "[372, 0.04169833152423262, 0.047993494697656375]\n",
      "[373, 0.041790808276355985, 0.04808597144977974]\n",
      "[374, 0.04188328502847935, 0.0481784482019031]\n",
      "[375, 0.04197558273558408, 0.04827074590900783]\n",
      "[376, 0.04206782076101593, 0.048362983934439684]\n",
      "[377, 0.04215999910477491, 0.048455162278198655]\n",
      "[378, 0.042252147607697445, 0.04854731078112119]\n",
      "[380, 0.04234420658811067, 0.048731458582784076]\n",
      "[381, 0.04243617604601457, 0.04882342804068798]\n",
      "[382, 0.0425280858222456, 0.04891533781691901]\n",
      "[383, 0.04261990607596731, 0.04900715807064072]\n",
      "[384, 0.04271154728467039, 0.0490987992793438]\n",
      "[385, 0.042803188493373466, 0.04919044048804688]\n",
      "[386, 0.04289482970207655, 0.04928208169674996]\n",
      "[387, 0.04298641122910675, 0.04937366322378016]\n",
      "[388, 0.04307790323362764, 0.04946515522830105]\n",
      "[389, 0.04316936539731209, 0.0495566173919855]\n",
      "[390, 0.04326070819765078, 0.04964796019232419]\n",
      "[391, 0.043351931634643716, 0.04973918362931713]\n",
      "[392, 0.04344297602661803, 0.04983022802129144]\n",
      "[393, 0.04353396073691945, 0.04992121273159287]\n",
      "[394, 0.043624945447220884, 0.05001219744189429]\n",
      "[395, 0.043715930157522315, 0.050103182152195724]\n",
      "[396, 0.04380676566364155, 0.050194017658314966]\n",
      "[397, 0.04389757132892435, 0.05028482332359776]\n",
      "[398, 0.04398831731253427, 0.05037556930720768]\n",
      "[399, 0.044079063296144194, 0.050466315290817604]\n",
      "[400, 0.04416980927975411, 0.05055706127442752]\n",
      "[401, 0.04426040605918184, 0.05064765805385525]\n",
      "[402, 0.04435094315693669, 0.0507381951516101]\n",
      "[403, 0.04444133105050935, 0.05082858304518276]\n",
      "[405, 0.04453162942157269, 0.051009239468982316]\n",
      "[406, 0.04462189795179959, 0.05109950799920922]\n",
      "[407, 0.04471210680035361, 0.051189716847763245]\n",
      "[408, 0.04480222612639832, 0.05127983617380795]\n",
      "[409, 0.04489228577077015, 0.05136989581817979]\n",
      "[410, 0.044982226051796234, 0.05145983609920586]\n",
      "[411, 0.04507213649198587, 0.0515497465393955]\n",
      "[412, 0.04516204693217551, 0.05163965697958514]\n",
      "[413, 0.04525195737236515, 0.051729567419774775]\n",
      "[415, 0.04534180813088191, 0.0519092689368083]\n",
      "[416, 0.04543165888939867, 0.05199911969532506]\n",
      "[418, 0.04552147980707899, 0.05217876153068571]\n",
      "[419, 0.045611270883922875, 0.05226855260752959]\n",
      "[420, 0.045700942597421, 0.05235822432102772]\n",
      "[421, 0.045790554629246256, 0.052447836352852974]\n",
      "[422, 0.04588016666107151, 0.05253744838467822]\n",
      "[423, 0.04596962948871457, 0.052626911212321284]\n",
      "[424, 0.04605906247552119, 0.0527163441991279]\n",
      "[425, 0.04614846562149137, 0.05280574734509808]\n",
      "[426, 0.04623783892662511, 0.052895120650231824]\n",
      "[427, 0.04632715255008598, 0.05298443427369269]\n",
      "[428, 0.04641628712852821, 0.05307356885213493]\n",
      "[429, 0.04650536202529757, 0.05316264374890428]\n",
      "[430, 0.04659431755872117, 0.05325159928232789]\n",
      "[431, 0.046683273092144775, 0.053340554815751486]\n",
      "[432, 0.04677219878473193, 0.05342948050833865]\n",
      "[433, 0.04686100511397334, 0.05351828683758006]\n",
      "[434, 0.04694981144321475, 0.05360709316682147]\n",
      "[435, 0.04703861777245616, 0.05369589949606288]\n",
      "[436, 0.047127394260861134, 0.053784675984467845]\n",
      "[437, 0.0472161707492661, 0.05387345247287281]\n",
      "[438, 0.047304827874325314, 0.05396210959793203]\n",
      "[439, 0.04739345515854809, 0.05405073688215481]\n",
      "[440, 0.04748208244277087, 0.05413936416637758]\n",
      "[442, 0.04757062020448433, 0.054316439689804506]\n",
      "[443, 0.047659128125361355, 0.05440494761068153]\n",
      "[444, 0.047747606205401937, 0.05449342569072211]\n",
      "[445, 0.04783602460376964, 0.054581844089089816]\n",
      "[446, 0.04792441316130091, 0.05467023264662108]\n",
      "[447, 0.04801280171883218, 0.054758621204152355]\n",
      "[449, 0.04810101123134482, 0.05493515959252338]\n",
      "[450, 0.04818919090302101, 0.055023339264199576]\n",
      "[451, 0.04827728105218789, 0.055111429413366456]\n",
      "[453, 0.048365311519681896, 0.055287520189190906]\n",
      "[454, 0.0484533419871759, 0.0553755506566849]\n",
      "[455, 0.04854122325048771, 0.05546343191999672]\n",
      "[456, 0.04862907467296308, 0.05555128334247209]\n",
      "[457, 0.048716866413765575, 0.055639075083274585]\n",
      "[459, 0.04880450895038588, 0.05581450936069738]\n",
      "[460, 0.048892061964496865, 0.05590206237480837]\n",
      "[461, 0.04897958513777141, 0.055989585548082914]\n",
      "[462, 0.04906701878853664, 0.056077019198848145]\n",
      "[463, 0.04915436291679256, 0.05616436332710406]\n",
      "[464, 0.04924158768170272, 0.05625158809201422]\n",
      "[465, 0.04932881244661288, 0.05633881285692438]\n",
      "[469, 0.04941579848483153, 0.05668699573649049]\n",
      "[472, 0.04950227722883072, 0.05694679005852534]\n",
      "[473, 0.04958872613199348, 0.0570332389616881]\n",
      "[474, 0.049675175035156234, 0.05711968786485085]\n",
      "[475, 0.049761564256646115, 0.05720607708634073]\n",
      "[476, 0.04984783411479024, 0.05729234694448485]\n",
      "[478, 0.049934044291261484, 0.05746479713826379]\n",
      "[481, 0.05002016494522341, 0.057723218781822454]\n",
      "[482, 0.050106225917512466, 0.05780927975411151]\n",
      "[483, 0.050192227208128645, 0.05789528104472769]\n",
      "[484, 0.050278198657908384, 0.05798125249450742]\n",
      "[485, 0.05036414026685168, 0.05806719410345072]\n",
      "[486, 0.05044996251244922, 0.058153016349048264]\n",
      "[487, 0.05053575491721033, 0.05823880875380937]\n",
      "[488, 0.050621517481135, 0.05832457131773404]\n",
      "[489, 0.05070722036338678, 0.058410274199985825]\n",
      "[490, 0.050792893404802135, 0.058495947241401176]\n",
      "[491, 0.05087847692370817, 0.05858153076030721]\n",
      "[492, 0.05096403060177777, 0.05866708443837681]\n",
      "[493, 0.05104958427984736, 0.058752638116446404]\n",
      "[494, 0.05113513795791696, 0.058838191794516]\n",
      "[496, 0.05122066179515012, 0.059009239468982316]\n",
      "[497, 0.05130609610987396, 0.059094673783706156]\n",
      "[498, 0.051391500583761365, 0.05918007825759356]\n",
      "[499, 0.05147684537597589, 0.059265423049808086]\n",
      "[500, 0.051562190168190414, 0.05935076784202261]\n",
      "[501, 0.05164753496040494, 0.059436112634237134]\n",
      "[502, 0.05173282007094659, 0.059521397744778784]\n",
      "[503, 0.05181810518148824, 0.059606682855320434]\n",
      "[504, 0.051903360451193446, 0.05969193812502564]\n",
      "[505, 0.05198855603922578, 0.05977713371305798]\n",
      "[506, 0.05207366210474879, 0.059862239778580996]\n",
      "[507, 0.052158648806926056, 0.05994722648075826]\n",
      "[508, 0.052243605668266885, 0.06003218334209908]\n",
      "[510, 0.052328532688771266, 0.060202067223944285]\n",
      "[511, 0.05241340002760277, 0.06028693456277579]\n",
      "[513, 0.05249811816225209, 0.060456490195420175]\n",
      "[514, 0.0525828362969014, 0.06054120833006949]\n",
      "[515, 0.05266755443155072, 0.06062592646471881]\n",
      "[516, 0.05275224272536359, 0.060710614758531685]\n",
      "[517, 0.05283690117834003, 0.06079527321150812]\n",
      "[518, 0.052921410427134274, 0.06087978246030236]\n",
      "[519, 0.05300585999425564, 0.06096423202742373]\n",
      "[520, 0.053090309561377, 0.061048681594545094]\n",
      "[522, 0.05317469944682549, 0.061217491206278514]\n",
      "[523, 0.05325908933227398, 0.061301881091727004]\n",
      "[525, 0.053343389695213156, 0.061470541499278226]\n",
      "[526, 0.053427630376479456, 0.06155478218054452]\n",
      "[527, 0.05351187105774575, 0.06163902286181082]\n",
      "[528, 0.053596022216502726, 0.061723174020567796]\n",
      "[529, 0.05368011369358683, 0.0618072654976519]\n",
      "[530, 0.0537641753298345, 0.06189132713389956]\n",
      "[531, 0.05384820712524572, 0.06197535892931079]\n",
      "[532, 0.05393223892065695, 0.06205939072472201]\n",
      "[533, 0.054016240875231734, 0.0621433926792968]\n",
      "[534, 0.05410015330729721, 0.06222730511136227]\n",
      "[535, 0.0541838568535076, 0.06231100865757267]\n",
      "[536, 0.05426750071804513, 0.0623946525221102]\n",
      "[537, 0.05435114458258265, 0.062478296386647716]\n",
      "[538, 0.05443475860628373, 0.06256191041034881]\n",
      "[539, 0.05451837262998482, 0.06264552443404989]\n",
      "[540, 0.054601867290340146, 0.06272901909440522]\n",
      "[541, 0.05468533210985904, 0.0628124839139241]\n",
      "[542, 0.05476876708854149, 0.06289591889260655]\n",
      "[543, 0.054852202067223944, 0.06297935387128901]\n",
      "[545, 0.0549354878417242, 0.06314592542028953]\n",
      "[546, 0.055018684093715145, 0.06322912167228048]\n",
      "[547, 0.05510188034570609, 0.06331231792427142]\n",
      "[548, 0.055185016916024156, 0.06339545449458948]\n",
      "[550, 0.05526812364550578, 0.06356166795355274]\n",
      "[551, 0.05535123037498741, 0.06364477468303437]\n",
      "[552, 0.0554343072636326, 0.06372785157167955]\n",
      "[553, 0.05551735431144135, 0.0638108986194883]\n",
      "[554, 0.0556004013592501, 0.06389394566729706]\n",
      "[555, 0.05568335888454953, 0.06397690319259648]\n",
      "[557, 0.05576607768315746, 0.06414234078981233]\n",
      "[558, 0.05584876664092894, 0.06422502974758383]\n",
      "[559, 0.055931425757863994, 0.06430768886451887]\n",
      "[561, 0.05601396551145329, 0.06447282805337033]\n",
      "[562, 0.056096505265042576, 0.06455536780695963]\n",
      "[565, 0.05617889581444968, 0.06480277818187244]\n",
      "[566, 0.05626125652302034, 0.0648851388904431]\n"
     ]
    },
    {
     "name": "stdout",
     "output_type": "stream",
     "text": [
      "[567, 0.056343617231591, 0.06496749959901377]\n",
      "[569, 0.056425888417652344, 0.06513207181197289]\n",
      "[570, 0.05650812976287725, 0.06521431315719779]\n",
      "[571, 0.05659034126726572, 0.06529652466158627]\n",
      "[573, 0.056672552771654186, 0.0654609476703632]\n",
      "[574, 0.05675473443520622, 0.06554312933391523]\n",
      "[575, 0.05683685641708537, 0.06562525131579439]\n",
      "[576, 0.05691894855812808, 0.0657073434568371]\n",
      "[577, 0.0570010406991708, 0.06578943559787981]\n",
      "[578, 0.05708310299937707, 0.06587149789808608]\n",
      "[579, 0.05716507577707403, 0.06595347067578304]\n",
      "[580, 0.057247018713934554, 0.06603541361264356]\n",
      "[582, 0.05732887212828575, 0.06619915028218241]\n",
      "[583, 0.05741072554263696, 0.06628100369653361]\n",
      "[584, 0.05749237007113309, 0.06636264822502974]\n",
      "[585, 0.05757401459962923, 0.06644429275352588]\n",
      "[586, 0.05765556960561605, 0.0665258477595127]\n",
      "[587, 0.057737124611602866, 0.06660740276549952]\n",
      "[588, 0.057818649776753245, 0.0666889279306499]\n",
      "[589, 0.05790014510106718, 0.06677042325496384]\n",
      "[590, 0.057981580743708246, 0.0668518588976049]\n",
      "[591, 0.05806301638634931, 0.06693329454024596]\n",
      "[592, 0.05814442218815393, 0.06701470034205059]\n",
      "[593, 0.058225738467449245, 0.0670960166213459]\n",
      "[594, 0.05830705474674455, 0.0671773329006412]\n",
      "[595, 0.05838834118520342, 0.06725861933910007]\n",
      "[597, 0.05846956794198942, 0.06742113253434494]\n",
      "[598, 0.05855073501710253, 0.06750229960945806]\n",
      "[599, 0.05863184241054277, 0.06758340700289829]\n",
      "[600, 0.05871283044063725, 0.06766439503299278]\n",
      "[602, 0.05879372894822242, 0.06782628157067243]\n",
      "[603, 0.05887456777413471, 0.06790712039658471]\n",
      "[604, 0.05895522755502837, 0.06798778017747838]\n",
      "[605, 0.05903588733592203, 0.06806843995837203]\n",
      "[606, 0.05911651727597925, 0.06814906989842925]\n",
      "[607, 0.059197147216036465, 0.06822969983848648]\n",
      "[608, 0.05927774731525725, 0.06831029993770725]\n",
      "[609, 0.05935828773280515, 0.06839084035525515]\n",
      "[610, 0.059438828150353056, 0.06847138077280306]\n",
      "[611, 0.05951936856790096, 0.06855192119035096]\n",
      "[612, 0.05959987914461242, 0.06863243176706244]\n",
      "[613, 0.05968038972132389, 0.0687129423437739]\n",
      "[614, 0.05976087045719892, 0.06879342307964892]\n",
      "[615, 0.059841261670564624, 0.06887381429301463]\n",
      "[616, 0.059921593202257456, 0.06895414582470746]\n",
      "[617, 0.060001894893113854, 0.06903444751556387]\n",
      "[618, 0.06008216674313381, 0.06911471936558382]\n",
      "[619, 0.06016243859315377, 0.06919499121560377]\n",
      "[620, 0.060242680602337284, 0.06927523322478729]\n",
      "[621, 0.060322862929847926, 0.06935541555229793]\n",
      "[622, 0.060402955734849245, 0.06943550835729925]\n",
      "[623, 0.060482929176504815, 0.06951548179895482]\n",
      "[624, 0.06056281309565107, 0.06959536571810108]\n",
      "[625, 0.060642697014797325, 0.06967524963724733]\n",
      "[626, 0.0607225212522707, 0.06975507387472071]\n",
      "[627, 0.06080231564890764, 0.06983486827135765]\n",
      "[628, 0.06088208020470814, 0.06991463282715815]\n",
      "[629, 0.060961814919672196, 0.06999436754212221]\n",
      "[630, 0.06104154963463626, 0.07007410225708627]\n",
      "[633, 0.06112113514541813, 0.07031309751612337]\n",
      "[634, 0.061200690815363556, 0.0703926531860688]\n",
      "[635, 0.06128021664447254, 0.0704721790151778]\n",
      "[636, 0.06135965295107222, 0.07055161532177746]\n",
      "[637, 0.06143908925767189, 0.07063105162837714]\n",
      "[638, 0.061518525564271564, 0.07071048793497682]\n",
      "[639, 0.06159796187087124, 0.07078992424157649]\n",
      "[640, 0.06167733849579804, 0.07086930086650328]\n",
      "[641, 0.061756655439051955, 0.07094861780975721]\n",
      "[642, 0.06183597238230588, 0.07102793475301113]\n",
      "[643, 0.06191528932555979, 0.07110725169626504]\n",
      "[644, 0.06199454658714084, 0.07118650895784609]\n",
      "[645, 0.06207377400788544, 0.0712657363785907]\n",
      "[646, 0.06215297158779361, 0.07134493395849886]\n",
      "[647, 0.06223213932686533, 0.07142410169757059]\n",
      "[649, 0.06231121754342774, 0.07158231781236828]\n",
      "[650, 0.06239029575999015, 0.0716613960289307]\n",
      "[651, 0.06246937397655256, 0.0717404742454931]\n",
      "[652, 0.06254842235227853, 0.07181952262121907]\n",
      "[653, 0.06262744088716807, 0.07189854115610861]\n",
      "[654, 0.06270642958122116, 0.0719775298501617]\n",
      "[655, 0.06278541827527426, 0.0720565185442148]\n",
      "[656, 0.06286440696932735, 0.07213550723826789]\n",
      "[658, 0.06294330614087112, 0.07229330558135545]\n",
      "[660, 0.06302211578990559, 0.07245098456109725]\n",
      "[661, 0.06310089559810361, 0.07252976436929527]\n",
      "[662, 0.0631796455654652, 0.07260851433665685]\n",
      "[663, 0.06325836569199035, 0.072687234463182]\n",
      "[664, 0.06333708581851549, 0.07276595458970715]\n",
      "[665, 0.06341574626336777, 0.07284461503455941]\n",
      "[666, 0.06349431718571072, 0.07292318595690238]\n",
      "[667, 0.06357285826721723, 0.07300172703840889]\n",
      "[668, 0.0636513695078873, 0.07308023827907896]\n",
      "[669, 0.0637298210668845, 0.07315868983807616]\n",
      "[670, 0.06380824278504527, 0.07323711155623693]\n",
      "[671, 0.06388666450320603, 0.07331553327439769]\n",
      "[672, 0.06396505638053035, 0.07339392515172201]\n",
      "[673, 0.06404341841701823, 0.07347228718820989]\n",
      "[675, 0.06412172077183323, 0.07362892173867633]\n",
      "[676, 0.0641999932858118, 0.0737071942526549]\n",
      "[677, 0.06427826579979037, 0.07378546676663347]\n",
      "[678, 0.06435650847293249, 0.07386370943977559]\n",
      "[680, 0.06443469146440174, 0.07402010526355053]\n",
      "[681, 0.06451287445587099, 0.07409828825501978]\n",
      "[682, 0.06459102760650381, 0.0741764414056526]\n",
      "[683, 0.06466915091630018, 0.07425456471544897]\n",
      "[684, 0.06474727422609655, 0.07433268802524534]\n",
      "[685, 0.0648253676950565, 0.07441078149420528]\n",
      "[686, 0.06490343132318, 0.07448884512232878]\n",
      "[687, 0.06498137558795773, 0.07456678938710652]\n",
      "[688, 0.06505931985273547, 0.07464473365188426]\n",
      "[690, 0.06513714475416746, 0.07480047297725756]\n",
      "[691, 0.06521488013309013, 0.07487820835618023]\n",
      "[692, 0.06529252598950348, 0.07495585421259358]\n",
      "[693, 0.06537017184591684, 0.07503350006900693]\n",
      "[694, 0.06544775802065732, 0.07511108624374742]\n",
      "[695, 0.06552531435456135, 0.07518864257765145]\n",
      "[696, 0.06560284084762896, 0.07526616907071905]\n",
      "[697, 0.06568033749986012, 0.07534366572295022]\n",
      "[698, 0.06575780431125484, 0.07542113253434493]\n",
      "[699, 0.06583527112264957, 0.07549859934573966]\n",
      "[700, 0.06591267825237142, 0.0755760064754615]\n",
      "[701, 0.06599005554125682, 0.07565338376434691]\n",
      "[702, 0.06606740298930579, 0.07573073121239589]\n",
      "[703, 0.06614475043735477, 0.07580807866044485]\n",
      "[704, 0.06622206804456729, 0.07588539626765738]\n",
      "[706, 0.06629932597010695, 0.07603997180040957]\n",
      "[707, 0.06637652421397372, 0.07611717004427634]\n",
      "[708, 0.06645363293533117, 0.0761942787656338]\n",
      "[709, 0.06653068197501576, 0.07627132780531838]\n",
      "[710, 0.06660764149219102, 0.07634828732249364]\n",
      "[711, 0.0666846010093663, 0.07642524683966892]\n",
      "[712, 0.06676147100403225, 0.07650211683433486]\n",
      "[713, 0.06683834099869819, 0.07657898682900081]\n",
      "[714, 0.0669151811525277, 0.07665582698283033]\n",
      "[715, 0.06699202130635722, 0.07673266713665984]\n",
      "[716, 0.06706877193767741, 0.07680941776798003]\n",
      "[718, 0.06714546288732473, 0.07696282950811112]\n",
      "[719, 0.06722212399613561, 0.07703949061692199]\n",
      "[720, 0.06729872542327361, 0.07711609204405999]\n",
      "[721, 0.06737532685041162, 0.077192693471198]\n",
      "[722, 0.06745189843671318, 0.07726926505749956]\n",
      "[723, 0.06752847002301475, 0.07734583664380112]\n",
      "[724, 0.06760498192764343, 0.07742234854842982]\n",
      "[725, 0.06768146399143568, 0.07749883061222206]\n",
      "[726, 0.06775788637355505, 0.07757525299434143]\n",
      "[727, 0.06783427891483798, 0.07765164553562437]\n",
      "[728, 0.06791067145612091, 0.0777280380769073]\n",
      "[729, 0.06798703415656741, 0.07780440077735379]\n",
      "[730, 0.0680633968570139, 0.07788076347780028]\n",
      "[731, 0.06813972971662395, 0.07795709633741034]\n",
      "[732, 0.06821600289456113, 0.07803336951534752]\n",
      "[733, 0.06829227607249831, 0.07810964269328469]\n",
      "[734, 0.0683684000462533, 0.07818576666703968]\n",
      "[735, 0.06844452402000828, 0.07826189064079467]\n",
      "[736, 0.06852061815292683, 0.0783379847737132]\n",
      "[737, 0.06859659292249962, 0.078413959543286]\n",
      "[738, 0.0686725676920724, 0.07848993431285879]\n",
      "[739, 0.0687485424616452, 0.07856590908243158]\n",
      "[741, 0.06882448739038155, 0.07871779893990428]\n",
      "[742, 0.06890043231911791, 0.07879374386864063]\n",
      "[743, 0.06897634740701782, 0.07886965895654055]\n",
      "[745, 0.06905226249491773, 0.07902148913234038]\n",
      "[746, 0.06912811790114477, 0.07909734453856741]\n",
      "[747, 0.06920397330737181, 0.07917319994479445]\n",
      "[748, 0.06927970935025309, 0.07924893598767574]\n",
      "[749, 0.06935526634811574, 0.07932449298553838]\n",
      "[750, 0.0694307636643055, 0.07939999030172816]\n",
      "[751, 0.0695062012988224, 0.07947542793624505]\n",
      "[752, 0.06958157925166643, 0.07955080588908907]\n",
      "[753, 0.06965695720451044, 0.0796261838419331]\n",
      "[754, 0.06973224563484515, 0.07970147227226779]\n",
      "[755, 0.06980750422434341, 0.07977673086176605]\n"
     ]
    },
    {
     "name": "stdout",
     "output_type": "stream",
     "text": [
      "[756, 0.06988273297300523, 0.07985195961042788]\n",
      "[757, 0.06995793188083062, 0.07992715851825327]\n",
      "[758, 0.07003307110698313, 0.08000229774440577]\n",
      "[759, 0.07010821033313563, 0.08007743697055829]\n",
      "[760, 0.07018331971845171, 0.08015254635587435]\n",
      "[761, 0.0702583694220949, 0.08022759605951754]\n",
      "[762, 0.07033338928490165, 0.08030261592232431]\n",
      "[763, 0.0704083196251991, 0.08037754626262174]\n",
      "[764, 0.07048313060215078, 0.08045235723957342]\n",
      "[765, 0.07055788189742959, 0.08052710853485223]\n",
      "[766, 0.07063263319270839, 0.08060185983013105]\n",
      "[767, 0.07070735464715076, 0.0806765812845734]\n",
      "[768, 0.07078207610159312, 0.08075130273901578]\n",
      "[769, 0.07085676771519905, 0.08082599435262171]\n",
      "[770, 0.07093145932880499, 0.08090068596622764]\n",
      "[772, 0.07100603157906517, 0.08104989014842086]\n",
      "[773, 0.07108060382932534, 0.08112446239868104]\n",
      "[774, 0.07115514623874908, 0.08119900480810477]\n",
      "[775, 0.07122965880733637, 0.08127351737669207]\n",
      "[776, 0.07130411169425079, 0.08134797026360649]\n",
      "[778, 0.0713784750586559, 0.08149675667408958]\n",
      "[779, 0.071452838423061, 0.08157112003849468]\n",
      "[780, 0.07152711226495678, 0.08164539388039047]\n",
      "[782, 0.07160135626601613, 0.08179388188250916]\n",
      "[783, 0.07167548090372973, 0.08186800652022276]\n",
      "[784, 0.07174954585977045, 0.08194207147626348]\n",
      "[785, 0.07182355113413828, 0.08201607675063131]\n",
      "[786, 0.07189755640850613, 0.08209008202499916]\n",
      "[787, 0.07197150200120109, 0.08216402761769412]\n",
      "[788, 0.07204541775305962, 0.08223794336955265]\n",
      "[789, 0.0721193036640817, 0.08231182928057473]\n",
      "[790, 0.07219315973426735, 0.08238568535076038]\n",
      "[791, 0.07226698596361655, 0.08245951158010958]\n",
      "[792, 0.07234078235212933, 0.08253330796862236]\n",
      "[793, 0.07241454889980566, 0.08260707451629869]\n",
      "[794, 0.07248822592497267, 0.0826807515414657]\n",
      "[795, 0.07256184326846682, 0.08275436888495985]\n",
      "[796, 0.07263546061196095, 0.08282798622845398]\n",
      "[797, 0.07270904811461865, 0.08290157373111168]\n",
      "[798, 0.07278263561727635, 0.08297516123376938]\n",
      "[799, 0.07285619327909762, 0.08304871889559064]\n",
      "[800, 0.07292972110008243, 0.08312224671657546]\n",
      "[801, 0.07300324892106726, 0.08319577453756029]\n",
      "[802, 0.07307674690121564, 0.08326927251770867]\n",
      "[803, 0.07315012551801826, 0.0833426511345113]\n",
      "[805, 0.07322341461231158, 0.08348922932309792]\n",
      "[806, 0.07329667386576846, 0.0835624885765548]\n",
      "[807, 0.07336993311922534, 0.08363574783001168]\n",
      "[808, 0.07344316253184577, 0.08370897724263211]\n",
      "[810, 0.07351630242195689, 0.08385531670452723]\n",
      "[811, 0.073589442312068, 0.08392845659463835]\n",
      "[812, 0.07366255236134268, 0.08400156664391303]\n",
      "[813, 0.07373566241061737, 0.08407467669318772]\n",
      "[814, 0.07380877245989205, 0.08414778674246239]\n",
      "[815, 0.07388185266833029, 0.08422086695090063]\n",
      "[816, 0.07395493287676853, 0.08429394715933887]\n",
      "[817, 0.0740279534035339, 0.08436696768610424]\n",
      "[818, 0.07410094408946283, 0.08443995837203316]\n",
      "[819, 0.07417390493455532, 0.08451291921712566]\n",
      "[820, 0.07424680609797493, 0.08458582038054527]\n",
      "[821, 0.07431964757972166, 0.084658661862292]\n",
      "[823, 0.07439242937979551, 0.08480422546243971]\n",
      "[824, 0.07446518133903293, 0.08487697742167713]\n",
      "[825, 0.07453784377576103, 0.08494963985840523]\n",
      "[826, 0.0746104763716527, 0.08502227245429689]\n",
      "[827, 0.07468304928587148, 0.08509484536851568]\n",
      "[828, 0.07475559235925383, 0.08516738844189803]\n",
      "[829, 0.07482810559179974, 0.08523990167444394]\n",
      "[830, 0.07490058898350921, 0.0853123850661534]\n",
      "[831, 0.07497304253438224, 0.08538483861702643]\n",
      "[832, 0.07504546624441884, 0.08545726232706302]\n",
      "[833, 0.07511788995445542, 0.08552968603709962]\n",
      "[835, 0.07519028382365557, 0.08567450361633637]\n",
      "[836, 0.07526267769285573, 0.08574689748553652]\n",
      "[837, 0.07533504172121945, 0.08581926151390024]\n",
      "[838, 0.07540740574958316, 0.08589162554226396]\n",
      "[839, 0.07547973993711043, 0.08596395972979122]\n",
      "[840, 0.07555207412463771, 0.0860362939173185]\n",
      "[841, 0.07562437847132855, 0.08610859826400934]\n",
      "[843, 0.07569665297718295, 0.08625314727571814]\n",
      "[844, 0.07576886780136448, 0.08632536209989966]\n",
      "[845, 0.075841082625546, 0.08639757692408118]\n"
     ]
    },
    {
     "ename": "KeyboardInterrupt",
     "evalue": "",
     "output_type": "error",
     "traceback": [
      "\u001b[1;31m---------------------------------------------------------------------------\u001b[0m",
      "\u001b[1;31mKeyboardInterrupt\u001b[0m                         Traceback (most recent call last)",
      "\u001b[1;32m<ipython-input-68-464fa0058c34>\u001b[0m in \u001b[0;36m<module>\u001b[1;34m\u001b[0m\n\u001b[0;32m      3\u001b[0m \u001b[1;32mfor\u001b[0m \u001b[0mctr\u001b[0m\u001b[1;33m,\u001b[0m\u001b[0mf\u001b[0m \u001b[1;32min\u001b[0m \u001b[0menumerate\u001b[0m\u001b[1;33m(\u001b[0m\u001b[0mpairs\u001b[0m\u001b[1;33m[\u001b[0m\u001b[1;33m:\u001b[0m\u001b[1;33m,\u001b[0m\u001b[1;36m0\u001b[0m\u001b[1;33m]\u001b[0m\u001b[1;33m)\u001b[0m\u001b[1;33m:\u001b[0m\u001b[1;33m\u001b[0m\u001b[1;33m\u001b[0m\u001b[0m\n\u001b[0;32m      4\u001b[0m     \u001b[0mpool_class\u001b[0m\u001b[1;33m.\u001b[0m\u001b[0mset_data\u001b[0m\u001b[1;33m(\u001b[0m\u001b[0mf\u001b[0m\u001b[1;33m)\u001b[0m\u001b[1;33m\u001b[0m\u001b[1;33m\u001b[0m\u001b[0m\n\u001b[1;32m----> 5\u001b[1;33m     \u001b[0ms\u001b[0m\u001b[1;33m=\u001b[0m \u001b[1;33m(\u001b[0m\u001b[0mpool\u001b[0m\u001b[1;33m.\u001b[0m\u001b[0mmap\u001b[0m\u001b[1;33m(\u001b[0m\u001b[0mpool_class\u001b[0m\u001b[1;33m.\u001b[0m\u001b[0mmyfu\u001b[0m\u001b[1;33m,\u001b[0m \u001b[1;33m(\u001b[0m\u001b[0mlst\u001b[0m\u001b[1;33m)\u001b[0m\u001b[1;33m)\u001b[0m\u001b[1;33m)\u001b[0m\u001b[1;33m\u001b[0m\u001b[1;33m\u001b[0m\u001b[0m\n\u001b[0m\u001b[0;32m      6\u001b[0m     \u001b[0mbest_match\u001b[0m\u001b[1;33m=\u001b[0m\u001b[0mdf\u001b[0m\u001b[1;33m[\u001b[0m\u001b[1;34m'BridgedBarcode'\u001b[0m\u001b[1;33m]\u001b[0m\u001b[1;33m[\u001b[0m\u001b[0mnp\u001b[0m\u001b[1;33m.\u001b[0m\u001b[0margmax\u001b[0m\u001b[1;33m(\u001b[0m\u001b[0ms\u001b[0m\u001b[1;33m)\u001b[0m\u001b[1;33m]\u001b[0m\u001b[1;33m\u001b[0m\u001b[1;33m\u001b[0m\u001b[0m\n\u001b[0;32m      7\u001b[0m     \u001b[0mb\u001b[0m\u001b[1;33m=\u001b[0m\u001b[0mpairwise2\u001b[0m\u001b[1;33m.\u001b[0m\u001b[0malign\u001b[0m\u001b[1;33m.\u001b[0m\u001b[0mglobalms\u001b[0m\u001b[1;33m(\u001b[0m\u001b[0mbest_match\u001b[0m\u001b[1;33m,\u001b[0m\u001b[0mf\u001b[0m\u001b[1;33m,\u001b[0m \u001b[1;36m1\u001b[0m\u001b[1;33m,\u001b[0m \u001b[1;33m-\u001b[0m\u001b[1;36m1\u001b[0m\u001b[1;33m,\u001b[0m \u001b[1;33m-\u001b[0m\u001b[1;36m1\u001b[0m\u001b[1;33m,\u001b[0m \u001b[1;33m-\u001b[0m\u001b[1;36m1\u001b[0m\u001b[1;33m,\u001b[0m \u001b[0mpenalize_end_gaps\u001b[0m\u001b[1;33m=\u001b[0m\u001b[1;32mFalse\u001b[0m\u001b[1;33m,\u001b[0m \u001b[0mone_alignment_only\u001b[0m\u001b[1;33m=\u001b[0m\u001b[1;32mTrue\u001b[0m\u001b[1;33m)\u001b[0m\u001b[1;33m\u001b[0m\u001b[1;33m\u001b[0m\u001b[0m\n",
      "\u001b[1;32m~\\Anaconda3\\lib\\multiprocessing\\pool.py\u001b[0m in \u001b[0;36mmap\u001b[1;34m(self, func, iterable, chunksize)\u001b[0m\n\u001b[0;32m    266\u001b[0m         \u001b[1;32min\u001b[0m \u001b[0ma\u001b[0m \u001b[0mlist\u001b[0m \u001b[0mthat\u001b[0m \u001b[1;32mis\u001b[0m \u001b[0mreturned\u001b[0m\u001b[1;33m.\u001b[0m\u001b[1;33m\u001b[0m\u001b[1;33m\u001b[0m\u001b[0m\n\u001b[0;32m    267\u001b[0m         '''\n\u001b[1;32m--> 268\u001b[1;33m         \u001b[1;32mreturn\u001b[0m \u001b[0mself\u001b[0m\u001b[1;33m.\u001b[0m\u001b[0m_map_async\u001b[0m\u001b[1;33m(\u001b[0m\u001b[0mfunc\u001b[0m\u001b[1;33m,\u001b[0m \u001b[0miterable\u001b[0m\u001b[1;33m,\u001b[0m \u001b[0mmapstar\u001b[0m\u001b[1;33m,\u001b[0m \u001b[0mchunksize\u001b[0m\u001b[1;33m)\u001b[0m\u001b[1;33m.\u001b[0m\u001b[0mget\u001b[0m\u001b[1;33m(\u001b[0m\u001b[1;33m)\u001b[0m\u001b[1;33m\u001b[0m\u001b[1;33m\u001b[0m\u001b[0m\n\u001b[0m\u001b[0;32m    269\u001b[0m \u001b[1;33m\u001b[0m\u001b[0m\n\u001b[0;32m    270\u001b[0m     \u001b[1;32mdef\u001b[0m \u001b[0mstarmap\u001b[0m\u001b[1;33m(\u001b[0m\u001b[0mself\u001b[0m\u001b[1;33m,\u001b[0m \u001b[0mfunc\u001b[0m\u001b[1;33m,\u001b[0m \u001b[0miterable\u001b[0m\u001b[1;33m,\u001b[0m \u001b[0mchunksize\u001b[0m\u001b[1;33m=\u001b[0m\u001b[1;32mNone\u001b[0m\u001b[1;33m)\u001b[0m\u001b[1;33m:\u001b[0m\u001b[1;33m\u001b[0m\u001b[1;33m\u001b[0m\u001b[0m\n",
      "\u001b[1;32m~\\Anaconda3\\lib\\multiprocessing\\pool.py\u001b[0m in \u001b[0;36mget\u001b[1;34m(self, timeout)\u001b[0m\n\u001b[0;32m    649\u001b[0m \u001b[1;33m\u001b[0m\u001b[0m\n\u001b[0;32m    650\u001b[0m     \u001b[1;32mdef\u001b[0m \u001b[0mget\u001b[0m\u001b[1;33m(\u001b[0m\u001b[0mself\u001b[0m\u001b[1;33m,\u001b[0m \u001b[0mtimeout\u001b[0m\u001b[1;33m=\u001b[0m\u001b[1;32mNone\u001b[0m\u001b[1;33m)\u001b[0m\u001b[1;33m:\u001b[0m\u001b[1;33m\u001b[0m\u001b[1;33m\u001b[0m\u001b[0m\n\u001b[1;32m--> 651\u001b[1;33m         \u001b[0mself\u001b[0m\u001b[1;33m.\u001b[0m\u001b[0mwait\u001b[0m\u001b[1;33m(\u001b[0m\u001b[0mtimeout\u001b[0m\u001b[1;33m)\u001b[0m\u001b[1;33m\u001b[0m\u001b[1;33m\u001b[0m\u001b[0m\n\u001b[0m\u001b[0;32m    652\u001b[0m         \u001b[1;32mif\u001b[0m \u001b[1;32mnot\u001b[0m \u001b[0mself\u001b[0m\u001b[1;33m.\u001b[0m\u001b[0mready\u001b[0m\u001b[1;33m(\u001b[0m\u001b[1;33m)\u001b[0m\u001b[1;33m:\u001b[0m\u001b[1;33m\u001b[0m\u001b[1;33m\u001b[0m\u001b[0m\n\u001b[0;32m    653\u001b[0m             \u001b[1;32mraise\u001b[0m \u001b[0mTimeoutError\u001b[0m\u001b[1;33m\u001b[0m\u001b[1;33m\u001b[0m\u001b[0m\n",
      "\u001b[1;32m~\\Anaconda3\\lib\\multiprocessing\\pool.py\u001b[0m in \u001b[0;36mwait\u001b[1;34m(self, timeout)\u001b[0m\n\u001b[0;32m    646\u001b[0m \u001b[1;33m\u001b[0m\u001b[0m\n\u001b[0;32m    647\u001b[0m     \u001b[1;32mdef\u001b[0m \u001b[0mwait\u001b[0m\u001b[1;33m(\u001b[0m\u001b[0mself\u001b[0m\u001b[1;33m,\u001b[0m \u001b[0mtimeout\u001b[0m\u001b[1;33m=\u001b[0m\u001b[1;32mNone\u001b[0m\u001b[1;33m)\u001b[0m\u001b[1;33m:\u001b[0m\u001b[1;33m\u001b[0m\u001b[1;33m\u001b[0m\u001b[0m\n\u001b[1;32m--> 648\u001b[1;33m         \u001b[0mself\u001b[0m\u001b[1;33m.\u001b[0m\u001b[0m_event\u001b[0m\u001b[1;33m.\u001b[0m\u001b[0mwait\u001b[0m\u001b[1;33m(\u001b[0m\u001b[0mtimeout\u001b[0m\u001b[1;33m)\u001b[0m\u001b[1;33m\u001b[0m\u001b[1;33m\u001b[0m\u001b[0m\n\u001b[0m\u001b[0;32m    649\u001b[0m \u001b[1;33m\u001b[0m\u001b[0m\n\u001b[0;32m    650\u001b[0m     \u001b[1;32mdef\u001b[0m \u001b[0mget\u001b[0m\u001b[1;33m(\u001b[0m\u001b[0mself\u001b[0m\u001b[1;33m,\u001b[0m \u001b[0mtimeout\u001b[0m\u001b[1;33m=\u001b[0m\u001b[1;32mNone\u001b[0m\u001b[1;33m)\u001b[0m\u001b[1;33m:\u001b[0m\u001b[1;33m\u001b[0m\u001b[1;33m\u001b[0m\u001b[0m\n",
      "\u001b[1;32m~\\Anaconda3\\lib\\threading.py\u001b[0m in \u001b[0;36mwait\u001b[1;34m(self, timeout)\u001b[0m\n\u001b[0;32m    550\u001b[0m             \u001b[0msignaled\u001b[0m \u001b[1;33m=\u001b[0m \u001b[0mself\u001b[0m\u001b[1;33m.\u001b[0m\u001b[0m_flag\u001b[0m\u001b[1;33m\u001b[0m\u001b[1;33m\u001b[0m\u001b[0m\n\u001b[0;32m    551\u001b[0m             \u001b[1;32mif\u001b[0m \u001b[1;32mnot\u001b[0m \u001b[0msignaled\u001b[0m\u001b[1;33m:\u001b[0m\u001b[1;33m\u001b[0m\u001b[1;33m\u001b[0m\u001b[0m\n\u001b[1;32m--> 552\u001b[1;33m                 \u001b[0msignaled\u001b[0m \u001b[1;33m=\u001b[0m \u001b[0mself\u001b[0m\u001b[1;33m.\u001b[0m\u001b[0m_cond\u001b[0m\u001b[1;33m.\u001b[0m\u001b[0mwait\u001b[0m\u001b[1;33m(\u001b[0m\u001b[0mtimeout\u001b[0m\u001b[1;33m)\u001b[0m\u001b[1;33m\u001b[0m\u001b[1;33m\u001b[0m\u001b[0m\n\u001b[0m\u001b[0;32m    553\u001b[0m             \u001b[1;32mreturn\u001b[0m \u001b[0msignaled\u001b[0m\u001b[1;33m\u001b[0m\u001b[1;33m\u001b[0m\u001b[0m\n\u001b[0;32m    554\u001b[0m \u001b[1;33m\u001b[0m\u001b[0m\n",
      "\u001b[1;32m~\\Anaconda3\\lib\\threading.py\u001b[0m in \u001b[0;36mwait\u001b[1;34m(self, timeout)\u001b[0m\n\u001b[0;32m    294\u001b[0m         \u001b[1;32mtry\u001b[0m\u001b[1;33m:\u001b[0m    \u001b[1;31m# restore state no matter what (e.g., KeyboardInterrupt)\u001b[0m\u001b[1;33m\u001b[0m\u001b[1;33m\u001b[0m\u001b[0m\n\u001b[0;32m    295\u001b[0m             \u001b[1;32mif\u001b[0m \u001b[0mtimeout\u001b[0m \u001b[1;32mis\u001b[0m \u001b[1;32mNone\u001b[0m\u001b[1;33m:\u001b[0m\u001b[1;33m\u001b[0m\u001b[1;33m\u001b[0m\u001b[0m\n\u001b[1;32m--> 296\u001b[1;33m                 \u001b[0mwaiter\u001b[0m\u001b[1;33m.\u001b[0m\u001b[0macquire\u001b[0m\u001b[1;33m(\u001b[0m\u001b[1;33m)\u001b[0m\u001b[1;33m\u001b[0m\u001b[1;33m\u001b[0m\u001b[0m\n\u001b[0m\u001b[0;32m    297\u001b[0m                 \u001b[0mgotit\u001b[0m \u001b[1;33m=\u001b[0m \u001b[1;32mTrue\u001b[0m\u001b[1;33m\u001b[0m\u001b[1;33m\u001b[0m\u001b[0m\n\u001b[0;32m    298\u001b[0m             \u001b[1;32melse\u001b[0m\u001b[1;33m:\u001b[0m\u001b[1;33m\u001b[0m\u001b[1;33m\u001b[0m\u001b[0m\n",
      "\u001b[1;31mKeyboardInterrupt\u001b[0m: "
     ]
    }
   ],
   "source": [
    "good_accumulated=0\n",
    "all_accumulated=0\n",
    "for ctr,f in enumerate(pairs[:,0]):\n",
    "    pool_class.set_data(f)\n",
    "    s= (pool.map(pool_class.myfu, (lst)))\n",
    "    best_match=df['BridgedBarcode'][np.argmax(s)]\n",
    "    b=pairwise2.align.globalms(best_match,f, 1, -1, -1, -1, penalize_end_gaps=False, one_alignment_only=True)\n",
    "    all_accumulated=all_accumulated+pairs[ctr,1].astype(int)\n",
    "    if(b[0][2]>29):\n",
    "       #print(format_alignment(*b[0]))\n",
    "       good_accumulated=good_accumulated+pairs[ctr,1].astype(int)\n",
    "       print([ctr, good_accumulated/len(C), all_accumulated/len(C)])"
   ]
  },
  {
   "cell_type": "markdown",
   "metadata": {},
   "source": [
    "End of parallel one mismatch finding"
   ]
  },
  {
   "cell_type": "code",
   "execution_count": 53,
   "metadata": {},
   "outputs": [],
   "source": [
    "thecounts=pairs[:,1].astype(int)"
   ]
  },
  {
   "cell_type": "code",
   "execution_count": 62,
   "metadata": {},
   "outputs": [
    {
     "data": {
      "text/plain": [
       "0.14842966328346183"
      ]
     },
     "execution_count": 62,
     "metadata": {},
     "output_type": "execute_result"
    }
   ],
   "source": [
    "np.sum(thecounts[thecounts==1])/np.sum(thecounts)"
   ]
  },
  {
   "cell_type": "code",
   "execution_count": 63,
   "metadata": {},
   "outputs": [
    {
     "data": {
      "text/plain": [
       "0.6008662107501651"
      ]
     },
     "execution_count": 63,
     "metadata": {},
     "output_type": "execute_result"
    }
   ],
   "source": [
    "np.sum(thecounts==1)/len(thecounts)"
   ]
  },
  {
   "cell_type": "markdown",
   "metadata": {},
   "source": [
    "Only 15% of the NGS sequenced barcodes show up only one time, but they represent 60% of the things to search"
   ]
  },
  {
   "cell_type": "markdown",
   "metadata": {},
   "source": [
    "This is good stuff, but it searches each barcode individually, this takes a while, what if we turn all barcodes into one long string"
   ]
  },
  {
   "cell_type": "code",
   "execution_count": 72,
   "metadata": {},
   "outputs": [],
   "source": [
    "the_long_chain=\"\".join([s for s in df['BridgedBarcode']])\n"
   ]
  },
  {
   "cell_type": "code",
   "execution_count": 73,
   "metadata": {},
   "outputs": [
    {
     "ename": "KeyboardInterrupt",
     "evalue": "",
     "output_type": "error",
     "traceback": [
      "\u001b[1;31m---------------------------------------------------------------------------\u001b[0m",
      "\u001b[1;31mKeyboardInterrupt\u001b[0m                         Traceback (most recent call last)",
      "\u001b[1;32m<ipython-input-73-41d15c1e3581>\u001b[0m in \u001b[0;36m<module>\u001b[1;34m\u001b[0m\n\u001b[1;32m----> 1\u001b[1;33m \u001b[0mpairwise2\u001b[0m\u001b[1;33m.\u001b[0m\u001b[0malign\u001b[0m\u001b[1;33m.\u001b[0m\u001b[0mglobalms\u001b[0m\u001b[1;33m(\u001b[0m\u001b[0mthe_long_chain\u001b[0m\u001b[1;33m,\u001b[0m\u001b[0mpairs\u001b[0m\u001b[1;33m[\u001b[0m\u001b[1;36m0\u001b[0m\u001b[1;33m,\u001b[0m\u001b[1;36m0\u001b[0m\u001b[1;33m]\u001b[0m\u001b[1;33m,\u001b[0m \u001b[1;36m1\u001b[0m\u001b[1;33m,\u001b[0m \u001b[1;33m-\u001b[0m\u001b[1;36m1\u001b[0m\u001b[1;33m,\u001b[0m \u001b[1;33m-\u001b[0m\u001b[1;36m1\u001b[0m\u001b[1;33m,\u001b[0m \u001b[1;33m-\u001b[0m\u001b[1;36m1\u001b[0m\u001b[1;33m,\u001b[0m \u001b[0mpenalize_end_gaps\u001b[0m\u001b[1;33m=\u001b[0m\u001b[1;32mFalse\u001b[0m\u001b[1;33m,\u001b[0m \u001b[0mone_alignment_only\u001b[0m\u001b[1;33m=\u001b[0m\u001b[1;32mTrue\u001b[0m\u001b[1;33m)\u001b[0m\u001b[1;33m\u001b[0m\u001b[1;33m\u001b[0m\u001b[0m\n\u001b[0m",
      "\u001b[1;32m~\\Anaconda3\\lib\\site-packages\\Bio\\pairwise2.py\u001b[0m in \u001b[0;36m__call__\u001b[1;34m(self, *args, **keywds)\u001b[0m\n\u001b[0;32m    429\u001b[0m             \u001b[1;34m\"\"\"Call the alignment instance already created.\"\"\"\u001b[0m\u001b[1;33m\u001b[0m\u001b[1;33m\u001b[0m\u001b[0m\n\u001b[0;32m    430\u001b[0m             \u001b[0mkeywds\u001b[0m \u001b[1;33m=\u001b[0m \u001b[0mself\u001b[0m\u001b[1;33m.\u001b[0m\u001b[0mdecode\u001b[0m\u001b[1;33m(\u001b[0m\u001b[1;33m*\u001b[0m\u001b[0margs\u001b[0m\u001b[1;33m,\u001b[0m \u001b[1;33m**\u001b[0m\u001b[0mkeywds\u001b[0m\u001b[1;33m)\u001b[0m\u001b[1;33m\u001b[0m\u001b[1;33m\u001b[0m\u001b[0m\n\u001b[1;32m--> 431\u001b[1;33m             \u001b[1;32mreturn\u001b[0m \u001b[0m_align\u001b[0m\u001b[1;33m(\u001b[0m\u001b[1;33m**\u001b[0m\u001b[0mkeywds\u001b[0m\u001b[1;33m)\u001b[0m\u001b[1;33m\u001b[0m\u001b[1;33m\u001b[0m\u001b[0m\n\u001b[0m\u001b[0;32m    432\u001b[0m \u001b[1;33m\u001b[0m\u001b[0m\n\u001b[0;32m    433\u001b[0m     \u001b[1;32mdef\u001b[0m \u001b[0m__getattr__\u001b[0m\u001b[1;33m(\u001b[0m\u001b[0mself\u001b[0m\u001b[1;33m,\u001b[0m \u001b[0mattr\u001b[0m\u001b[1;33m)\u001b[0m\u001b[1;33m:\u001b[0m\u001b[1;33m\u001b[0m\u001b[1;33m\u001b[0m\u001b[0m\n",
      "\u001b[1;32m~\\Anaconda3\\lib\\site-packages\\Bio\\pairwise2.py\u001b[0m in \u001b[0;36m_align\u001b[1;34m(sequenceA, sequenceB, match_fn, gap_A_fn, gap_B_fn, penalize_extend_when_opening, penalize_end_gaps, align_globally, gap_char, force_generic, score_only, one_alignment_only)\u001b[0m\n\u001b[0;32m    503\u001b[0m                                      \u001b[0mscore_matrix\u001b[0m\u001b[1;33m,\u001b[0m \u001b[0mtrace_matrix\u001b[0m\u001b[1;33m,\u001b[0m\u001b[1;33m\u001b[0m\u001b[1;33m\u001b[0m\u001b[0m\n\u001b[0;32m    504\u001b[0m                                      \u001b[0malign_globally\u001b[0m\u001b[1;33m,\u001b[0m \u001b[0mgap_char\u001b[0m\u001b[1;33m,\u001b[0m\u001b[1;33m\u001b[0m\u001b[1;33m\u001b[0m\u001b[0m\n\u001b[1;32m--> 505\u001b[1;33m                                      one_alignment_only, gap_A_fn, gap_B_fn)\n\u001b[0m\u001b[0;32m    506\u001b[0m     \u001b[1;32mif\u001b[0m \u001b[1;32mnot\u001b[0m \u001b[0malignments\u001b[0m\u001b[1;33m:\u001b[0m\u001b[1;33m\u001b[0m\u001b[1;33m\u001b[0m\u001b[0m\n\u001b[0;32m    507\u001b[0m         \u001b[1;31m# This may happen, see recover_alignments for explanation\u001b[0m\u001b[1;33m\u001b[0m\u001b[1;33m\u001b[0m\u001b[1;33m\u001b[0m\u001b[0m\n",
      "\u001b[1;32m~\\Anaconda3\\lib\\site-packages\\Bio\\pairwise2.py\u001b[0m in \u001b[0;36m_recover_alignments\u001b[1;34m(sequenceA, sequenceB, starts, best_score, score_matrix, trace_matrix, align_globally, gap_char, one_alignment_only, gap_A_fn, gap_B_fn, reverse)\u001b[0m\n\u001b[0;32m    858\u001b[0m                 \u001b[0mrow\u001b[0m \u001b[1;33m-=\u001b[0m \u001b[1;36m1\u001b[0m\u001b[1;33m\u001b[0m\u001b[1;33m\u001b[0m\u001b[0m\n\u001b[0;32m    859\u001b[0m                 \u001b[0mali_seqA\u001b[0m \u001b[1;33m+=\u001b[0m \u001b[0msequenceA\u001b[0m\u001b[1;33m[\u001b[0m\u001b[0mrow\u001b[0m\u001b[1;33m:\u001b[0m\u001b[0mrow\u001b[0m \u001b[1;33m+\u001b[0m \u001b[1;36m1\u001b[0m\u001b[1;33m]\u001b[0m\u001b[1;33m\u001b[0m\u001b[1;33m\u001b[0m\u001b[0m\n\u001b[1;32m--> 860\u001b[1;33m                 \u001b[0mali_seqB\u001b[0m \u001b[1;33m+=\u001b[0m \u001b[0mgap_char\u001b[0m\u001b[1;33m\u001b[0m\u001b[1;33m\u001b[0m\u001b[0m\n\u001b[0m\u001b[0;32m    861\u001b[0m                 \u001b[0mcol_gap\u001b[0m \u001b[1;33m=\u001b[0m \u001b[1;32mTrue\u001b[0m\u001b[1;33m\u001b[0m\u001b[1;33m\u001b[0m\u001b[0m\n\u001b[0;32m    862\u001b[0m             \u001b[1;32melif\u001b[0m \u001b[0mtrace\u001b[0m \u001b[1;32min\u001b[0m \u001b[1;33m(\u001b[0m\u001b[1;36m8\u001b[0m\u001b[1;33m,\u001b[0m \u001b[1;36m24\u001b[0m\u001b[1;33m)\u001b[0m\u001b[1;33m:\u001b[0m  \u001b[1;31m# = row extend = extend gap in seqA\u001b[0m\u001b[1;33m\u001b[0m\u001b[1;33m\u001b[0m\u001b[0m\n",
      "\u001b[1;31mKeyboardInterrupt\u001b[0m: "
     ]
    }
   ],
   "source": [
    "pairwise2.align.globalms(the_long_chain,pairs[0,0], 1, -1, -1, -1, penalize_end_gaps=False, one_alignment_only=True)"
   ]
  }
 ],
 "metadata": {
  "kernelspec": {
   "display_name": "Python 3",
   "language": "python",
   "name": "python3"
  },
  "language_info": {
   "codemirror_mode": {
    "name": "ipython",
    "version": 3
   },
   "file_extension": ".py",
   "mimetype": "text/x-python",
   "name": "python",
   "nbconvert_exporter": "python",
   "pygments_lexer": "ipython3",
   "version": "3.7.7"
  }
 },
 "nbformat": 4,
 "nbformat_minor": 1
}
